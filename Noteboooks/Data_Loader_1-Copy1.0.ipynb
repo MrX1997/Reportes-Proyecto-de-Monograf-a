{
 "cells": [
  {
   "cell_type": "code",
   "execution_count": 1,
   "metadata": {},
   "outputs": [],
   "source": [
    "# Jairo Andres Saavedra Alfonso\n",
    "# 01 de Febrero de 2019\n",
    "# Universidad de Los Andes\n",
    "# Phycis \n",
    "######################__________________Report 01__________________######################"
   ]
  },
  {
   "cell_type": "code",
   "execution_count": 54,
   "metadata": {
    "scrolled": true
   },
   "outputs": [
    {
     "data": {
      "image/png": "[encoded data removed]",
      "text/plain": [
       "<Figure size 360x360 with 3 Axes>"
      ]
     },
     "metadata": {
      "needs_background": "light"
     },
     "output_type": "display_data"
    }
   ],
   "source": [
    "#Packages\n",
    "from astropy.io import fits\n",
    "import numpy as np\n",
    "import matplotlib.pylab as plt\n",
    "import pandas as pd\n",
    "import torch \n",
    "import torch.nn as nn\n",
    "from sklearn.model_selection import train_test_split\n",
    "from torch.autograd import Variable\n",
    "import torch.utils.data\n",
    "from matplotlib.gridspec import GridSpec\n",
    "\n",
    "dta=np.genfromtxt('data.txt')\n",
    "d=dta.reshape(1,-1)\n",
    "\n",
    "y_pred=d[0,:348]\n",
    "y_test=d[0,348:696]\n",
    "\n",
    "\n",
    "# the random data\n",
    "x = y_test\n",
    "y = y_pred\n",
    "\n",
    "\n",
    "fig = plt.figure(figsize=(5,5 ))\n",
    "\n",
    "gs = GridSpec(4,4)\n",
    "\n",
    "ax_joint = fig.add_subplot(gs[1:4,0:3])\n",
    "ax_marg_x = fig.add_subplot(gs[0,0:3])\n",
    "ax_marg_y = fig.add_subplot(gs[1:4,3])\n",
    "\n",
    "ax_joint.scatter(x,y)\n",
    "ax_marg_x.hist(x,70,density=True)\n",
    "ax_marg_y.hist(y,70,density=True,orientation=\"horizontal\")\n",
    "\n",
    "# Turn off tick labels on marginals\n",
    "plt.setp(ax_marg_x.get_xticklabels(), visible=False)\n",
    "plt.setp(ax_marg_y.get_yticklabels(), visible=False)\n",
    "\n",
    "# Set labels on joint\n",
    "ax_joint.set_xlabel('Z_in')\n",
    "ax_joint.set_ylabel('Z_out')\n",
    "plt.savefig('z_invsz_out_58k_QQBAL.jpg')\n",
    "# Set labels on marginals\n",
    "#ax_marg_y.set_xlabel('')\n",
    "#ax_marg_x.set_ylabel('Marginal y label')\n",
    "\n"
   ]
  },
  {
   "cell_type": "code",
   "execution_count": 55,
   "metadata": {},
   "outputs": [
    {
     "name": "stdout",
     "output_type": "stream",
     "text": [
      "10\n"
     ]
    }
   ],
   "source": [
    "N_sample=80000\n",
    "batch_size=480\n",
    "n_iter=1000\n",
    "\n",
    "test_size=0.2 # 20%\n",
    "val_size=0.25 # 25% of trainning size\n",
    "\n",
    "n_train=int(N_sample*(1-test_size)*(1-val_size))\n",
    "epochs = int(n_iter / (n_train / batch_size))\n",
    "print(epochs)"
   ]
  },
  {
   "cell_type": "code",
   "execution_count": 56,
   "metadata": {
    "scrolled": true
   },
   "outputs": [
    {
     "name": "stdout",
     "output_type": "stream",
     "text": [
      "(174,) (174,)\n"
     ]
    },
    {
     "data": {
      "image/png": "[encoded data removed]",
      "text/plain": [
       "<Figure size 360x360 with 3 Axes>"
      ]
     },
     "metadata": {
      "needs_background": "light"
     },
     "output_type": "display_data"
    }
   ],
   "source": [
    "\n",
    "\n",
    "y_pred=d[0,696:870]\n",
    "y_test=d[0,870:1044]\n",
    "\n",
    "print(y_pred.shape,y_test.shape)\n",
    "# the random data\n",
    "x = y_test\n",
    "y = y_pred\n",
    "\n",
    "\n",
    "fig = plt.figure(figsize=(5,5 ))\n",
    "\n",
    "gs = GridSpec(4,4)\n",
    "\n",
    "ax_joint = fig.add_subplot(gs[1:4,0:3])\n",
    "ax_marg_x = fig.add_subplot(gs[0,0:3])\n",
    "ax_marg_y = fig.add_subplot(gs[1:4,3])\n",
    "\n",
    "ax_joint.scatter(x,y)\n",
    "ax_marg_x.hist(x,70,density=True)\n",
    "ax_marg_y.hist(y,70,density=True,orientation=\"horizontal\")\n",
    "\n",
    "# Turn off tick labels on marginals\n",
    "plt.setp(ax_marg_x.get_xticklabels(), visible=False)\n",
    "plt.setp(ax_marg_y.get_yticklabels(), visible=False)\n",
    "\n",
    "# Set labels on joint\n",
    "ax_joint.set_xlabel('Z_in')\n",
    "ax_joint.set_ylabel('Z_out')\n",
    "plt.savefig('z_invsz_out_29k_QSOBAL.jpg')\n",
    "# Set labels on marginals\n",
    "#ax_marg_y.set_xlabel('')\n",
    "#ax_marg_x.set_ylabel('Marginal y label')"
   ]
  },
  {
   "cell_type": "code",
   "execution_count": 57,
   "metadata": {},
   "outputs": [
    {
     "name": "stdout",
     "output_type": "stream",
     "text": [
      "(960,) (0,)\n"
     ]
    },
    {
     "ename": "ValueError",
     "evalue": "x and y must be the same size",
     "output_type": "error",
     "traceback": [
      "\u001b[0;31m---------------------------------------------------------------------------\u001b[0m",
      "\u001b[0;31mValueError\u001b[0m                                Traceback (most recent call last)",
      "\u001b[0;32m<ipython-input-57-4b62eb20ef6e>\u001b[0m in \u001b[0;36m<module>\u001b[0;34m\u001b[0m\n\u001b[1;32m     18\u001b[0m \u001b[0max_marg_y\u001b[0m \u001b[0;34m=\u001b[0m \u001b[0mfig\u001b[0m\u001b[0;34m.\u001b[0m\u001b[0madd_subplot\u001b[0m\u001b[0;34m(\u001b[0m\u001b[0mgs\u001b[0m\u001b[0;34m[\u001b[0m\u001b[0;36m1\u001b[0m\u001b[0;34m:\u001b[0m\u001b[0;36m4\u001b[0m\u001b[0;34m,\u001b[0m\u001b[0;36m3\u001b[0m\u001b[0;34m]\u001b[0m\u001b[0;34m)\u001b[0m\u001b[0;34m\u001b[0m\u001b[0;34m\u001b[0m\u001b[0m\n\u001b[1;32m     19\u001b[0m \u001b[0;34m\u001b[0m\u001b[0m\n\u001b[0;32m---> 20\u001b[0;31m \u001b[0max_joint\u001b[0m\u001b[0;34m.\u001b[0m\u001b[0mscatter\u001b[0m\u001b[0;34m(\u001b[0m\u001b[0mx\u001b[0m\u001b[0;34m,\u001b[0m\u001b[0my\u001b[0m\u001b[0;34m)\u001b[0m\u001b[0;34m\u001b[0m\u001b[0;34m\u001b[0m\u001b[0m\n\u001b[0m\u001b[1;32m     21\u001b[0m \u001b[0max_marg_x\u001b[0m\u001b[0;34m.\u001b[0m\u001b[0mhist\u001b[0m\u001b[0;34m(\u001b[0m\u001b[0mx\u001b[0m\u001b[0;34m,\u001b[0m\u001b[0;36m70\u001b[0m\u001b[0;34m,\u001b[0m\u001b[0mdensity\u001b[0m\u001b[0;34m=\u001b[0m\u001b[0;32mTrue\u001b[0m\u001b[0;34m)\u001b[0m\u001b[0;34m\u001b[0m\u001b[0;34m\u001b[0m\u001b[0m\n\u001b[1;32m     22\u001b[0m \u001b[0max_marg_y\u001b[0m\u001b[0;34m.\u001b[0m\u001b[0mhist\u001b[0m\u001b[0;34m(\u001b[0m\u001b[0my\u001b[0m\u001b[0;34m,\u001b[0m\u001b[0;36m70\u001b[0m\u001b[0;34m,\u001b[0m\u001b[0mdensity\u001b[0m\u001b[0;34m=\u001b[0m\u001b[0;32mTrue\u001b[0m\u001b[0;34m,\u001b[0m\u001b[0morientation\u001b[0m\u001b[0;34m=\u001b[0m\u001b[0;34m\"horizontal\"\u001b[0m\u001b[0;34m)\u001b[0m\u001b[0;34m\u001b[0m\u001b[0;34m\u001b[0m\u001b[0m\n",
      "\u001b[0;32m~/anaconda3/lib/python3.7/site-packages/matplotlib/__init__.py\u001b[0m in \u001b[0;36minner\u001b[0;34m(ax, data, *args, **kwargs)\u001b[0m\n\u001b[1;32m   1808\u001b[0m                         \u001b[0;34m\"the Matplotlib list!)\"\u001b[0m \u001b[0;34m%\u001b[0m \u001b[0;34m(\u001b[0m\u001b[0mlabel_namer\u001b[0m\u001b[0;34m,\u001b[0m \u001b[0mfunc\u001b[0m\u001b[0;34m.\u001b[0m\u001b[0m__name__\u001b[0m\u001b[0;34m)\u001b[0m\u001b[0;34m,\u001b[0m\u001b[0;34m\u001b[0m\u001b[0;34m\u001b[0m\u001b[0m\n\u001b[1;32m   1809\u001b[0m                         RuntimeWarning, stacklevel=2)\n\u001b[0;32m-> 1810\u001b[0;31m             \u001b[0;32mreturn\u001b[0m \u001b[0mfunc\u001b[0m\u001b[0;34m(\u001b[0m\u001b[0max\u001b[0m\u001b[0;34m,\u001b[0m \u001b[0;34m*\u001b[0m\u001b[0margs\u001b[0m\u001b[0;34m,\u001b[0m \u001b[0;34m**\u001b[0m\u001b[0mkwargs\u001b[0m\u001b[0;34m)\u001b[0m\u001b[0;34m\u001b[0m\u001b[0;34m\u001b[0m\u001b[0m\n\u001b[0m\u001b[1;32m   1811\u001b[0m \u001b[0;34m\u001b[0m\u001b[0m\n\u001b[1;32m   1812\u001b[0m         inner.__doc__ = _add_data_doc(inner.__doc__,\n",
      "\u001b[0;32m~/anaconda3/lib/python3.7/site-packages/matplotlib/axes/_axes.py\u001b[0m in \u001b[0;36mscatter\u001b[0;34m(self, x, y, s, c, marker, cmap, norm, vmin, vmax, alpha, linewidths, verts, edgecolors, **kwargs)\u001b[0m\n\u001b[1;32m   4180\u001b[0m         \u001b[0my\u001b[0m \u001b[0;34m=\u001b[0m \u001b[0mnp\u001b[0m\u001b[0;34m.\u001b[0m\u001b[0mma\u001b[0m\u001b[0;34m.\u001b[0m\u001b[0mravel\u001b[0m\u001b[0;34m(\u001b[0m\u001b[0my\u001b[0m\u001b[0;34m)\u001b[0m\u001b[0;34m\u001b[0m\u001b[0;34m\u001b[0m\u001b[0m\n\u001b[1;32m   4181\u001b[0m         \u001b[0;32mif\u001b[0m \u001b[0mx\u001b[0m\u001b[0;34m.\u001b[0m\u001b[0msize\u001b[0m \u001b[0;34m!=\u001b[0m \u001b[0my\u001b[0m\u001b[0;34m.\u001b[0m\u001b[0msize\u001b[0m\u001b[0;34m:\u001b[0m\u001b[0;34m\u001b[0m\u001b[0;34m\u001b[0m\u001b[0m\n\u001b[0;32m-> 4182\u001b[0;31m             \u001b[0;32mraise\u001b[0m \u001b[0mValueError\u001b[0m\u001b[0;34m(\u001b[0m\u001b[0;34m\"x and y must be the same size\"\u001b[0m\u001b[0;34m)\u001b[0m\u001b[0;34m\u001b[0m\u001b[0;34m\u001b[0m\u001b[0m\n\u001b[0m\u001b[1;32m   4183\u001b[0m \u001b[0;34m\u001b[0m\u001b[0m\n\u001b[1;32m   4184\u001b[0m         \u001b[0;32mif\u001b[0m \u001b[0ms\u001b[0m \u001b[0;32mis\u001b[0m \u001b[0;32mNone\u001b[0m\u001b[0;34m:\u001b[0m\u001b[0;34m\u001b[0m\u001b[0;34m\u001b[0m\u001b[0m\n",
      "\u001b[0;31mValueError\u001b[0m: x and y must be the same size"
     ]
    },
    {
     "data": {
      "image/png": "[encoded data removed]",
      "text/plain": [
       "<Figure size 360x360 with 3 Axes>"
      ]
     },
     "metadata": {
      "needs_background": "light"
     },
     "output_type": "display_data"
    }
   ],
   "source": [
    "\n",
    "\n",
    "y_pred=d[0,1044:9044]\n",
    "y_test=d[0,9044:]\n",
    "\n",
    "print(y_pred.shape,y_test.shape)\n",
    "# the random data\n",
    "x = y_test\n",
    "y = y_pred\n",
    "\n",
    "\n",
    "fig = plt.figure(figsize=(5,5 ))\n",
    "\n",
    "gs = GridSpec(4,4)\n",
    "\n",
    "ax_joint = fig.add_subplot(gs[1:4,0:3])\n",
    "ax_marg_x = fig.add_subplot(gs[0,0:3])\n",
    "ax_marg_y = fig.add_subplot(gs[1:4,3])\n",
    "\n",
    "ax_joint.scatter(x,y)\n",
    "ax_marg_x.hist(x,70,density=True)\n",
    "ax_marg_y.hist(y,70,density=True,orientation=\"horizontal\")\n",
    "\n",
    "# Turn off tick labels on marginals\n",
    "plt.setp(ax_marg_x.get_xticklabels(), visible=False)\n",
    "plt.setp(ax_marg_y.get_yticklabels(), visible=False)\n",
    "\n",
    "# Set labels on joint\n",
    "ax_joint.set_xlabel('Z_in')\n",
    "ax_joint.set_ylabel('Z_out')\n",
    "plt.savefig('z_invsz_out_29k_QSOBAL.jpg')\n",
    "# Set labels on marginals\n",
    "#ax_marg_y.set_xlabel('')\n",
    "#ax_marg_x.set_ylabel('Marginal y label')"
   ]
  },
  {
   "cell_type": "code",
   "execution_count": 2,
   "metadata": {
    "scrolled": false
   },
   "outputs": [],
   "source": [
    "\n",
    "def Load_Files(file_1,file_2,N_sample=20000,classification=True):\n",
    "    hdul = fits.open(file_1) # Open file 1 -- 'truth_DR12Q.fits'\n",
    "    info=hdul.info() # File info\n",
    "    columns=hdul[1].columns # File Columns \n",
    "    print(info,'/n',columns)\n",
    "    data=hdul[1].data # Database of spectra with human-expert classifications \n",
    "\n",
    "    # Reading data from data_dr12.fits. This file had the spectra from data dr12. \n",
    "    hdul_2 = fits.open(file_2) # Open file 2 -- 'data_dr12.fits'\n",
    "    info=hdul_2.info() # File info \n",
    "    columns=hdul_2[1].columns # File Columns\n",
    "    print(hdul,'/n',columns)\n",
    "    data2=hdul_2[1].data # Database of spectra\n",
    "    spectra=hdul_2[0].data # Spectrum of each object \n",
    "    \n",
    "    # Subset of PLATE parameters of both data\n",
    "    data_PLATE_1=data['PLATE']\n",
    "    data_PLATE_2=data2['PLATE']\n",
    "\n",
    "    # Subset of MJD parameters of both data\n",
    "    data_MJD_1=data['MJD']\n",
    "    data_MJD_2=data2['MJD']\n",
    "\n",
    "    # Subset of FIBERID parameters of both data\n",
    "    data_FIBERID_1=data['FIBERID']\n",
    "    data_FIBERID_2=data2['FIBERID']\n",
    "    data_ID_1=data['THING_ID']\n",
    "    data_ID_2=data2['TARGETID']\n",
    "    \n",
    "    # The column 'CLASS_PERSON' have a class identifier for each spectrum: STARS=1, GALAXY=4, QSO=3 and QSO_BAL=30.\n",
    "    C_P=data['CLASS_PERSON'] #Class Person column \n",
    "    STAR=C_P[C_P==1] # objects classified as stars\n",
    "    GALAXY=C_P[C_P==4] # objects classified as galaxies \n",
    "    QSO=C_P[C_P==3] # objects classified as QSO (Quasars)\n",
    "    QSO_BAL=C_P[C_P==30] # objects classified as QSO BAL (Quasars with Broad Absortions Lines)\n",
    "    N_C=C_P[C_P!=30]   \n",
    "    N_C=N_C[N_C!=3]\n",
    "    N_C=N_C[N_C!=1]\n",
    "    N_C=N_C[N_C!=4] # objects wrong classified\n",
    "    print('Star:',STAR.shape)\n",
    "    print('Galaxy:',GALAXY.shape)\n",
    "    print('QSO:',QSO.shape)\n",
    "    print('QSO BAL:',QSO_BAL.shape)\n",
    "    print('NN:',N_C.shape)\n",
    "    \n",
    "    # I create two DataFrame for Superset_DR12Q and data_dr12 with only three parameters\n",
    "    data1={'PLATE':data_PLATE_1,'MJD':data_MJD_1,'FIBERID':data_FIBERID_1,'ID':data_ID_1}\n",
    "    data1=pd.DataFrame(data=data1)\n",
    "\n",
    "    data2={'PLATE':data_PLATE_2,'MJD':data_MJD_2,'FIBERID':data_FIBERID_2,'ID':data_ID_2}\n",
    "    data2=pd.DataFrame(data=data2)\n",
    "\n",
    "    # I convert all objects in both set to string chain in orden to combine them as one new ID.\n",
    "    data1['PLATE']=data1['PLATE'].astype(str)\n",
    "    data1['MJD']=data1['MJD'].astype(str)\n",
    "    data1['FIBERID']=data1['FIBERID'].astype(str)\n",
    "    data1['PM'] = data1['MJD'].str.cat(data1['FIBERID'],sep=\"-\")\n",
    "    data1['NEWID'] = data1['PLATE'].str.cat(data1['PM'],sep=\"-\")\n",
    "    data_1=data1.drop(columns=['PLATE','MJD','FIBERID','ID','PM']).values\n",
    "\n",
    "    data2['PLATE']=data2['PLATE'].astype(str)\n",
    "    data2['MJD']=data2['MJD'].astype(str)\n",
    "    data2['FIBERID']=data2['FIBERID'].astype(str)\n",
    "    data2['PM'] = data2['MJD'].str.cat(data2['FIBERID'],sep=\"-\")\n",
    "    data2['NEWID'] = data2['PLATE'].str.cat(data2['PM'],sep=\"-\")\n",
    "    data_2=data2.drop(columns=['PLATE','MJD','FIBERID','ID','PM']).values # New set of database 2 with new ID's\n",
    "    print(data_2.shape)\n",
    "\n",
    "    # With the routine of numpy intersect1d, I find the intersections elements in both sets. This elements  \n",
    "    data_CO=np.array(np.intersect1d(data_1,data_2,return_indices=True))\n",
    "\n",
    "    data_CO_objects=data_CO[0] # The unique new ID of each element in both sets\n",
    "    data_CO_ind1=data_CO[1] # Indices of intersected elements from the original data 1 (Superset_DR12Q.fits) \n",
    "    data_CO_ind2=data_CO[2] # Indices of intersected elements form the original data 2 (data_dr12.fits)\n",
    "    print('I find',len(data_CO_objects),'objects with spectra from DR12')\n",
    "    print(data_CO_ind1,data_CO_ind2)\n",
    "    indi={'ind1':data_CO_ind1,'ind2':data_CO_ind2}\n",
    "    ind=pd.DataFrame(data=indi,index=data_CO_ind1)\n",
    "\n",
    "    cp=np.array(data['CLASS_PERSON'],dtype=float)\n",
    "    z=np.array(data['Z_VI'],dtype=float)\n",
    "    zc=np.array(data['Z_CONF_PERSON'],dtype=float)\n",
    "    bal=np.array(data['BAL_FLAG_VI'],dtype=float)\n",
    "    bi=np.array(data['BI_CIV'],dtype=float)\n",
    "\n",
    "    d={'CLASS_PERSON':cp,'Z_VI':z,'Z_CONF_PERSON':zc,'BAL_FLAG_VI':bal,'BI_CIV':bi}\n",
    "    data_0=pd.DataFrame(data=d)#.values #super database\n",
    "    obj=data_0.loc[data_CO_ind1]\n",
    "\n",
    "    print(obj.shape)\n",
    "    # Sample of objects. I chosen 2500 object per class. \n",
    "    stars=obj.loc[obj['CLASS_PERSON']==1]\n",
    "    galaxies=obj.loc[obj['CLASS_PERSON']==4]\n",
    "    qsos=obj.loc[obj['CLASS_PERSON']==3]\n",
    "    qsos_bal=obj.loc[obj['CLASS_PERSON']==30]\n",
    "\n",
    "    sample_star=stars.sample(n=int(N_sample/4),weights='CLASS_PERSON', random_state=5)\n",
    "    sample_galaxy=galaxies.sample(n=int(N_sample/4),weights='CLASS_PERSON', random_state=5)\n",
    "    sample_qso=qsos.sample(n=int(N_sample/4),weights='CLASS_PERSON', random_state=5)\n",
    "    sample_qso_bal=qsos_bal.sample(n=int(N_sample/4),weights='CLASS_PERSON', random_state=5)\n",
    "\n",
    "    sample_objects=pd.concat([sample_star,sample_galaxy,sample_qso,sample_qso_bal])\n",
    "\n",
    "    ind_star=np.array(sample_star.index)\n",
    "    ind_galaxy=np.array(sample_galaxy.index)\n",
    "    ind_qso=np.array(sample_qso.index)\n",
    "    ind_qso_bal=np.array(sample_qso_bal.index)\n",
    "\n",
    "    indi=np.concatenate((ind_star, ind_galaxy,ind_qso,ind_qso_bal), axis=None)\n",
    "    indi1=ind.loc[indi].values\n",
    "    #print(indi)\n",
    "\n",
    "    spectra_=np.zeros((N_sample,443))\n",
    "    j=0\n",
    "    for i in indi:\n",
    "        k=indi1[j,1]\n",
    "        spectra_[j,:]=np.log(abs(spectra[k,:443]))\n",
    "        j=j+1    \n",
    "    spectra_=pd.DataFrame(spectra_)\n",
    "    X=spectra_.replace(-np.inf,0)\n",
    "\n",
    "\n",
    "    X=X.values # Spectra\n",
    "    \n",
    "    if(classification!=True):\n",
    "        y=sample_objects['Z_VI']\n",
    "        y=np.array(y,dtype=float)\n",
    "        return X,y\n",
    "    else:  \n",
    "        y=sample_objects['CLASS_PERSON']\n",
    "        y=y.replace([1, 4, 3, 30], [0,1,2,3]).values\n",
    "        y=np.array(y,dtype=float)\n",
    "        return X,y"
   ]
  },
  {
   "cell_type": "code",
   "execution_count": 43,
   "metadata": {},
   "outputs": [
    {
     "name": "stdout",
     "output_type": "stream",
     "text": [
      "(174,) (174,)\n"
     ]
    },
    {
     "data": {
      "image/png": "[encoded data removed]",
      "text/plain": [
       "<Figure size 360x360 with 3 Axes>"
      ]
     },
     "metadata": {
      "needs_background": "light"
     },
     "output_type": "display_data"
    }
   ],
   "source": [
    "\n",
    "\n",
    "y_pred=d[0,696:870]\n",
    "y_test=d[0,870:]\n",
    "\n",
    "print(y_pred.shape,y_test.shape)\n",
    "# the random data\n",
    "x = y_test\n",
    "y = y_pred\n",
    "\n",
    "\n",
    "fig = plt.figure(figsize=(5,5 ))\n",
    "\n",
    "gs = GridSpec(4,4)\n",
    "\n",
    "ax_joint = fig.add_subplot(gs[1:4,0:3])\n",
    "ax_marg_x = fig.add_subplot(gs[0,0:3])\n",
    "ax_marg_y = fig.add_subplot(gs[1:4,3])\n",
    "\n",
    "ax_joint.scatter(x,y)\n",
    "ax_marg_x.hist(x,70,density=True)\n",
    "ax_marg_y.hist(y,70,density=True,orientation=\"horizontal\")\n",
    "\n",
    "# Turn off tick labels on marginals\n",
    "plt.setp(ax_marg_x.get_xticklabels(), visible=False)\n",
    "plt.setp(ax_marg_y.get_yticklabels(), visible=False)\n",
    "\n",
    "# Set labels on joint\n",
    "ax_joint.set_xlabel('Z_in')\n",
    "ax_joint.set_ylabel('Z_out')\n",
    "plt.savefig('z_invsz_out_29k_QSOBAL.jpg')\n",
    "# Set labels on marginals\n",
    "#ax_marg_y.set_xlabel('')\n",
    "#ax_marg_x.set_ylabel('Marginal y label')"
   ]
  },
  {
   "cell_type": "code",
   "execution_count": null,
   "metadata": {},
   "outputs": [],
   "source": [
    "def Loader(X,y,N_sample=20000,epoc=10):\n",
    "    \n",
    "    X_train, X_test, y_train, y_test = train_test_split(X, y, test_size=0.2, random_state=42)\n",
    "    batch_size=int(N_sample/epoc)\n",
    "    X_train, X_val, y_train, y_val = train_test_split(X_train, y_train, test_size=0.25, random_state=1)\n",
    "    train_data = []\n",
    "    for i in range(y_train.shape[0]):\n",
    "        xt=X_train[i,:].reshape(1,-1)\n",
    "        train_data.append([Variable(torch.tensor([xt], dtype=torch.float)), y_train[i]])\n",
    "    \n",
    "    train_loader = torch.utils.data.DataLoader(train_data, shuffle=True, batch_size=batch_size)\n",
    "\n",
    "    test_data = []\n",
    "    for i in range(y_test.shape[0]):\n",
    "        xtst=X_test[i,:].reshape(1,-1)\n",
    "        test_data.append([Variable(torch.tensor([xtst], dtype=torch.float)), y_test[i]])\n",
    "    \n",
    "    test_loader = torch.utils.data.DataLoader(test_data, shuffle=True, batch_size=batch_size)\n",
    "    \n",
    "    val_data = []\n",
    "    for i in range(y_val.shape[0]):\n",
    "        xv=X_val[i,:].reshape(1,-1)\n",
    "        val_data.append([Variable(torch.tensor([xv], dtype=torch.float)), y_val[i]])\n",
    "    \n",
    "    val_loader = torch.utils.data.DataLoader(val_data, shuffle=True, batch_size=batch_size)\n",
    "    return train_loader,test_loader,val_loader\n",
    "\n"
   ]
  }
 ],
 "metadata": {
  "kernelspec": {
   "display_name": "Python 3",
   "language": "python",
   "name": "python3"
  },
  "language_info": {
   "codemirror_mode": {
    "name": "ipython",
    "version": 3
   },
   "file_extension": ".py",
   "mimetype": "text/x-python",
   "name": "python",
   "nbconvert_exporter": "python",
   "pygments_lexer": "ipython3",
   "version": "3.7.1"
  }
 },
 "nbformat": 4,
 "nbformat_minor": 2
}
