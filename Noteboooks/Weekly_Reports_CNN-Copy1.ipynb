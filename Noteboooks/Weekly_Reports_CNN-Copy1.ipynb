{
 "cells": [
  {
   "cell_type": "code",
   "execution_count": 1,
   "metadata": {},
   "outputs": [],
   "source": [
    "# Jairo Andres Saavedra Alfonso\n",
    "# 01 de Febrero de 2019\n",
    "# Universidad de Los Andes\n",
    "# Phycis \n",
    "######################__________________Report 01__________________######################\n"
   ]
  },
  {
   "cell_type": "code",
   "execution_count": 2,
   "metadata": {},
   "outputs": [],
   "source": [
    "#Packages\n",
    "from astropy.io import fits\n",
    "import numpy as np\n",
    "import matplotlib.pylab as plt\n",
    "import pandas as pd\n",
    "from astropy.table import Table"
   ]
  },
  {
   "cell_type": "code",
   "execution_count": 3,
   "metadata": {
    "scrolled": false
   },
   "outputs": [
    {
     "name": "stdout",
     "output_type": "stream",
     "text": [
      "Filename: truth_DR12Q.fits\n",
      "No.    Name      Ver    Type      Cards   Dimensions   Format\n",
      "  0  PRIMARY       1 PrimaryHDU       6   ()      \n",
      "  1                1 BinTableHDU     27   546856R x 9C   [J, D, J, J, J, J, J, D, D]   \n",
      "None /n ColDefs(\n",
      "    name = 'THING_ID'; format = 'J'\n",
      "    name = 'Z_VI'; format = 'D'\n",
      "    name = 'PLATE'; format = 'J'\n",
      "    name = 'MJD'; format = 'J'\n",
      "    name = 'FIBERID'; format = 'J'\n",
      "    name = 'CLASS_PERSON'; format = 'J'\n",
      "    name = 'Z_CONF_PERSON'; format = 'J'\n",
      "    name = 'BAL_FLAG_VI'; format = 'D'\n",
      "    name = 'BI_CIV'; format = 'D'\n",
      ")\n"
     ]
    }
   ],
   "source": [
    "# Reading data from truth_DR12Q.fits. This file have the database sample of spectra with human-expert classifitacion\n",
    "\n",
    "hdul = fits.open('truth_DR12Q.fits') # Open file\n",
    "info=hdul.info() # File info\n",
    "columns=hdul[1].columns # File Columns \n",
    "print(info,'/n',columns)\n",
    "data=hdul[1].data # Database of spectra with human-expert classifications "
   ]
  },
  {
   "cell_type": "code",
   "execution_count": 4,
   "metadata": {
    "scrolled": false
   },
   "outputs": [
    {
     "name": "stdout",
     "output_type": "stream",
     "text": [
      "Filename: data_dr12.fits\n",
      "No.    Name      Ver    Type      Cards   Dimensions   Format\n",
      "  0  PRIMARY       1 PrimaryHDU       8   (886, 639464)   float64   \n",
      "  1                1 BinTableHDU     16   639464R x 4C   [J, J, J, J]   \n",
      "[<astropy.io.fits.hdu.image.PrimaryHDU object at 0x7f7f98842748>, <astropy.io.fits.hdu.table.BinTableHDU object at 0x7f7f98842fd0>] /n ColDefs(\n",
      "    name = 'TARGETID'; format = 'J'\n",
      "    name = 'PLATE'; format = 'J'\n",
      "    name = 'MJD'; format = 'J'\n",
      "    name = 'FIBERID'; format = 'J'\n",
      ")\n",
      "[ 87897905  96906927  96907939 ... 505037917 506611870 510289698]\n",
      "[357405338 353907506  33180814 ... 352121795 401440280 401440241]\n",
      "(536684,)\n"
     ]
    },
    {
     "data": {
      "image/png": "[encoded data removed]",
      "text/plain": [
       "<Figure size 432x288 with 1 Axes>"
      ]
     },
     "metadata": {
      "needs_background": "light"
     },
     "output_type": "display_data"
    }
   ],
   "source": [
    "# Reading data from data_dr12.fits. This file had the spectra from data dr12. \n",
    "hdul_2 = fits.open('data_dr12.fits') # Open file\n",
    "info=hdul_2.info() # File info \n",
    "columns=hdul_2[1].columns # File Columns \n",
    "print(hdul,'/n',columns)\n",
    "data2=hdul_2[1].data # Database of spectra\n",
    "spectra=hdul_2[0].data # Spectrum of each object \n",
    "\n",
    "\n",
    "# The Spectra in this database have three main parameters: Plate ID, The modified julian day and fiber ID of the observation.\n",
    "# Let's take a look of the first spectrum.\n",
    "x=np.linspace(360,1000,443) # I cut the sample to 443 pixels in spaced log-wavelength.  \n",
    "#x=np.linspace(0,886,886)\n",
    "zero_spectrum=spectra[12030] #First spectrum\n",
    "zero_spectrum=zero_spectrum[:443]\n",
    "\n",
    "PLATE=data2['PLATE'] # Spectra's Plate ID\n",
    "MJD=data2['MJD'] # Spectra's the modified juliam day\n",
    "FIBERID=data2['FIBERID'] # Spectra's fiber ID\n",
    "\n",
    "zero_plate=PLATE[0] # zero spectrum Plate ID\n",
    "zero_mjd=MJD[0] # zero spectrum MJD\n",
    "zero_fiberid=FIBERID[0] # zero spectrum Fiber ID\n",
    "param = 'Plate = {:.2f}, mjd = {:.2f}, fiberid={:.2f}'.format(zero_plate, zero_mjd, zero_fiberid)\n",
    "plt.plot(x,np.log(zero_spectrum))\n",
    "plt.xlabel('Wavelength [nm]')\n",
    "plt.ylabel('Log-Flux [arb. units]')\n",
    "plt.title(param)\n",
    "plt.xlim([360,1000])\n",
    "plt.savefig('spectrum.png')\n",
    "plt.grid()\n",
    "\n",
    "# I noticed that each object and spectrum don't have the same label. So it's imposible to make some ID correlations.  \n",
    "print(data2['TARGETID'])\n",
    "print(data['THING_ID'])\n",
    "da=np.intersect1d(data2['TARGETID'],data['THING_ID'])\n",
    "print(da.shape)\n",
    "\n",
    "# So, in orden to make a correlation betwen identified object and spectrum we need to use all three parameters (Plate ID, MJD, FiberID)"
   ]
  },
  {
   "cell_type": "code",
   "execution_count": 5,
   "metadata": {},
   "outputs": [
    {
     "name": "stdout",
     "output_type": "stream",
     "text": [
      "(639464,)\n"
     ]
    }
   ],
   "source": [
    "print(data2.shape)"
   ]
  },
  {
   "cell_type": "code",
   "execution_count": 6,
   "metadata": {},
   "outputs": [
    {
     "name": "stdout",
     "output_type": "stream",
     "text": [
      "Number of Plates use in both datasets: (2401,)\n",
      "Number of MJD use in both datasets: (681,)\n",
      "Number of FIBERID use in both datasets: (1000,)\n",
      "Number of FIBERID use in both datasets: (536684,)\n"
     ]
    }
   ],
   "source": [
    "######################__________________Report 02__________________######################\n",
    "\n",
    "## This week I pretend to find some correaltions betwen objects with human-expert classification and spretum from DR12\n",
    "\n",
    "# Subset of PLATE parameters of both data\n",
    "data_PLATE_1=data['PLATE']\n",
    "data_PLATE_2=data2['PLATE']\n",
    "\n",
    "# Subset of MJD parameters of both data\n",
    "data_MJD_1=data['MJD']\n",
    "data_MJD_2=data2['MJD']\n",
    "\n",
    "# Subset of FIBERID parameters of both data\n",
    "data_FIBERID_1=data['FIBERID']\n",
    "data_FIBERID_2=data2['FIBERID']\n",
    "\n",
    "# Subset of FIBERID parameters of both data\n",
    "data_ID_1=data['THING_ID']\n",
    "data_ID_2=data2['TARGETID']\n",
    "\n",
    "# I make here an intersecting set for all three parameters (PLATE, MJD, FIBERID) in both data.\n",
    "data_PLATE_CO=np.intersect1d(data_PLATE_1,data_PLATE_2)\n",
    "data_MJD_CO=np.intersect1d(data_MJD_1,data_MJD_2)\n",
    "data_FIBERID_CO=np.intersect1d(data_FIBERID_1,data_FIBERID_2)\n",
    "data_ID_CO=np.intersect1d(data_ID_1,data_ID_2)\n",
    "\n",
    "# As we can see, in both database, there is a correlation betwen the number of Plates, the modified julian day and the Fiber ID. \n",
    "print('Number of Plates use in both datasets:',data_PLATE_CO.shape)\n",
    "print('Number of MJD use in both datasets:',data_MJD_CO.shape)\n",
    "print('Number of FIBERID use in both datasets:',data_FIBERID_CO.shape)\n",
    "print('Number of FIBERID use in both datasets:',data_ID_CO.shape)\n",
    "#print(data_PLATE_1.dtype)"
   ]
  },
  {
   "cell_type": "code",
   "execution_count": 7,
   "metadata": {
    "scrolled": true
   },
   "outputs": [],
   "source": []
  },
  {
   "cell_type": "code",
   "execution_count": 8,
   "metadata": {
    "scrolled": true
   },
   "outputs": [
    {
     "name": "stdout",
     "output_type": "stream",
     "text": [
      "(546856, 1)\n",
      "(639464, 1)\n"
     ]
    }
   ],
   "source": [
    "# I create two DataFrame for Superset_DR12Q and data_dr12 with only three parameters\n",
    "data1={'PLATE':data_PLATE_1,'MJD':data_MJD_1,'FIBERID':data_FIBERID_1,'ID':data_ID_1}\n",
    "data1=pd.DataFrame(data=data1)\n",
    "\n",
    "data2={'PLATE':data_PLATE_2,'MJD':data_MJD_2,'FIBERID':data_FIBERID_2,'ID':data_ID_2}\n",
    "data2=pd.DataFrame(data=data2)\n",
    "\n",
    "# I convert all objects in both set to string chain in orden to combine them as one new ID.\n",
    "data1['PLATE']=data1['PLATE'].astype(str)\n",
    "data1['MJD']=data1['MJD'].astype(str)\n",
    "data1['FIBERID']=data1['FIBERID'].astype(str)\n",
    "data1['PM'] = data1['MJD'].str.cat(data1['FIBERID'],sep=\"-\")\n",
    "data1['NEWID'] = data1['PLATE'].str.cat(data1['PM'],sep=\"-\")\n",
    "data_1=data1.drop(columns=['PLATE','MJD','FIBERID','ID','PM']).values\n",
    "\n",
    "\n",
    "# New set of database 2 with new ID's \n",
    "print(data_1.shape)\n",
    "\n",
    "\n",
    "data2['PLATE']=data2['PLATE'].astype(str)\n",
    "data2['MJD']=data2['MJD'].astype(str)\n",
    "data2['FIBERID']=data2['FIBERID'].astype(str)\n",
    "data2['PM'] = data2['MJD'].str.cat(data2['FIBERID'],sep=\"-\")\n",
    "data2['NEWID'] = data2['PLATE'].str.cat(data2['PM'],sep=\"-\")\n",
    "data_2=data2.drop(columns=['PLATE','MJD','FIBERID','ID','PM']).values # New set of database 2 with new ID's\n",
    "print(data_2.shape)\n",
    "\n",
    "# With the routine of numpy intersect1d, I find the intersections elements in both sets. This elements  \n",
    "data_CO=np.array(np.intersect1d(data_1,data_2,return_indices=True))\n",
    "\n",
    "data_CO_objects=data_CO[0] # The unique new ID of each element in both sets\n",
    "data_CO_ind1=data_CO[1] # Indices of intersected elements from the original data 1 (Superset_DR12Q.fits) \n",
    "data_CO_ind2=data_CO[2] # Indices of intersected elements form the original data 2 (data_dr12.fits)\n",
    "print('I find',len(data_CO_objects),'objects with spectra from DR12')\n",
    "print(data_CO_ind1,data_CO_ind2)\n",
    "indi={'ind1':data_CO_ind1,'ind2':data_CO_ind2}\n",
    "ind=pd.DataFrame(data=indi,index=data_CO_ind1)\n",
    "\n"
   ]
  },
  {
   "cell_type": "code",
   "execution_count": 9,
   "metadata": {
    "scrolled": true
   },
   "outputs": [
    {
     "name": "stdout",
     "output_type": "stream",
     "text": [
      "I find 537677 objects with spectra from DR12\n",
      "[17792 17931 17610 ... 457655 459274 457504] [25 26 29 ... 639461 639462 639463]\n"
     ]
    }
   ],
   "source": []
  },
  {
   "cell_type": "code",
   "execution_count": 10,
   "metadata": {
    "scrolled": false
   },
   "outputs": [
    {
     "name": "stdout",
     "output_type": "stream",
     "text": [
      "(537677, 5)\n"
     ]
    }
   ],
   "source": [
    "# Now that I know which object have a spectrum. I can make a unique database of objects\n",
    "hdul = fits.open('truth_DR12Q.fits')\n",
    "#hdul2 = fits.open('data_dr12.fits')\n",
    "data=hdul[1].data\n",
    "info=hdul[1].columns\n",
    "\n",
    "#ti=np.array(data['THING_ID'],dtype=float)\n",
    "#pl=np.array(data['PLATE'],dtype=float)\n",
    "#mjd=np.array(data['MJD'],dtype=float)\n",
    "#fid=np.array(data['FIBERID'],dtype=float)\n",
    "cp=np.array(data['CLASS_PERSON'],dtype=float)\n",
    "z=np.array(data['Z_VI'],dtype=float)\n",
    "zc=np.array(data['Z_CONF_PERSON'],dtype=float)\n",
    "bal=np.array(data['BAL_FLAG_VI'],dtype=float)\n",
    "bi=np.array(data['BI_CIV'],dtype=float)\n",
    "\n",
    "d={'CLASS_PERSON':cp,'Z_VI':z,'Z_CONF_PERSON':zc,'BAL_FLAG_VI':bal,'BI_CIV':bi}\n",
    "data_0=pd.DataFrame(data=d)#.values #super database\n",
    "obj=data_0.loc[data_CO_ind1]\n",
    "\n",
    "print(obj.shape)\n",
    "\n"
   ]
  },
  {
   "cell_type": "code",
   "execution_count": 11,
   "metadata": {},
   "outputs": [
    {
     "name": "stdout",
     "output_type": "stream",
     "text": [
      "Stars: (207905,)\n",
      "Galaxies: (20699,)\n",
      "QSO: (270534,)\n",
      "QSO BAL: (29652,)\n",
      "No class: (8887,)\n"
     ]
    }
   ],
   "source": [
    "######################__________________Report 03__________________######################\n",
    "\n",
    "\n",
    "# Balance of classes \n",
    "C_P=obj['CLASS_PERSON'] #Class Person column \n",
    "STAR=C_P[C_P==1] # objects classified as stars\n",
    "GALAXY=C_P[C_P==4] # objects classified as galaxies \n",
    "QSO=C_P[C_P==3] # objects classified as QSO (Quasars)\n",
    "QSO_BAL=C_P[C_P==30] # objects classified as QSO BAL (Quasars with Broad Absortions Lines)\n",
    "N_C=C_P[C_P!=30]   \n",
    "N_C=N_C[N_C!=3]\n",
    "N_C=N_C[N_C!=1]\n",
    "N_C=N_C[N_C!=4] # objects wrong classified\n",
    "print('Stars:',STAR.shape)\n",
    "print('Galaxies:',GALAXY.shape)\n",
    "print('QSO:',QSO.shape)\n",
    "print('QSO BAL:',QSO_BAL.shape)\n",
    "print('No class:',N_C.shape)"
   ]
  },
  {
   "cell_type": "code",
   "execution_count": 12,
   "metadata": {
    "scrolled": false
   },
   "outputs": [
    {
     "name": "stdout",
     "output_type": "stream",
     "text": [
      "(528790, 5)\n"
     ]
    }
   ],
   "source": [
    "# Preprocessing. I remove non-classified objects also objects with negative redshift.  \n",
    "stars=obj.loc[obj['CLASS_PERSON']==1]\n",
    "galaxies=obj.loc[obj['CLASS_PERSON']==4]\n",
    "qsos=obj.loc[obj['CLASS_PERSON']==3]\n",
    "qsos_bal=obj.loc[obj['CLASS_PERSON']==30]\n",
    "\n",
    "frames=[stars,galaxies,qsos,qsos_bal]\n",
    "new_obj=pd.concat(frames)#, keys=['stars', 'galaxies', 'qso','qso_bal'])\n",
    "\n",
    "#new_obj=new_obj.loc[new_obj['Z_VI']!=0]\n",
    "obj=new_obj.loc[new_obj['Z_CONF_PERSON']!=0]\n",
    "#indio=np.array(obj.index)\n",
    "#for i in range(len(indio)):\n",
    "#    print(indio[i])\n",
    "print(obj.shape)"
   ]
  },
  {
   "cell_type": "code",
   "execution_count": 13,
   "metadata": {
    "scrolled": true
   },
   "outputs": [
    {
     "name": "stdout",
     "output_type": "stream",
     "text": [
      "(639464, 886) (20000,)\n"
     ]
    }
   ],
   "source": [
    "# Sample of objects. I chosen 250 object per class. \n",
    "stars=obj.loc[obj['CLASS_PERSON']==1]\n",
    "galaxies=obj.loc[obj['CLASS_PERSON']==4]\n",
    "qsos=obj.loc[obj['CLASS_PERSON']==3]\n",
    "qsos_bal=obj.loc[obj['CLASS_PERSON']==30]\n",
    "\n",
    "N_sample=30000\n",
    "epoc=10\n",
    "batch_size=int(N_sample/epoc)\n",
    "\n",
    "\n",
    "sample_star=stars.sample(n=int(N_sample/4),weights='CLASS_PERSON', random_state=5)\n",
    "sample_galaxy=galaxies.sample(n=int(N_sample/4),weights='CLASS_PERSON', random_state=6)\n",
    "sample_qso=qsos.sample(n=int(N_sample/4),weights='CLASS_PERSON', random_state=7)\n",
    "sample_qso_bal=qsos_bal.sample(n=int(N_sample/4),weights='CLASS_PERSON', random_state=2)\n",
    "\n",
    "sample_objects=pd.concat([sample_star,sample_galaxy,sample_qso,sample_qso_bal])\n",
    "\n",
    "ind_star=np.array(sample_star.index)\n",
    "ind_galaxy=np.array(sample_galaxy.index)\n",
    "ind_qso=np.array(sample_qso.index)\n",
    "ind_qso_bal=np.array(sample_qso_bal.index)\n",
    "\n",
    "indi=np.concatenate((ind_star, ind_galaxy,ind_qso,ind_qso_bal), axis=None)\n",
    "indi1=ind.loc[indi].values\n",
    "#print(indi)\n",
    "\n",
    "print(spectra.shape,indi.shape)\n"
   ]
  },
  {
   "cell_type": "code",
   "execution_count": 14,
   "metadata": {},
   "outputs": [
    {
     "name": "stderr",
     "output_type": "stream",
     "text": [
      "/home/steingate/anaconda3/lib/python3.7/site-packages/ipykernel_launcher.py:14: RuntimeWarning: divide by zero encountered in log10\n",
      "  \n"
     ]
    },
    {
     "name": "stdout",
     "output_type": "stream",
     "text": [
      "(1, 443) (20000,)\n"
     ]
    }
   ],
   "source": [
    "hdul_2 = fits.open('data_dr12.fits') # Open file\n",
    "data2=hdul_2[1].data # Database of spectra\n",
    "spectra=hdul_2[0].data # Spectrum of each object \n",
    "\n",
    "spectra_=np.zeros((N_sample,443))\n",
    "\n",
    "j=0\n",
    "for i in indi:\n",
    "    k=indi1[j,1]\n",
    "    #mflux = np.ma.average(spectra[k,:443], weights=spectra[k,443:])\n",
    "    #ll=(spectra[k,:443]-mflux)**2\n",
    "    #aveflux=np.ma.average(ll, weights=spectra[k,443:])\n",
    "    #sflux = np.sqrt(aveflux)\n",
    "    spectra_[j,:]=np.log10(abs((spectra[k,:443])))#-mflux)/sflux))\n",
    "    j=j+1    \n",
    "    \n",
    "spectra_=pd.DataFrame(spectra_)\n",
    "X=spectra_.replace(-np.inf,0)\n",
    "\n",
    "\n",
    "X=X.values\n",
    "\n",
    "y=sample_objects['CLASS_PERSON']\n",
    "y=y.replace([1, 4, 3, 30], [0,1,2,3]).values\n",
    "y=np.array(y,dtype=float)\n",
    "#y=y.values.reshape(-1,1)\n",
    "#sample_objects.loc[sample_objects['CLASS_PERSON'] == 1] = \"Star\"\n",
    "print(X[0,:].reshape(1,-1).shape,y.shape) "
   ]
  },
  {
   "cell_type": "code",
   "execution_count": 15,
   "metadata": {
    "scrolled": false
   },
   "outputs": [
    {
     "data": {
      "text/plain": [
       "\"\\n# Reading data from data_dr12.fits. This file had the spectra from data dr12. \\nhdul_2 = fits.open('data_dr12.fits') # Open file\\ninfo=hdul_2.info() # File info \\ncolumns=hdul_2[1].columns # File Columns \\nprint(hdul,'/n',columns)\\ndata2=hdul_2[1].data # Database of spectra\\nspectra=hdul_2[0].data # Spectrum of each object \\n\\n\\n# The Spectra in this database have three main parameters: Plate ID, The modified julian day and fiber ID of the observation.\\n# Let's take a look of the first spectrum.\\nx=np.linspace(360,1000,443) # I cut the sample to 443 pixels in spaced log-wavelength.  \\n#x=np.linspace(0,886,886)\\n#zero_spectrum=spectra[12030] #First spectrum\\n#zero_spectrum=zero_spectrum[:443]\\n\\nPLATE=data2['PLATE'] # Spectra's Plate ID\\nMJD=data2['MJD'] # Spectra's the modified juliam day\\nFIBERID=data2['FIBERID'] # Spectra's fiber ID\\n\\nindex=[ind_star[0],ind_galaxy[0],ind_qso[10],ind_qso_bal[0]]\\nprint(index)\\nn=0\\nfor i in index:\\n    sp=spectra[i]\\n    plate=PLATE[i]\\n    mjd=MJD[i]\\n    fiberid=FIBERID[i] \\n    tar=obj.loc[i]\\n    param = 'Plate = {:.2f}, mjd = {:.2f}, fiberid={:.2f}\\n Z={:.2f}'.format(plate, mjd, fiberid,tar[1])\\n    plt.plot(x,np.log(abs(sp[:443])))\\n    plt.xlabel('Wavelength [nm]')\\n    plt.ylabel('Log-Flux [arb. units]')\\n    plt.title(param)\\n    plt.xlim([360,1000])\\n    plt.grid()\\n    sav='spectro{:.2f}.jpg'.format(n)\\n    plt.savefig(sav)\\n    n+=1\\n    plt.show()\\n\\n    print(tar[1])\\n    \\n#buscar aqui los objetos de QuasarNET\\n\""
      ]
     },
     "execution_count": 15,
     "metadata": {},
     "output_type": "execute_result"
    }
   ],
   "source": [
    "\n",
    "\"\"\"\n",
    "# Reading data from data_dr12.fits. This file had the spectra from data dr12. \n",
    "hdul_2 = fits.open('data_dr12.fits') # Open file\n",
    "info=hdul_2.info() # File info \n",
    "columns=hdul_2[1].columns # File Columns \n",
    "print(hdul,'/n',columns)\n",
    "data2=hdul_2[1].data # Database of spectra\n",
    "spectra=hdul_2[0].data # Spectrum of each object \n",
    "\n",
    "\n",
    "# The Spectra in this database have three main parameters: Plate ID, The modified julian day and fiber ID of the observation.\n",
    "# Let's take a look of the first spectrum.\n",
    "x=np.linspace(360,1000,443) # I cut the sample to 443 pixels in spaced log-wavelength.  \n",
    "#x=np.linspace(0,886,886)\n",
    "#zero_spectrum=spectra[12030] #First spectrum\n",
    "#zero_spectrum=zero_spectrum[:443]\n",
    "\n",
    "PLATE=data2['PLATE'] # Spectra's Plate ID\n",
    "MJD=data2['MJD'] # Spectra's the modified juliam day\n",
    "FIBERID=data2['FIBERID'] # Spectra's fiber ID\n",
    "\n",
    "index=[ind_star[0],ind_galaxy[0],ind_qso[10],ind_qso_bal[0]]\n",
    "print(index)\n",
    "n=0\n",
    "for i in index:\n",
    "    sp=spectra[i]\n",
    "    plate=PLATE[i]\n",
    "    mjd=MJD[i]\n",
    "    fiberid=FIBERID[i] \n",
    "    tar=obj.loc[i]\n",
    "    param = 'Plate = {:.2f}, mjd = {:.2f}, fiberid={:.2f}\\n Z={:.2f}'.format(plate, mjd, fiberid,tar[1])\n",
    "    plt.plot(x,np.log(abs(sp[:443])))\n",
    "    plt.xlabel('Wavelength [nm]')\n",
    "    plt.ylabel('Log-Flux [arb. units]')\n",
    "    plt.title(param)\n",
    "    plt.xlim([360,1000])\n",
    "    plt.grid()\n",
    "    sav='spectro{:.2f}.jpg'.format(n)\n",
    "    plt.savefig(sav)\n",
    "    n+=1\n",
    "    plt.show()\n",
    "\n",
    "    print(tar[1])\n",
    "    \n",
    "#buscar aqui los objetos de QuasarNET\n",
    "\"\"\""
   ]
  },
  {
   "cell_type": "code",
   "execution_count": 16,
   "metadata": {},
   "outputs": [
    {
     "name": "stdout",
     "output_type": "stream",
     "text": [
      "[0. 0. 0. ... 3. 3. 3.]\n"
     ]
    }
   ],
   "source": [
    "print(y)"
   ]
  },
  {
   "cell_type": "code",
   "execution_count": 17,
   "metadata": {
    "scrolled": true
   },
   "outputs": [],
   "source": [
    "######################__________________Report 05__________________######################\n",
    "\n",
    "# my first Neural Network. SpectraNET :}\n",
    "\n",
    "import torch \n",
    "import torch.nn as nn\n",
    "from sklearn.model_selection import train_test_split\n",
    "from torch.autograd import Variable\n",
    "\n",
    "\n",
    "X_train, X_test, y_train, y_test = train_test_split(X, y, test_size=0.2, random_state=42)\n",
    "\n",
    "#X_train, X_val, y_train, y_val = train_test_split(X_train, y_train, test_size=0.25, random_state=1)\n",
    "\n"
   ]
  },
  {
   "cell_type": "code",
   "execution_count": 18,
   "metadata": {},
   "outputs": [
    {
     "name": "stdout",
     "output_type": "stream",
     "text": [
      "torch.Size([2000, 1, 443]) torch.Size([2000])\n"
     ]
    }
   ],
   "source": [
    "import torch.utils.data\n",
    "\n",
    "train_data = []\n",
    "for i in range(y_train.shape[0]):\n",
    "    xt=X_train[i,:].reshape(1,-1)\n",
    "    train_data.append([Variable(torch.tensor(xt, dtype=torch.float)), torch.tensor(y_train[i], dtype=torch.long)])\n",
    "    \n",
    "train_loader = torch.utils.data.DataLoader(train_data, shuffle=True, batch_size=batch_size)\n",
    "i1, l1 = next(iter(train_loader))\n",
    "print(i1.shape,l1.shape)\n"
   ]
  },
  {
   "cell_type": "code",
   "execution_count": 19,
   "metadata": {},
   "outputs": [
    {
     "name": "stdout",
     "output_type": "stream",
     "text": [
      "torch.Size([2000, 1, 443]) torch.Size([2000])\n"
     ]
    }
   ],
   "source": [
    "test_data = []\n",
    "for i in range(y_test.shape[0]):\n",
    "    xtst=X_test[i,:].reshape(1,-1)\n",
    "    test_data.append([Variable(torch.tensor(xtst, dtype=torch.float)), torch.tensor(y_test[i], dtype=torch.long)])\n",
    "    \n",
    "test_loader = torch.utils.data.DataLoader(test_data, shuffle=True, batch_size=batch_size)\n",
    "i1, l1 = next(iter(test_loader))\n",
    "print(i1.shape,l1.shape)"
   ]
  },
  {
   "cell_type": "code",
   "execution_count": 20,
   "metadata": {},
   "outputs": [
    {
     "data": {
      "text/plain": [
       "'\\ntest_data = []\\nfor i in range(y_test.shape[0]):\\n    xtst=X_test[i,:].reshape(1,-1)\\n    test_data.append([Variable(torch.tensor(xtst, dtype=torch.float)), torch.tensor(y_test[i], dtype=torch.long)])\\n    \\ntest_loader = torch.utils.data.DataLoader(test_data, shuffle=True, batch_size=batch_size)\\ni1, l1 = next(iter(test_loader))\\nprint(i1.shape,l1.shape)\\n'"
      ]
     },
     "execution_count": 20,
     "metadata": {},
     "output_type": "execute_result"
    }
   ],
   "source": [
    "\"\"\"\n",
    "test_data = []\n",
    "for i in range(y_test.shape[0]):\n",
    "    xtst=X_test[i,:].reshape(1,-1)\n",
    "    test_data.append([Variable(torch.tensor(xtst, dtype=torch.float)), torch.tensor(y_test[i], dtype=torch.long)])\n",
    "    \n",
    "test_loader = torch.utils.data.DataLoader(test_data, shuffle=True, batch_size=batch_size)\n",
    "i1, l1 = next(iter(test_loader))\n",
    "print(i1.shape,l1.shape)\n",
    "\"\"\"\n"
   ]
  },
  {
   "cell_type": "code",
   "execution_count": 20,
   "metadata": {},
   "outputs": [],
   "source": [
    "from astropy.io import fits\n",
    "import numpy as np\n",
    "import matplotlib.pylab as plt\n",
    "import pandas as pd\n",
    "import torch \n",
    "import torch.nn as nn\n",
    "from sklearn.model_selection import train_test_split\n",
    "from torch.autograd import Variable\n",
    "import torch.utils.data\n",
    "\n",
    "def Load_Files(file_1,file_2,N_sample=20000,classification=True):\n",
    "    hdul = fits.open(file_1) # Open file 1 -- 'truth_DR12Q.fits'\n",
    "    info=hdul.info() # File info\n",
    "    columns=hdul[1].columns # File Columns \n",
    "    print(info,'/n',columns)\n",
    "    data=hdul[1].data # Database of spectra with human-expert classifications \n",
    "\n",
    "    # Reading data from data_dr12.fits. This file had the spectra from data dr12. \n",
    "    hdul_2 = fits.open(file_2) # Open file 2 -- 'data_dr12.fits'\n",
    "    info=hdul_2.info() # File info \n",
    "    columns=hdul_2[1].columns # File Columns\n",
    "    print(hdul,'/n',columns)\n",
    "    data2=hdul_2[1].data # Database of spectra\n",
    "    spectra=hdul_2[0].data # Spectrum of each object \n",
    "    \n",
    "    # Subset of PLATE parameters of both data\n",
    "    data_PLATE_1=data['PLATE']\n",
    "    data_PLATE_2=data2['PLATE']\n",
    "\n",
    "    # Subset of MJD parameters of both data\n",
    "    data_MJD_1=data['MJD']\n",
    "    data_MJD_2=data2['MJD']\n",
    "\n",
    "    # Subset of FIBERID parameters of both data\n",
    "    data_FIBERID_1=data['FIBERID']\n",
    "    data_FIBERID_2=data2['FIBERID']\n",
    "    data_ID_1=data['THING_ID']\n",
    "    data_ID_2=data2['TARGETID']\n",
    "    \n",
    "    # The column 'CLASS_PERSON' have a class identifier for each spectrum: STARS=1, GALAXY=4, QSO=3 and QSO_BAL=30.\n",
    "    C_P=data['CLASS_PERSON'] #Class Person column \n",
    "    STAR=C_P[C_P==1] # objects classified as stars\n",
    "    GALAXY=C_P[C_P==4] # objects classified as galaxies \n",
    "    QSO=C_P[C_P==3] # objects classified as QSO (Quasars)\n",
    "    QSO_BAL=C_P[C_P==30] # objects classified as QSO BAL (Quasars with Broad Absortions Lines)\n",
    "    N_C=C_P[C_P!=30]   \n",
    "    N_C=N_C[N_C!=3]\n",
    "    N_C=N_C[N_C!=1]\n",
    "    N_C=N_C[N_C!=4] # objects wrong classified\n",
    "    print('Star:',STAR.shape)\n",
    "    print('Galaxy:',GALAXY.shape)\n",
    "    print('QSO:',QSO.shape)\n",
    "    print('QSO BAL:',QSO_BAL.shape)\n",
    "    print('NN:',N_C.shape)\n",
    "    \n",
    "    # I create two DataFrame for Superset_DR12Q and data_dr12 with only three parameters\n",
    "    data1={'PLATE':data_PLATE_1,'MJD':data_MJD_1,'FIBERID':data_FIBERID_1,'ID':data_ID_1}\n",
    "    data1=pd.DataFrame(data=data1)\n",
    "\n",
    "    data2={'PLATE':data_PLATE_2,'MJD':data_MJD_2,'FIBERID':data_FIBERID_2,'ID':data_ID_2}\n",
    "    data2=pd.DataFrame(data=data2)\n",
    "\n",
    "    # I convert all objects in both set to string chain in orden to combine them as one new ID.\n",
    "    data1['PLATE']=data1['PLATE'].astype(str)\n",
    "    data1['MJD']=data1['MJD'].astype(str)\n",
    "    data1['FIBERID']=data1['FIBERID'].astype(str)\n",
    "    data1['PM'] = data1['MJD'].str.cat(data1['FIBERID'],sep=\"-\")\n",
    "    data1['NEWID'] = data1['PLATE'].str.cat(data1['PM'],sep=\"-\")\n",
    "    data_1=data1.drop(columns=['PLATE','MJD','FIBERID','ID','PM']).values\n",
    "\n",
    "    data2['PLATE']=data2['PLATE'].astype(str)\n",
    "    data2['MJD']=data2['MJD'].astype(str)\n",
    "    data2['FIBERID']=data2['FIBERID'].astype(str)\n",
    "    data2['PM'] = data2['MJD'].str.cat(data2['FIBERID'],sep=\"-\")\n",
    "    data2['NEWID'] = data2['PLATE'].str.cat(data2['PM'],sep=\"-\")\n",
    "    data_2=data2.drop(columns=['PLATE','MJD','FIBERID','ID','PM']).values # New set of database 2 with new ID's\n",
    "    print(data_2.shape)\n",
    "\n",
    "    # With the routine of numpy intersect1d, I find the intersections elements in both sets. This elements  \n",
    "    data_CO=np.array(np.intersect1d(data_1,data_2,return_indices=True))\n",
    "\n",
    "    data_CO_objects=data_CO[0] # The unique new ID of each element in both sets\n",
    "    data_CO_ind1=data_CO[1] # Indices of intersected elements from the original data 1 (Superset_DR12Q.fits) \n",
    "    data_CO_ind2=data_CO[2] # Indices of intersected elements form the original data 2 (data_dr12.fits)\n",
    "    print('I find',len(data_CO_objects),'objects with spectra from DR12')\n",
    "    print(data_CO_ind1,data_CO_ind2)\n",
    "    indi={'ind1':data_CO_ind1,'ind2':data_CO_ind2}\n",
    "    ind=pd.DataFrame(data=indi,index=data_CO_ind1)\n",
    "\n",
    "    cp=np.array(data['CLASS_PERSON'],dtype=float)\n",
    "    z=np.array(data['Z_VI'],dtype=float)\n",
    "    zc=np.array(data['Z_CONF_PERSON'],dtype=float)\n",
    "    bal=np.array(data['BAL_FLAG_VI'],dtype=float)\n",
    "    bi=np.array(data['BI_CIV'],dtype=float)\n",
    "\n",
    "    d={'CLASS_PERSON':cp,'Z_VI':z,'Z_CONF_PERSON':zc,'BAL_FLAG_VI':bal,'BI_CIV':bi}\n",
    "    data_0=pd.DataFrame(data=d)#.values #super database\n",
    "    obj=data_0.loc[data_CO_ind1]\n",
    "\n",
    "    print(obj.shape)\n",
    "    # Sample of objects. I chosen 2500 object per class. \n",
    "    stars=obj.loc[obj['CLASS_PERSON']==1]\n",
    "    galaxies=obj.loc[obj['CLASS_PERSON']==4]\n",
    "    qsos=obj.loc[obj['CLASS_PERSON']==3]\n",
    "    qsos_bal=obj.loc[obj['CLASS_PERSON']==30]\n",
    "\n",
    "    sample_star=stars.sample(n=int(N_sample/4),weights='CLASS_PERSON', random_state=5)\n",
    "    sample_galaxy=galaxies.sample(n=int(N_sample/4),weights='CLASS_PERSON', random_state=5)\n",
    "    sample_qso=qsos.sample(n=int(N_sample/4),weights='CLASS_PERSON', random_state=5)\n",
    "    sample_qso_bal=qsos_bal.sample(n=int(N_sample/4),weights='CLASS_PERSON', random_state=5)\n",
    "\n",
    "    sample_objects=pd.concat([sample_star,sample_galaxy,sample_qso,sample_qso_bal])\n",
    "\n",
    "    ind_star=np.array(sample_star.index)\n",
    "    ind_galaxy=np.array(sample_galaxy.index)\n",
    "    ind_qso=np.array(sample_qso.index)\n",
    "    ind_qso_bal=np.array(sample_qso_bal.index)\n",
    "\n",
    "    indi=np.concatenate((ind_star, ind_galaxy,ind_qso,ind_qso_bal), axis=None)\n",
    "    indi1=ind.loc[indi].values\n",
    "    #print(indi)\n",
    "\n",
    "    spectra_=np.zeros((N_sample,443))\n",
    "    j=0\n",
    "    for i in indi:\n",
    "        k=indi1[j,1]\n",
    "        spectra_[j,:]=np.log(abs(spectra[k,:443]))\n",
    "        j=j+1    \n",
    "    spectra_=pd.DataFrame(spectra_)\n",
    "    X=spectra_.replace(-np.inf,0)\n",
    "\n",
    "\n",
    "    X=X.values # Spectra\n",
    "    \n",
    "    if(classification!=True):\n",
    "        y=sample_objects['Z_VI']\n",
    "        y=np.array(y,dtype=float)\n",
    "        return X,y\n",
    "    else:  \n",
    "        y=sample_objects['CLASS_PERSON']\n",
    "        y=y.replace([1, 4, 3, 30], [0,1,2,3]).values\n",
    "        y=np.array(y,dtype=float)\n",
    "        return X,y"
   ]
  },
  {
   "cell_type": "code",
   "execution_count": 24,
   "metadata": {},
   "outputs": [],
   "source": [
    "def Loader(X,y,N_sample=20000,epoc=10):\n",
    "    \n",
    "    batch_size=int(N_sample/epoc)\n",
    "    \n",
    "    X_train, X_test, y_train, y_test = train_test_split(X, y, test_size=0.2, random_state=42)\n",
    "    X_train, X_val, y_train, y_val = train_test_split(X_train, y_train, test_size=0.25, random_state=1)\n",
    "    \n",
    "    train_data = []\n",
    "    \n",
    "    for i in range(y_train.shape[0]):\n",
    "        xt=X_train[i,:].reshape(1,-1)\n",
    "        train_data.append([Variable(torch.tensor(xt, dtype=torch.float)), torch.tensor(y_train[i], dtype=torch.long)])\n",
    "    \n",
    "    train_loader = torch.utils.data.DataLoader(train_data, shuffle=True, batch_size=batch_size)\n",
    "\n",
    "    test_data = []\n",
    "    for i in range(y_test.shape[0]):\n",
    "        xtst=X_test[i,:].reshape(1,-1)\n",
    "        test_data.append([Variable(torch.tensor(xtst, dtype=torch.float)), torch.tensor(y_test[i], dtype=torch.long)])\n",
    "    \n",
    "    test_loader = torch.utils.data.DataLoader(test_data, shuffle=True, batch_size=batch_size)\n",
    "    \n",
    "    val_data = []\n",
    "    for i in range(y_val.shape[0]):\n",
    "        xv=X_val[i,:].reshape(1,-1)\n",
    "        val_data.append([Variable(torch.tensor(xv, dtype=torch.float)), torch.tensor(y_val[i], dtype=torch.long)])\n",
    "    \n",
    "    val_loader = torch.utils.data.DataLoader(val_data, shuffle=True, batch_size=batch_size)\n",
    "    return train_loader,test_loader,val_loader"
   ]
  },
  {
   "cell_type": "code",
   "execution_count": 25,
   "metadata": {},
   "outputs": [
    {
     "name": "stdout",
     "output_type": "stream",
     "text": [
      "Filename: truth_DR12Q.fits\n",
      "No.    Name      Ver    Type      Cards   Dimensions   Format\n",
      "  0  PRIMARY       1 PrimaryHDU       6   ()      \n",
      "  1                1 BinTableHDU     27   546856R x 9C   [J, D, J, J, J, J, J, D, D]   \n",
      "None /n ColDefs(\n",
      "    name = 'THING_ID'; format = 'J'\n",
      "    name = 'Z_VI'; format = 'D'\n",
      "    name = 'PLATE'; format = 'J'\n",
      "    name = 'MJD'; format = 'J'\n",
      "    name = 'FIBERID'; format = 'J'\n",
      "    name = 'CLASS_PERSON'; format = 'J'\n",
      "    name = 'Z_CONF_PERSON'; format = 'J'\n",
      "    name = 'BAL_FLAG_VI'; format = 'D'\n",
      "    name = 'BI_CIV'; format = 'D'\n",
      ")\n",
      "Filename: data_dr12.fits\n",
      "No.    Name      Ver    Type      Cards   Dimensions   Format\n",
      "  0  PRIMARY       1 PrimaryHDU       8   (886, 639464)   float64   \n",
      "  1                1 BinTableHDU     16   639464R x 4C   [J, J, J, J]   \n",
      "[<astropy.io.fits.hdu.image.PrimaryHDU object at 0x7f02e16a6fd0>, <astropy.io.fits.hdu.table.BinTableHDU object at 0x7f01c2c688d0>] /n ColDefs(\n",
      "    name = 'TARGETID'; format = 'J'\n",
      "    name = 'PLATE'; format = 'J'\n",
      "    name = 'MJD'; format = 'J'\n",
      "    name = 'FIBERID'; format = 'J'\n",
      ")\n",
      "Star: (207915,)\n",
      "Galaxy: (22795,)\n",
      "QSO: (270686,)\n",
      "QSO BAL: (29659,)\n",
      "NN: (15801,)\n",
      "(639464, 1)\n",
      "I find 537677 objects with spectra from DR12\n",
      "[17792 17931 17610 ... 457655 459274 457504] [25 26 29 ... 639461 639462 639463]\n",
      "(537677, 5)\n"
     ]
    },
    {
     "name": "stderr",
     "output_type": "stream",
     "text": [
      "/home/steingate/anaconda3/lib/python3.7/site-packages/ipykernel_launcher.py:127: RuntimeWarning: divide by zero encountered in log\n"
     ]
    }
   ],
   "source": [
    "X,y=Load_Files('truth_DR12Q.fits','data_dr12.fits',N_sample=20000,classification=True)\n",
    "train_loader,test_loader,val_loader=Loader(X,y,N_sample=20000,epoc=10)"
   ]
  },
  {
   "cell_type": "code",
   "execution_count": 26,
   "metadata": {
    "scrolled": true
   },
   "outputs": [
    {
     "name": "stdout",
     "output_type": "stream",
     "text": [
      "Net(\n",
      "  (conv1): Conv1d(1, 100, kernel_size=(10,), stride=(2,))\n",
      "  (conv2): Conv1d(100, 100, kernel_size=(10,), stride=(2,))\n",
      "  (conv3): Conv1d(100, 100, kernel_size=(10,), stride=(2,))\n",
      "  (conv4): Conv1d(100, 100, kernel_size=(10,), stride=(2,))\n",
      "  (pool): MaxPool1d(kernel_size=2, stride=1, padding=0, dilation=1, ceil_mode=False)\n",
      "  (fc1): Linear(in_features=1800, out_features=16, bias=True)\n",
      "  (fc2): Linear(in_features=16, out_features=4, bias=True)\n",
      ")\n",
      "Finished Training\n"
     ]
    },
    {
     "name": "stderr",
     "output_type": "stream",
     "text": [
      "/home/steingate/anaconda3/lib/python3.7/site-packages/ipykernel_launcher.py:35: UserWarning: Implicit dimension choice for log_softmax has been deprecated. Change the call to include dim=X as an argument.\n"
     ]
    },
    {
     "name": "stdout",
     "output_type": "stream",
     "text": [
      "0 1.3874688148498535\n",
      "1 2.767642021179199\n",
      "2 4.1316609382629395\n",
      "3 5.484070181846619\n",
      "4 6.824437141418457\n",
      "5 8.125621795654297\n",
      "0 1.2975345849990845\n",
      "1 2.576548457145691\n",
      "2 3.844681143760681\n",
      "3 5.093807578086853\n",
      "4 6.326760649681091\n",
      "5 7.5423743724823\n",
      "0 1.2079722881317139\n",
      "1 2.3844164609909058\n",
      "2 3.538949131965637\n",
      "3 4.6710638999938965\n",
      "4 5.752697944641113\n",
      "5 6.81868052482605\n",
      "0 1.0165553092956543\n",
      "1 1.992371916770935\n",
      "2 2.9773935079574585\n",
      "3 3.9167532324790955\n",
      "4 4.838084042072296\n",
      "5 5.794525384902954\n",
      "0 0.9666631817817688\n",
      "1 1.851479172706604\n",
      "2 2.753343105316162\n",
      "3 3.627561867237091\n",
      "4 4.475330054759979\n",
      "5 5.346321165561676\n",
      "0 0.7998954057693481\n",
      "1 1.620369791984558\n",
      "2 2.401349663734436\n",
      "3 3.1787281036376953\n",
      "4 3.947839856147766\n",
      "5 4.667463958263397\n",
      "0 0.762728214263916\n",
      "1 1.5111482739448547\n",
      "2 2.464438557624817\n",
      "3 3.18178391456604\n",
      "4 4.0206053256988525\n",
      "5 4.76045286655426\n",
      "0 0.7269543409347534\n",
      "1 1.5012619495391846\n",
      "2 2.256326198577881\n",
      "3 2.9773610830307007\n",
      "4 3.7057759761810303\n",
      "5 4.410092890262604\n",
      "0 0.6715760827064514\n",
      "1 1.4114947319030762\n",
      "2 2.0680317282676697\n",
      "3 2.735780715942383\n",
      "4 3.3835718631744385\n",
      "5 3.9665985107421875\n",
      "0 0.6452934741973877\n",
      "1 1.234475553035736\n",
      "2 1.8360294699668884\n",
      "3 2.455441415309906\n",
      "4 3.055629789829254\n",
      "5 3.595257818698883\n"
     ]
    }
   ],
   "source": [
    "# CNN for classification\n",
    "import torch\n",
    "from torch.autograd import Variable\n",
    "import torch.nn as nn\n",
    "import torch.nn.functional as F\n",
    "import torch.optim as optim\n",
    "from sklearn.metrics import precision_recall_fscore_support\n",
    "\n",
    "learning_rate=0.01\n",
    "log_interval=10\n",
    "epoc=10\n",
    "class Net(nn.Module):\n",
    "    def __init__(self):\n",
    "        super(Net, self).__init__()\n",
    "        self.conv1 = nn.Conv1d(1, 100, 10,stride=2)\n",
    "        self.conv2 = nn.Conv1d(100, 100, 10,stride=2)\n",
    "        self.conv3 = nn.Conv1d(100, 100, 10,stride=2)\n",
    "        self.conv4 = nn.Conv1d(100, 100, 10,stride=2)\n",
    "        self.pool = nn.MaxPool1d(2, 1)\n",
    "        self.fc1 = nn.Linear(1800, 16)\n",
    "        #self.fc1 = nn.Linear(10300, 16)\n",
    "        self.fc2 = nn.Linear(16, 4)\n",
    "\n",
    "\n",
    "    def forward(self, x):\n",
    "        in_size = x.size(0)\n",
    "        x = self.pool(F.relu(self.conv1(x)))\n",
    "        x = self.pool(F.relu(self.conv2(x)))\n",
    "        x = self.pool(F.relu(self.conv3(x)))\n",
    "        x = self.pool(F.relu(self.conv4(x)))\n",
    "        x = x.view(in_size, -1)\n",
    "        x = F.relu(self.fc1(x))        \n",
    "        x = self.fc2(x)\n",
    "        #print(x.shape)\n",
    "        return F.log_softmax(x)\n",
    "    \n",
    "net = Net()\n",
    "print(net)\n",
    "\n",
    "criterion = nn.CrossEntropyLoss()\n",
    "optimizer = optim.Adam(net.parameters(), lr=0.001)\n",
    "\n",
    "def train(epoch):\n",
    "    #model.train()\n",
    "    running_loss = 0.0\n",
    "    for batch_idx, (data, target) in enumerate(train_loader,0):\n",
    "        data, target = Variable(data), Variable(target)\n",
    "        #print(data.shape,target.shape)\n",
    "        #images=data[batch_idx,0]\n",
    "        #plt.imshow(images)\n",
    "        #plt.show()\n",
    "        \n",
    "        optimizer.zero_grad()\n",
    "        \n",
    "        output = net(data)\n",
    "        #print(output,'target',target)\n",
    "        loss = criterion(output, target)\n",
    "        loss.backward()\n",
    "        optimizer.step()\n",
    "        \n",
    "        running_loss += loss.item()\n",
    "        print(batch_idx,running_loss)\n",
    "        #if(batch_idx !=0):    # print every 2000 mini-batches\n",
    "            #print('[%d, %5d] loss: %.3f' %(epoch + 1, i + 1, running_loss / 1000))\n",
    "            #running_loss = 0.0\n",
    "    \n",
    "\n",
    "print('Finished Training')\n",
    "        \n",
    "for i in range(epoc):\n",
    "    train(i)\n",
    "\n"
   ]
  },
  {
   "cell_type": "code",
   "execution_count": 27,
   "metadata": {
    "scrolled": true
   },
   "outputs": [
    {
     "name": "stderr",
     "output_type": "stream",
     "text": [
      "/home/steingate/anaconda3/lib/python3.7/site-packages/ipykernel_launcher.py:35: UserWarning: Implicit dimension choice for log_softmax has been deprecated. Change the call to include dim=X as an argument.\n"
     ]
    },
    {
     "name": "stdout",
     "output_type": "stream",
     "text": [
      "Accuracy of the network on the 5000 test images: 78 %\n",
      "torch.Size([2000])\n",
      "torch.Size([2000])\n",
      "tensor([2, 3, 3,  ..., 2, 0, 2])\n"
     ]
    }
   ],
   "source": [
    "correct = 0\n",
    "total = 0\n",
    "d=[]\n",
    "d1=[]\n",
    "with torch.no_grad():\n",
    "    for data in test_loader:\n",
    "        images, labels = data\n",
    "        outputs = net(images)\n",
    "        _, predicted = torch.max(outputs.data, 1)\n",
    "        #print(predicted,predicted.shape)\n",
    "        d.append(predicted)\n",
    "        d1.append(labels)\n",
    "        total += labels.size(0)\n",
    "        correct += (predicted == labels).sum().item()\n",
    "        \n",
    "\n",
    "print('Accuracy of the network on the test images: %d %%' % (100 * correct / total))\n",
    "#d=np.asarray(d)\n",
    "print(d[0].shape)\n",
    "print(d1[0].shape)\n",
    "y_pred=torch.cat((d[0],d[1]),0)\n",
    "y_test=torch.cat((d1[0],d1[1]),0)\n",
    "print(y_pred)"
   ]
  },
  {
   "cell_type": "code",
   "execution_count": 28,
   "metadata": {
    "scrolled": false
   },
   "outputs": [
    {
     "name": "stdout",
     "output_type": "stream",
     "text": [
      "Confusion matrix, without normalization\n",
      "[[ 995    0    0    0]\n",
      " [   0 1024    0    0]\n",
      " [   0    0 1004    0]\n",
      " [   0    0    0  977]]\n",
      "Confusion matrix, without normalization\n",
      "[[917  62  16   0]\n",
      " [188 789  45   2]\n",
      " [ 28  77 800  99]\n",
      " [  9  33 317 618]]\n",
      "(array([0.8 , 0.82, 0.68, 0.86]), array([0.92, 0.77, 0.8 , 0.63]), array([0.86, 0.79, 0.73, 0.73]), array([ 995, 1024, 1004,  977]))\n"
     ]
    },
    {
     "data": {
      "image/png": "[encoded data removed]",
      "text/plain": [
       "<Figure size 432x288 with 2 Axes>"
      ]
     },
     "metadata": {
      "needs_background": "light"
     },
     "output_type": "display_data"
    },
    {
     "data": {
      "image/png": "[encoded data removed]",
      "text/plain": [
       "<Figure size 432x288 with 2 Axes>"
      ]
     },
     "metadata": {
      "needs_background": "light"
     },
     "output_type": "display_data"
    }
   ],
   "source": [
    "from sklearn.metrics import confusion_matrix\n",
    "from sklearn.metrics import precision_recall_fscore_support\n",
    "\n",
    "class_names=['Star','Galaxy','QSO','QSO_BAL']\n",
    "\n",
    "def plot_confusion_matrix(y_true, y_pred, classes,normalize=False,title=None,cmap=plt.cm.Blues):\n",
    "\n",
    "    if not title:\n",
    "        if normalize:\n",
    "            title = 'Normalized confusion matrix'\n",
    "        else:\n",
    "            title = 'Confusion matrix'\n",
    "\n",
    "    # Compute confusion matrix\n",
    "    cm = confusion_matrix(y_true, y_pred)\n",
    "    # Only use the labels that appear in the data\n",
    "    classes = classes\n",
    "    if normalize:\n",
    "        cm = cm.astype('float') / cm.sum(axis=1)[:, np.newaxis]\n",
    "        print(\"Normalized confusion matrix\")\n",
    "    else:\n",
    "        print('Confusion matrix, without normalization')\n",
    "\n",
    "    print(cm)\n",
    "    fig, ax = plt.subplots()\n",
    "    im = ax.imshow(cm, interpolation='nearest', cmap=cmap)\n",
    "    ax.figure.colorbar(im, ax=ax)\n",
    "    # We want to show all ticks...\n",
    "    ax.set(xticks=np.arange(cm.shape[1]),\n",
    "           yticks=np.arange(cm.shape[0]),\n",
    "           # ... and label them with the respective list entries\n",
    "           xticklabels=classes, yticklabels=classes,\n",
    "           title=title,\n",
    "           ylabel='True label',\n",
    "           xlabel='Predicted label')\n",
    "\n",
    "    # Rotate the tick labels and set their alignment.\n",
    "    plt.setp(ax.get_xticklabels(), rotation=45, ha=\"right\",\n",
    "             rotation_mode=\"anchor\")\n",
    "\n",
    "    # Loop over data dimensions and create text annotations.\n",
    "    fmt = '.2f' if normalize else 'd'\n",
    "    thresh = cm.max() / 2.\n",
    "    for i in range(cm.shape[0]):\n",
    "        for j in range(cm.shape[1]):\n",
    "            ax.text(j, i, format(cm[i, j], fmt),\n",
    "                    ha=\"center\", va=\"center\",\n",
    "                    color=\"white\" if cm[i, j] > thresh else \"black\")\n",
    "    fig.tight_layout()\n",
    "    return ax\n",
    "\n",
    "\n",
    "np.set_printoptions(precision=2)\n",
    "\n",
    "# Plot non-normalized confusion matrix\n",
    "#plt.subplots(121)\n",
    "#y_test=y_test.detach().numpy()\n",
    "#y_pred=y_pred.detach().numpy()\n",
    "#print(y_pred)\n",
    "plot_confusion_matrix(y_test, y_test, classes=class_names, title='Confusion matrix')\n",
    "plt.savefig('cm_train.png')\n",
    "#plt.subplots(122)\n",
    "plot_confusion_matrix(y_test, y_pred, classes=class_names, title='Confusion matrix')\n",
    "plt.savefig('cm_test.png')\n",
    "\n",
    "from sklearn.metrics import precision_recall_curve\n",
    "prf=precision_recall_fscore_support(y_test, y_pred, average=None)#,labels=['Star','Galaxy','QSO','QSO_BAL'])\n",
    "\n",
    "print(prf)"
   ]
  },
  {
   "cell_type": "code",
   "execution_count": 29,
   "metadata": {},
   "outputs": [
    {
     "name": "stderr",
     "output_type": "stream",
     "text": [
      "/home/steingate/anaconda3/lib/python3.7/site-packages/ipykernel_launcher.py:35: UserWarning: Implicit dimension choice for log_softmax has been deprecated. Change the call to include dim=X as an argument.\n"
     ]
    },
    {
     "name": "stdout",
     "output_type": "stream",
     "text": [
      "Accuracy of  Star : 100 %\n",
      "Accuracy of Galaxy : 100 %\n",
      "Accuracy of   QSO : 50 %\n",
      "Accuracy of QSO_BAL : 50 %\n"
     ]
    }
   ],
   "source": [
    "classes = ('Star', 'Galaxy', 'QSO', 'QSO_BAL')\n",
    "class_correct = list(0. for i in range(4))\n",
    "class_total = list(0. for i in range(4))\n",
    "with torch.no_grad():\n",
    "    for data in test_loader:\n",
    "        images, labels = data\n",
    "        outputs = net(images)\n",
    "        _, predicted = torch.max(outputs, 1)\n",
    "        c = (predicted == labels).squeeze()\n",
    "        for i in range(4):\n",
    "            label = labels[i]\n",
    "            class_correct[label] += c[i].item()\n",
    "            class_total[label] += 1\n",
    "\n",
    "\n",
    "for i in range(4):\n",
    "    print('Accuracy of %5s : %2d %%' % (\n",
    "        classes[i], 100 * class_correct[i] / class_total[i]))"
   ]
  }
 ],
 "metadata": {
  "kernelspec": {
   "display_name": "Python 3",
   "language": "python",
   "name": "python3"
  },
  "language_info": {
   "codemirror_mode": {
    "name": "ipython",
    "version": 3
   },
   "file_extension": ".py",
   "mimetype": "text/x-python",
   "name": "python",
   "nbconvert_exporter": "python",
   "pygments_lexer": "ipython3",
   "version": "3.7.1"
  }
 },
 "nbformat": 4,
 "nbformat_minor": 2
}
