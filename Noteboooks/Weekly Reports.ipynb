{
 "cells": [
  {
   "cell_type": "code",
   "execution_count": 36,
   "metadata": {},
   "outputs": [],
   "source": [
    "# Jairo Andres Saavedra Alfonso\n",
    "# 01 de Febrero de 2019\n",
    "# Universidad de Los Andes\n",
    "# Phycis \n",
    "######################__________________Report 01__________________######################"
   ]
  },
  {
   "cell_type": "code",
   "execution_count": 37,
   "metadata": {},
   "outputs": [],
   "source": [
    "#Packages\n",
    "from astropy.io import fits\n",
    "import numpy as np\n",
    "import matplotlib.pylab as plt\n",
    "import pandas as pd\n",
    "from astropy.table import Table"
   ]
  },
  {
   "cell_type": "code",
   "execution_count": 38,
   "metadata": {
    "scrolled": false
   },
   "outputs": [
    {
     "name": "stdout",
     "output_type": "stream",
     "text": [
      "Filename: truth_DR12Q.fits\n",
      "No.    Name      Ver    Type      Cards   Dimensions   Format\n",
      "  0  PRIMARY       1 PrimaryHDU       6   ()      \n",
      "  1                1 BinTableHDU     27   546856R x 9C   [J, D, J, J, J, J, J, D, D]   \n",
      "None /n ColDefs(\n",
      "    name = 'THING_ID'; format = 'J'\n",
      "    name = 'Z_VI'; format = 'D'\n",
      "    name = 'PLATE'; format = 'J'\n",
      "    name = 'MJD'; format = 'J'\n",
      "    name = 'FIBERID'; format = 'J'\n",
      "    name = 'CLASS_PERSON'; format = 'J'\n",
      "    name = 'Z_CONF_PERSON'; format = 'J'\n",
      "    name = 'BAL_FLAG_VI'; format = 'D'\n",
      "    name = 'BI_CIV'; format = 'D'\n",
      ")\n",
      "[357405338 353907506  33180814 ... 352121795 401440280 401440241]\n"
     ]
    }
   ],
   "source": [
    "# Reading data from truth_DR12Q.fits. This file have the database sample of spectra with human-expert classifitacion\n",
    "\n",
    "hdul = fits.open('truth_DR12Q.fits') # Open file\n",
    "info=hdul.info() # File info\n",
    "columns=hdul[1].columns # File Columns \n",
    "print(info,'/n',columns)\n",
    "data=hdul[1].data # Database of spectra with human-expert classifications \n",
    "print(data['THING_ID'])\n"
   ]
  },
  {
   "cell_type": "code",
   "execution_count": 39,
   "metadata": {
    "scrolled": true
   },
   "outputs": [
    {
     "name": "stdout",
     "output_type": "stream",
     "text": [
      "(207915,)\n",
      "(22795,)\n",
      "(270686,)\n",
      "(29659,)\n",
      "(15801,)\n"
     ]
    }
   ],
   "source": [
    "# The column 'CLASS_PERSON' have a class identifier for each spectrum: STARS=1, GALAXY=4, QSO=3 and QSO_BAL=30.\n",
    "C_P=data['CLASS_PERSON'] #Class Person column \n",
    "STAR=C_P[C_P==1] # objects classified as stars\n",
    "GALAXY=C_P[C_P==4] # objects classified as galaxies \n",
    "QSO=C_P[C_P==3] # objects classified as QSO (Quasars)\n",
    "QSO_BAL=C_P[C_P==30] # objects classified as QSO BAL (Quasars with Broad Absortions Lines)\n",
    "N_C=C_P[C_P!=30]   \n",
    "N_C=N_C[N_C!=3]\n",
    "N_C=N_C[N_C!=1]\n",
    "N_C=N_C[N_C!=4] # objects wrong classified\n",
    "print(STAR.shape)\n",
    "print(GALAXY.shape)\n",
    "print(QSO.shape)\n",
    "print(QSO_BAL.shape)\n",
    "print(N_C.shape)"
   ]
  },
  {
   "cell_type": "code",
   "execution_count": 40,
   "metadata": {
    "scrolled": false
   },
   "outputs": [
    {
     "name": "stdout",
     "output_type": "stream",
     "text": [
      "(214791,)\n",
      "(7123,)\n"
     ]
    }
   ],
   "source": [
    "Z_VI=data['Z_VI'] # Redshift of each object\n",
    "print(Z_VI[Z_VI==0.0].shape)\n",
    "Z_C_P=data['Z_CONF_PERSON']\n",
    "print(Z_C_P[Z_C_P==0].shape)\n",
    "T_ID=data['THING_ID']\n",
    "i=T_ID==-1\n",
    "T_ID=T_ID[i]"
   ]
  },
  {
   "cell_type": "code",
   "execution_count": 41,
   "metadata": {},
   "outputs": [
    {
     "data": {
      "text/plain": [
       "Text(0.5, 1.0, 'QSO')"
      ]
     },
     "execution_count": 41,
     "metadata": {},
     "output_type": "execute_result"
    },
    {
     "data": {
      "image/png": "[encoded data removed]",
      "text/plain": [
       "<Figure size 432x288 with 1 Axes>"
      ]
     },
     "metadata": {
      "needs_background": "light"
     },
     "output_type": "display_data"
    }
   ],
   "source": [
    "ii=C_P==3\n",
    "oo=C_P==30\n",
    "Z_VI_QSO=Z_VI[ii]\n",
    "Z_VI_QSO_BAL=Z_VI[oo]\n",
    "plt.hist(Z_VI_QSO,100,density=True)\n",
    "plt.xlabel('Redshift')\n",
    "plt.title('QSO')\n"
   ]
  },
  {
   "cell_type": "code",
   "execution_count": 42,
   "metadata": {},
   "outputs": [
    {
     "data": {
      "text/plain": [
       "Text(0.5, 1.0, 'QSO_BAL')"
      ]
     },
     "execution_count": 42,
     "metadata": {},
     "output_type": "execute_result"
    },
    {
     "data": {
      "image/png": "[encoded data removed]",
      "text/plain": [
       "<Figure size 432x288 with 1 Axes>"
      ]
     },
     "metadata": {
      "needs_background": "light"
     },
     "output_type": "display_data"
    }
   ],
   "source": [
    "plt.hist(Z_VI_QSO_BAL,100,density=True)\n",
    "plt.xlabel('Redshift')\n",
    "plt.title('QSO_BAL')"
   ]
  },
  {
   "cell_type": "code",
   "execution_count": 43,
   "metadata": {
    "scrolled": false
   },
   "outputs": [
    {
     "name": "stdout",
     "output_type": "stream",
     "text": [
      "Filename: data_dr12.fits\n",
      "No.    Name      Ver    Type      Cards   Dimensions   Format\n",
      "  0  PRIMARY       1 PrimaryHDU       8   (886, 639464)   float64   \n",
      "  1                1 BinTableHDU     16   639464R x 4C   [J, J, J, J]   \n",
      "[<astropy.io.fits.hdu.image.PrimaryHDU object at 0x7f3d840247b8>, <astropy.io.fits.hdu.table.BinTableHDU object at 0x7f3d847bf0b8>] /n ColDefs(\n",
      "    name = 'TARGETID'; format = 'J'\n",
      "    name = 'PLATE'; format = 'J'\n",
      "    name = 'MJD'; format = 'J'\n",
      "    name = 'FIBERID'; format = 'J'\n",
      ")\n"
     ]
    },
    {
     "name": "stderr",
     "output_type": "stream",
     "text": [
      "/home/steingate/anaconda3/lib/python3.7/site-packages/ipykernel_launcher.py:24: RuntimeWarning: invalid value encountered in log\n"
     ]
    },
    {
     "name": "stdout",
     "output_type": "stream",
     "text": [
      "[ 87897905  96906927  96907939 ... 505037917 506611870 510289698]\n",
      "[357405338 353907506  33180814 ... 352121795 401440280 401440241]\n",
      "(536684,)\n"
     ]
    },
    {
     "data": {
      "image/png": "[encoded data removed]",
      "text/plain": [
       "<Figure size 432x288 with 1 Axes>"
      ]
     },
     "metadata": {
      "needs_background": "light"
     },
     "output_type": "display_data"
    }
   ],
   "source": [
    "# Reading data from data_dr12.fits. This file had the spectra from data dr12. \n",
    "hdul_2 = fits.open('data_dr12.fits') # Open file\n",
    "info=hdul_2.info() # File info \n",
    "columns=hdul_2[1].columns # File Columns \n",
    "print(hdul,'/n',columns)\n",
    "data2=hdul_2[1].data # Database of spectra\n",
    "spectra=hdul_2[0].data # Spectrum of each object \n",
    "\n",
    "\n",
    "# The Spectra in this database have three main parameters: Plate ID, The modified julian day and fiber ID of the observation.\n",
    "# Let's take a look of the first spectrum.\n",
    "x=np.linspace(443,886,443) # I cut the sample to 443 pixels in spaced log-wavelength.  \n",
    "zero_spectrum=spectra[0] #First spectrum\n",
    "zero_spectrum=zero_spectrum[:443]\n",
    "\n",
    "PLATE=data2['PLATE'] # Spectra's Plate ID\n",
    "MJD=data2['MJD'] # Spectra's the modified juliam day\n",
    "FIBERID=data2['FIBERID'] # Spectra's fiber ID\n",
    "\n",
    "zero_plate=PLATE[0] # zero spectrum Plate ID\n",
    "zero_mjd=MJD[0] # zero spectrum MJD\n",
    "zero_fiberid=FIBERID[0] # zero spectrum Fiber ID\n",
    "param = 'Plate = {:.2f}, mjd = {:.2f}, fiberid={:.2f}'.format(zero_plate, zero_mjd, zero_fiberid)\n",
    "plt.plot(x,np.log(zero_spectrum))\n",
    "plt.xlabel(r'$\\lambda$ [nm]')\n",
    "plt.ylabel('Log-Flux [arb. units]')\n",
    "plt.title(param)\n",
    "plt.savefig('spectrum.png')\n",
    "\n",
    "# I noticed that each object and spectrum don't have the same label. So it's imposible to make some ID correlations.  \n",
    "print(data2['TARGETID'])\n",
    "print(data['THING_ID'])\n",
    "da=np.intersect1d(data2['TARGETID'],data['THING_ID'])\n",
    "print(da.shape)\n",
    "# So, in orden to make a correlation betwen identified object and spectrum we need to use all three parameters (Plate ID, MJD, FiberID)"
   ]
  },
  {
   "cell_type": "code",
   "execution_count": 44,
   "metadata": {},
   "outputs": [
    {
     "name": "stdout",
     "output_type": "stream",
     "text": [
      "(639464,)\n"
     ]
    }
   ],
   "source": [
    "print(data2.shape)"
   ]
  },
  {
   "cell_type": "code",
   "execution_count": 45,
   "metadata": {},
   "outputs": [
    {
     "name": "stdout",
     "output_type": "stream",
     "text": [
      "Number of Plates use in both datasets: (2401,)\n",
      "Number of MJD use in both datasets: (681,)\n",
      "Number of FIBERID use in both datasets: (1000,)\n",
      "Number of FIBERID use in both datasets: (536684,)\n"
     ]
    }
   ],
   "source": [
    "######################__________________Report 02__________________######################\n",
    "\n",
    "## This week I pretend to find some correaltions betwen objects with human-expert classification and spretum from DR12\n",
    "\n",
    "# Subset of PLATE parameters of both data\n",
    "data_PLATE_1=data['PLATE']\n",
    "data_PLATE_2=data2['PLATE']\n",
    "\n",
    "# Subset of MJD parameters of both data\n",
    "data_MJD_1=data['MJD']\n",
    "data_MJD_2=data2['MJD']\n",
    "\n",
    "# Subset of FIBERID parameters of both data\n",
    "data_FIBERID_1=data['FIBERID']\n",
    "data_FIBERID_2=data2['FIBERID']\n",
    "\n",
    "# Subset of FIBERID parameters of both data\n",
    "data_ID_1=data['THING_ID']\n",
    "data_ID_2=data2['TARGETID']\n",
    "\n",
    "# I make here an intersecting set for all three parameters (PLATE, MJD, FIBERID) in both data.\n",
    "data_PLATE_CO=np.intersect1d(data_PLATE_1,data_PLATE_2)\n",
    "data_MJD_CO=np.intersect1d(data_MJD_1,data_MJD_2)\n",
    "data_FIBERID_CO=np.intersect1d(data_FIBERID_1,data_FIBERID_2)\n",
    "data_ID_CO=np.intersect1d(data_ID_1,data_ID_2)\n",
    "\n",
    "# As we can see, in both database, there is a correlation betwen the number of Plates, the modified julian day and the Fiber ID. \n",
    "print('Number of Plates use in both datasets:',data_PLATE_CO.shape)\n",
    "print('Number of MJD use in both datasets:',data_MJD_CO.shape)\n",
    "print('Number of FIBERID use in both datasets:',data_FIBERID_CO.shape)\n",
    "print('Number of FIBERID use in both datasets:',data_ID_CO.shape)\n",
    "#print(data_PLATE_1.dtype)"
   ]
  },
  {
   "cell_type": "code",
   "execution_count": 46,
   "metadata": {
    "scrolled": true
   },
   "outputs": [],
   "source": [
    "# I create two DataFrame for Superset_DR12Q and data_dr12 with only three parameters\n",
    "data={'PLATE':data_PLATE_1,'MJD':data_MJD_1,'FIBERID':data_FIBERID_1,'ID':data_ID_1}\n",
    "data=pd.DataFrame(data=data)\n",
    "\n",
    "data2={'PLATE':data_PLATE_2,'MJD':data_MJD_2,'FIBERID':data_FIBERID_2,'ID':data_ID_2}\n",
    "data2=pd.DataFrame(data=data2)"
   ]
  },
  {
   "cell_type": "code",
   "execution_count": 47,
   "metadata": {
    "scrolled": true
   },
   "outputs": [
    {
     "name": "stdout",
     "output_type": "stream",
     "text": [
      "[['6511-56540-892-357405338']\n",
      " ['6511-56540-156-353907506']\n",
      " ['7147-56574-160-33180814']\n",
      " ...\n",
      " ['6511-56540-107-352121795']\n",
      " ['7145-56567-240-401440280']\n",
      " ['7145-56567-262-401440241']]\n",
      "[['3586-55181-16-87897905']\n",
      " ['3586-55181-18-96906927']\n",
      " ['3586-55181-20-96907939']\n",
      " ...\n",
      " ['7562-56799-10-505037917']\n",
      " ['7564-56804-955-506611870']\n",
      " ['7565-56809-808-510289698']]\n"
     ]
    }
   ],
   "source": [
    "# I convert all objects in both set to string chain in orden to combine them as one new ID.\n",
    "data['PLATE']=data['PLATE'].astype(str)\n",
    "data['MJD']=data['MJD'].astype(str)\n",
    "data['FIBERID']=data['FIBERID'].astype(str)\n",
    "data['ID']=data['ID'].astype(str)\n",
    "\n",
    "\n",
    "data['PM'] = data['PLATE'].str.cat(data['MJD'],sep=\"-\")\n",
    "data['M'] = data['FIBERID'].str.cat(data['ID'],sep=\"-\")\n",
    "\n",
    "data['NEWID'] = data['PM'].str.cat(data['M'],sep=\"-\")\n",
    "data_1=data.drop(columns=['PLATE','MJD','FIBERID','ID','PM','M']).values # New set of database 2 with new ID's\n",
    "print(data_1)\n",
    "\n",
    "data2['PLATE']=data2['PLATE'].astype(str)\n",
    "data2['MJD']=data2['MJD'].astype(str)\n",
    "data2['FIBERID']=data2['FIBERID'].astype(str)\n",
    "data2['ID']=data2['ID'].astype(str)\n",
    "\n",
    "\n",
    "data2['PM'] = data2['PLATE'].str.cat(data2['MJD'],sep=\"-\")\n",
    "data2['M'] = data2['FIBERID'].str.cat(data2['ID'],sep=\"-\")\n",
    "\n",
    "data2['NEWID'] = data2['PM'].str.cat(data2['M'],sep=\"-\")\n",
    "data_2=data2.drop(columns=['PLATE','MJD','FIBERID','ID','PM','M']).values # New set of database 2 with new ID's\n",
    "print(data_2)\n"
   ]
  },
  {
   "cell_type": "code",
   "execution_count": 69,
   "metadata": {},
   "outputs": [
    {
     "name": "stdout",
     "output_type": "stream",
     "text": [
      "I find 537677 objects with spectra from DR12\n",
      "[17792 17931 17610 ... 457655 459274 457504] [25 26 29 ... 639461 639462 639463]\n"
     ]
    }
   ],
   "source": [
    "# With the routine of numpy intersect1d, I find the intersections elements in both sets. This elements  \n",
    "data_CO=np.array(np.intersect1d(data_1,data_2,return_indices=True))\n",
    "\n",
    "data_CO_objects=data_CO[0] # The unique new ID of each element in both sets\n",
    "data_CO_ind1=data_CO[1] # Indices of intersected elements from the original data 1 (Superset_DR12Q.fits) \n",
    "data_CO_ind2=data_CO[2] # Indices of intersected elements form the original data 2 (data_dr12.fits)\n",
    "print('I find',len(data_CO_objects),'objects with spectra from DR12')\n",
    "print(data_CO_ind1,data_CO_ind2)"
   ]
  },
  {
   "cell_type": "code",
   "execution_count": 49,
   "metadata": {
    "scrolled": false
   },
   "outputs": [
    {
     "name": "stdout",
     "output_type": "stream",
     "text": [
      "ColDefs(\n",
      "    name = 'THING_ID'; format = 'J'\n",
      "    name = 'Z_VI'; format = 'D'\n",
      "    name = 'PLATE'; format = 'J'\n",
      "    name = 'MJD'; format = 'J'\n",
      "    name = 'FIBERID'; format = 'J'\n",
      "    name = 'CLASS_PERSON'; format = 'J'\n",
      "    name = 'Z_CONF_PERSON'; format = 'J'\n",
      "    name = 'BAL_FLAG_VI'; format = 'D'\n",
      "    name = 'BI_CIV'; format = 'D'\n",
      ") (537677, 9)\n"
     ]
    }
   ],
   "source": [
    "# Now that I know which object have a spectrum. I can make a unique database of objects\n",
    "hdul = fits.open('truth_DR12Q.fits')\n",
    "#hdul2 = fits.open('data_dr12.fits')\n",
    "data=hdul[1].data\n",
    "info=hdul[1].columns\n",
    "\n",
    "ti=np.array(data['THING_ID'],dtype=float)\n",
    "pl=np.array(data['PLATE'],dtype=float)\n",
    "mjd=np.array(data['MJD'],dtype=float)\n",
    "fid=np.array(data['FIBERID'],dtype=float)\n",
    "cp=np.array(data['CLASS_PERSON'],dtype=float)\n",
    "z=np.array(data['Z_VI'],dtype=float)\n",
    "zc=np.array(data['Z_CONF_PERSON'],dtype=float)\n",
    "bal=np.array(data['BAL_FLAG_VI'],dtype=float)\n",
    "bi=np.array(data['BI_CIV'],dtype=float)\n",
    "\n",
    "d={'THING_ID':ti,'PLATE':pl,'MJD':mjd,'FIBERID':fid,'CLASS_PERSON':cp,'Z_VI':z,'Z_CONF_PERSON':zc,'BAL_FLAG_VI':bal,'BI_CIV':bi}\n",
    "data_0=pd.DataFrame(data=d)#.values #super database\n",
    "obj=data_0.loc[data_CO_ind1]\n",
    "print(info,obj.shape)"
   ]
  },
  {
   "cell_type": "code",
   "execution_count": 128,
   "metadata": {},
   "outputs": [
    {
     "name": "stdout",
     "output_type": "stream",
     "text": [
      "Stars: (207905,)\n",
      "Galaxies: (20699,)\n",
      "QSO: (270534,)\n",
      "QSO BAL: (29652,)\n",
      "No class: (0,)\n"
     ]
    }
   ],
   "source": [
    "######################__________________Report 03__________________######################\n",
    "\n",
    "\n",
    "# Balance of classes \n",
    "C_P=obj['CLASS_PERSON'] #Class Person column \n",
    "STAR=C_P[C_P==1] # objects classified as stars\n",
    "GALAXY=C_P[C_P==4] # objects classified as galaxies \n",
    "QSO=C_P[C_P==3] # objects classified as QSO (Quasars)\n",
    "QSO_BAL=C_P[C_P==30] # objects classified as QSO BAL (Quasars with Broad Absortions Lines)\n",
    "N_C=C_P[C_P!=30]   \n",
    "N_C=N_C[N_C!=3]\n",
    "N_C=N_C[N_C!=1]\n",
    "N_C=N_C[N_C!=4] # objects wrong classified\n",
    "print('Stars:',STAR.shape)\n",
    "print('Galaxies:',GALAXY.shape)\n",
    "print('QSO:',QSO.shape)\n",
    "print('QSO BAL:',QSO_BAL.shape)\n",
    "print('No class:',N_C.shape)"
   ]
  },
  {
   "cell_type": "code",
   "execution_count": 129,
   "metadata": {
    "scrolled": true
   },
   "outputs": [
    {
     "name": "stdout",
     "output_type": "stream",
     "text": [
      "(528790, 9)\n"
     ]
    }
   ],
   "source": [
    "# Preprocessing. I remove non-classified objects also objects with negative redshift.  \n",
    "stars=obj.loc[obj['CLASS_PERSON']==1]\n",
    "galaxies=obj.loc[obj['CLASS_PERSON']==4]\n",
    "qsos=obj.loc[obj['CLASS_PERSON']==3]\n",
    "qsos_bal=obj.loc[obj['CLASS_PERSON']==30]\n",
    "\n",
    "frames=[stars,galaxies,qsos,qsos_bal]\n",
    "new_obj=pd.concat(frames)#, keys=['stars', 'galaxies', 'qso','qso_bal'])\n",
    "\n",
    "#new_obj=new_obj.loc[new_obj['Z_VI']!=-1]\n",
    "obj=new_obj.loc[new_obj['Z_CONF_PERSON']!=0]\n",
    "print(obj.shape)"
   ]
  },
  {
   "cell_type": "code",
   "execution_count": 194,
   "metadata": {
    "scrolled": true
   },
   "outputs": [
    {
     "name": "stdout",
     "output_type": "stream",
     "text": [
      "           THING_ID   PLATE      MJD  FIBERID  CLASS_PERSON   Z_VI  \\\n",
      "494497  204029373.0  4095.0  55497.0    686.0           1.0  0.000   \n",
      "438316  515329507.0  6791.0  56429.0    180.0           1.0  0.000   \n",
      "461860  292674156.0  4057.0  55357.0    198.0           1.0  0.000   \n",
      "234507  536943232.0  7104.0  56711.0     62.0           1.0  0.000   \n",
      "127839  361802865.0  5183.0  55976.0    150.0           1.0  0.000   \n",
      "148050  487566923.0  5732.0  56326.0     96.0           1.0  0.000   \n",
      "468784  488036699.0  6317.0  56448.0    910.0           1.0  0.000   \n",
      "177925  253115154.0  5320.0  55999.0    958.0           1.0  0.000   \n",
      "80339   319270873.0  4464.0  55866.0     82.0           1.0  0.000   \n",
      "415713  138117713.0  4013.0  55629.0    614.0           1.0  0.000   \n",
      "103242  425747951.0  3805.0  55269.0    310.0           1.0  0.000   \n",
      "545435  280208232.0  6207.0  56239.0    706.0           1.0  0.000   \n",
      "508421  254937388.0  5038.0  56235.0    534.0           1.0  0.000   \n",
      "445977  340301206.0  3946.0  55659.0    196.0           1.0  0.000   \n",
      "334410  510155126.0  6828.0  56430.0    572.0           1.0  0.000   \n",
      "69232    32808361.0  4388.0  55536.0    126.0           1.0  0.000   \n",
      "481152  432371101.0  4984.0  55827.0    808.0           1.0  0.000   \n",
      "97673   329961629.0  4463.0  55868.0    438.0           1.0  4.515   \n",
      "165928  397676630.0  5805.0  56336.0    814.0           1.0  0.000   \n",
      "383932  249747374.0  5461.0  56018.0    624.0           1.0  0.000   \n",
      "48773   336240915.0  5695.0  56191.0    970.0           1.0  0.000   \n",
      "517952   58779958.0  4364.0  55855.0    160.0           1.0  0.000   \n",
      "31284   164945109.0  4423.0  55889.0    536.0           1.0  0.000   \n",
      "43700   157889566.0  4310.0  55508.0    961.0           1.0  0.000   \n",
      "178065  415797563.0  4573.0  55587.0    834.0           1.0  0.000   \n",
      "453574  282175456.0  3930.0  55332.0     58.0           1.0  0.000   \n",
      "425059  307083059.0  3955.0  55678.0    816.0           1.0  0.000   \n",
      "74987   123488507.0  7337.0  56662.0    904.0           1.0  1.359   \n",
      "134762  463322054.0  7327.0  56715.0    134.0           1.0  0.000   \n",
      "421708  123529482.0  4014.0  55630.0    838.0           1.0  0.000   \n",
      "...             ...     ...      ...      ...           ...    ...   \n",
      "20622   104267119.0  4222.0  55444.0    776.0          30.0  1.771   \n",
      "227270  532798929.0  7103.0  56661.0    587.0          30.0  1.115   \n",
      "43052    50507074.0  7048.0  56575.0    672.0          30.0  2.685   \n",
      "336375  379512438.0  6490.0  56330.0    312.0          30.0  2.356   \n",
      "545574  336209227.0  6517.0  56563.0     64.0          30.0  1.680   \n",
      "22304   138295269.0  4304.0  55506.0    946.0          30.0  1.041   \n",
      "239601  485696017.0  6692.0  56390.0    644.0          30.0  2.990   \n",
      "8997    193337511.0  4538.0  55860.0    536.0          30.0  2.555   \n",
      "16274    59006013.0  4368.0  55559.0    276.0          30.0  3.135   \n",
      "213443  210617943.0  5346.0  55955.0    890.0          30.0  2.734   \n",
      "18098   116043753.0  3588.0  55184.0    552.0          30.0  1.900   \n",
      "379244  485863117.0  6746.0  56386.0    972.0          30.0  2.662   \n",
      "63108    28099844.0  4395.0  55828.0    312.0          30.0  2.568   \n",
      "291325  365633112.0  6476.0  56358.0    922.0          30.0  4.065   \n",
      "340588  310946301.0  5995.0  56093.0    494.0          30.0  2.303   \n",
      "56036   387620699.0  6603.0  56567.0    960.0          30.0  2.180   \n",
      "462623  471171182.0  6029.0  56099.0    760.0          30.0  3.201   \n",
      "129438  494166287.0  7293.0  56741.0    104.0          30.0  1.682   \n",
      "144284  264864362.0  5297.0  55913.0    936.0          30.0  2.790   \n",
      "111941  201025543.0  5496.0  55888.0    920.0          30.0  3.760   \n",
      "40936   294592763.0  5127.0  55889.0    306.0          30.0  2.071   \n",
      "319438  371383377.0  6481.0  56363.0    984.0          30.0  3.054   \n",
      "451318  180537864.0  4893.0  55709.0    762.0          30.0  3.672   \n",
      "297441  488022389.0  6675.0  56415.0    107.0          30.0  2.236   \n",
      "353007   95806597.0  4043.0  55630.0    540.0          30.0  3.500   \n",
      "272130  430571169.0  4697.0  55660.0    326.0          30.0  2.546   \n",
      "289969  216889968.0  5399.0  55956.0    528.0          30.0  1.460   \n",
      "56512    85179315.0  4233.0  55449.0      6.0          30.0  2.145   \n",
      "179343  406903533.0  4573.0  55587.0    140.0          30.0  2.715   \n",
      "353103  494091862.0  6738.0  56424.0    994.0          30.0  1.710   \n",
      "\n",
      "        Z_CONF_PERSON  BAL_FLAG_VI        BI_CIV  \n",
      "494497            3.0          0.0      0.000000  \n",
      "438316            3.0          0.0      0.000000  \n",
      "461860            3.0          0.0      0.000000  \n",
      "234507            3.0          0.0      0.000000  \n",
      "127839            3.0          0.0      0.000000  \n",
      "148050            3.0          0.0      0.000000  \n",
      "468784            3.0          0.0      0.000000  \n",
      "177925            3.0          0.0      0.000000  \n",
      "80339             3.0          0.0      0.000000  \n",
      "415713            3.0          0.0      0.000000  \n",
      "103242            3.0          0.0      0.000000  \n",
      "545435            3.0          0.0      0.000000  \n",
      "508421            3.0          0.0      0.000000  \n",
      "445977            3.0          0.0      0.000000  \n",
      "334410            3.0          0.0      0.000000  \n",
      "69232             3.0          0.0      0.000000  \n",
      "481152            3.0          0.0      0.000000  \n",
      "97673             1.0          0.0      0.000000  \n",
      "165928            3.0          0.0      0.000000  \n",
      "383932            3.0          0.0      0.000000  \n",
      "48773             3.0          0.0      0.000000  \n",
      "517952            3.0          0.0      0.000000  \n",
      "31284             3.0          0.0      0.000000  \n",
      "43700             3.0          0.0      0.000000  \n",
      "178065            3.0          0.0      0.000000  \n",
      "453574            3.0          0.0      0.000000  \n",
      "425059            3.0          0.0      0.000000  \n",
      "74987             1.0          0.0      0.000000  \n",
      "134762            3.0          0.0      0.000000  \n",
      "421708            3.0          0.0      0.000000  \n",
      "...               ...          ...           ...  \n",
      "20622             3.0          1.0   3205.257861  \n",
      "227270            3.0          1.0      0.000000  \n",
      "43052             3.0          1.0      0.000000  \n",
      "336375            3.0          1.0      0.000000  \n",
      "545574            3.0          1.0      0.000000  \n",
      "22304             3.0          1.0      0.000000  \n",
      "239601            3.0          1.0    505.659573  \n",
      "8997              3.0          1.0      0.652219  \n",
      "16274             3.0          1.0      0.000000  \n",
      "213443            3.0          1.0      0.000000  \n",
      "18098             3.0          1.0   1999.827804  \n",
      "379244            3.0          1.0     43.392843  \n",
      "63108             3.0          1.0     92.900181  \n",
      "291325            3.0          1.0      0.000000  \n",
      "340588            3.0          1.0      0.000000  \n",
      "56036             3.0          1.0      0.000000  \n",
      "462623            3.0          1.0      0.000000  \n",
      "129438            3.0          1.0      0.000000  \n",
      "144284            3.0          1.0   8421.294630  \n",
      "111941            3.0          1.0   6336.868855  \n",
      "40936             3.0          1.0      0.000000  \n",
      "319438            3.0          1.0      0.000000  \n",
      "451318            3.0          1.0    166.881470  \n",
      "297441            3.0          1.0     52.335326  \n",
      "353007            3.0          1.0    427.126769  \n",
      "272130            3.0          1.0   6826.336627  \n",
      "289969            3.0          1.0      0.000000  \n",
      "56512             3.0          1.0  10637.574503  \n",
      "179343            3.0          1.0     13.507555  \n",
      "353103            3.0          1.0      8.853405  \n",
      "\n",
      "[1000 rows x 9 columns]\n"
     ]
    },
    {
     "name": "stderr",
     "output_type": "stream",
     "text": [
      "/home/steingate/anaconda3/lib/python3.7/site-packages/ipykernel_launcher.py:20: RuntimeWarning: divide by zero encountered in log\n"
     ]
    }
   ],
   "source": [
    "# Sample of objects. I chosen 250 object per class. \n",
    "stars=obj.loc[obj['CLASS_PERSON']==1]\n",
    "galaxies=obj.loc[obj['CLASS_PERSON']==4]\n",
    "qsos=obj.loc[obj['CLASS_PERSON']==3]\n",
    "qsos_bal=obj.loc[obj['CLASS_PERSON']==30]\n",
    "\n",
    "sample_star=stars.sample(n=250,weights='CLASS_PERSON', random_state=5)\n",
    "sample_galaxy=galaxies.sample(n=250,weights='CLASS_PERSON', random_state=5)\n",
    "sample_qso=qsos.sample(n=250,weights='CLASS_PERSON', random_state=5)\n",
    "sample_qso_bal=qsos_bal.sample(n=250,weights='CLASS_PERSON', random_state=5)\n",
    "\n",
    "frames=[sample_star,sample_galaxy,sample_qso,sample_qso_bal]\n",
    "sample_objects=pd.concat(frames)\n",
    "N=np.array(sample_objects.index)\n",
    "\n",
    "print(sample_objects)\n",
    "spectra_1000=np.zeros((1000,886))\n",
    "j=0\n",
    "for i in N:\n",
    "    spectra_1000[j,:]=np.log(abs(spectra[i,:]))\n",
    "    j=j+1    \n",
    "spectra_1000=pd.DataFrame(spectra_1000)\n",
    "X=spectra_1000.replace(-np.inf,0)\n",
    "\n",
    "x=np.log(abs(spectra[25]))\n",
    "x=pd.DataFrame(x)\n",
    "x_predicted=x.replace(-np.inf,0).values\n",
    "x_predicted=x_predicted.T\n",
    "X=X.values\n",
    "Y=sample_objects['CLASS_PERSON'].values"
   ]
  },
  {
   "cell_type": "code",
   "execution_count": 195,
   "metadata": {
    "scrolled": true
   },
   "outputs": [
    {
     "name": "stdout",
     "output_type": "stream",
     "text": [
      "torch.Size([1000, 886])\n",
      "torch.Size([1000])\n",
      "torch.Size([1, 886])\n"
     ]
    }
   ],
   "source": [
    "######################__________________Report 03__________________######################\n",
    "\n",
    "# my first Neural Network. SpectraNET :}\n",
    "\n",
    "import torch \n",
    "import torch.nn as nn\n",
    "\n",
    "X = torch.tensor(X, dtype=torch.float)\n",
    "y = torch.tensor(Y, dtype=torch.float)\n",
    "xPredicted = torch.tensor(x_predicted, dtype=torch.float)\n",
    "print(X.size())\n",
    "print(y.size())\n",
    "print(xPredicted.size())"
   ]
  },
  {
   "cell_type": "code",
   "execution_count": 196,
   "metadata": {},
   "outputs": [],
   "source": [
    "# Scaling \n",
    "X_max, _ = torch.max(X, 0)\n",
    "xPredicted_max, _ = torch.max(xPredicted, 0)\n",
    "\n",
    "X = torch.div(X, X_max)\n",
    "xPredicted = torch.div(xPredicted, xPredicted_max)\n",
    "y = y / 100 # max test score is 100"
   ]
  },
  {
   "cell_type": "code",
   "execution_count": 199,
   "metadata": {
    "scrolled": true
   },
   "outputs": [],
   "source": [
    "# Implementation\n",
    "class Neural_Network(nn.Module):\n",
    "    def __init__(self):\n",
    "        super(Neural_Network, self).__init__()\n",
    "        # parameters\n",
    "        self.inputSize = 886\n",
    "        self.outputSize = 1000\n",
    "        self.hiddenSize = 16\n",
    "        \n",
    "        # weights\n",
    "        self.W1 = torch.randn(self.inputSize, self.hiddenSize)\n",
    "        self.W2 = torch.randn(self.hiddenSize, self.outputSize) \n",
    "        \n",
    "    def forward(self, X):\n",
    "        self.z = torch.matmul(X, self.W1) \n",
    "        self.z2 = self.sigmoid(self.z) # activation function\n",
    "        self.z3 = torch.matmul(self.z2, self.W2)\n",
    "        o = self.sigmoid(self.z3) # final activation function\n",
    "        return o\n",
    "        \n",
    "    def sigmoid(self, s):\n",
    "        return 1 / (1 + torch.exp(-s))\n",
    "    \n",
    "    def sigmoidPrime(self, s):\n",
    "        # derivative of sigmoid\n",
    "        return s * (1 - s)\n",
    "    \n",
    "    def backward(self, X, y, o):\n",
    "        self.o_error = y - o # error in output\n",
    "        self.o_delta = self.o_error * self.sigmoidPrime(o) # derivative of sig to error\n",
    "        self.z2_error = torch.matmul(self.o_delta, torch.t(self.W2))\n",
    "        self.z2_delta = self.z2_error * self.sigmoidPrime(self.z2)\n",
    "        self.W1 += torch.matmul(torch.t(X), self.z2_delta)\n",
    "        self.W2 += torch.matmul(torch.t(self.z2), self.o_delta)\n",
    "        \n",
    "    def train(self, X, y):\n",
    "        # forward + backward pass for training\n",
    "        o = self.forward(X)\n",
    "        self.backward(X, y, o)\n",
    "        \n",
    "    def saveWeights(self, model):\n",
    "        # we will use the PyTorch internal storage functions\n",
    "        torch.save(model, \"NN\")\n",
    "        # you can reload model with all the weights and so forth with:\n",
    "        # torch.load(\"NN\")\n",
    "        \n",
    "    def predict(self):\n",
    "        print (\"Predicted data based on trained weights: \")\n",
    "        print (\"Input (scaled): \\n\" + str(xPredicted))\n",
    "#print (\"Output: \\n\" + str(self.forward(xPredicted)))"
   ]
  },
  {
   "cell_type": "code",
   "execution_count": 203,
   "metadata": {},
   "outputs": [
    {
     "name": "stdout",
     "output_type": "stream",
     "text": [
      "Predicted data based on trained weights: \n",
      "Input (scaled): \n",
      "tensor([[1., 1., 1., 1., 1., 1., 1., 1., 1., 1., 1., 1., 1., 1., 1., 1., 1., 1.,\n",
      "         1., 1., 1., 1., 1., 1., 1., 1., 1., 1., 1., 1., 1., 1., 1., 1., 1., 1.,\n",
      "         1., 1., 1., 1., 1., 1., 1., 1., 1., 1., 1., 1., 1., 1., 1., 1., 1., 1.,\n",
      "         1., 1., 1., 1., 1., 1., 1., 1., 1., 1., 1., 1., 1., 1., 1., 1., 1., 1.,\n",
      "         1., 1., 1., 1., 1., 1., 1., 1., 1., 1., 1., 1., 1., 1., 1., 1., 1., 1.,\n",
      "         1., 1., 1., 1., 1., 1., 1., 1., 1., 1., 1., 1., 1., 1., 1., 1., 1., 1.,\n",
      "         1., 1., 1., 1., 1., 1., 1., 1., 1., 1., 1., 1., 1., 1., 1., 1., 1., 1.,\n",
      "         1., 1., 1., 1., 1., 1., 1., 1., 1., 1., 1., 1., 1., 1., 1., 1., 1., 1.,\n",
      "         1., 1., 1., 1., 1., 1., 1., 1., 1., 1., 1., 1., 1., 1., 1., 1., 1., 1.,\n",
      "         1., 1., 1., 1., 1., 1., 1., 1., 1., 1., 1., 1., 1., 1., 1., 1., 1., 1.,\n",
      "         1., 1., 1., 1., 1., 1., 1., 1., 1., 1., 1., 1., 1., 1., 1., 1., 1., 1.,\n",
      "         1., 1., 1., 1., 1., 1., 1., 1., 1., 1., 1., 1., 1., 1., 1., 1., 1., 1.,\n",
      "         1., 1., 1., 1., 1., 1., 1., 1., 1., 1., 1., 1., 1., 1., 1., 1., 1., 1.,\n",
      "         1., 1., 1., 1., 1., 1., 1., 1., 1., 1., 1., 1., 1., 1., 1., 1., 1., 1.,\n",
      "         1., 1., 1., 1., 1., 1., 1., 1., 1., 1., 1., 1., 1., 1., 1., 1., 1., 1.,\n",
      "         1., 1., 1., 1., 1., 1., 1., 1., 1., 1., 1., 1., 1., 1., 1., 1., 1., 1.,\n",
      "         1., 1., 1., 1., 1., 1., 1., 1., 1., 1., 1., 1., 1., 1., 1., 1., 1., 1.,\n",
      "         1., 1., 1., 1., 1., 1., 1., 1., 1., 1., 1., 1., 1., 1., 1., 1., 1., 1.,\n",
      "         1., 1., 1., 1., 1., 1., 1., 1., 1., 1., 1., 1., 1., 1., 1., 1., 1., 1.,\n",
      "         1., 1., 1., 1., 1., 1., 1., 1., 1., 1., 1., 1., 1., 1., 1., 1., 1., 1.,\n",
      "         1., 1., 1., 1., 1., 1., 1., 1., 1., 1., 1., 1., 1., 1., 1., 1., 1., 1.,\n",
      "         1., 1., 1., 1., 1., 1., 1., 1., 1., 1., 1., 1., 1., 1., 1., 1., 1., 1.,\n",
      "         1., 1., 1., 1., 1., 1., 1., 1., 1., 1., 1., 1., 1., 1., 1., 1., 1., 1.,\n",
      "         1., 1., 1., 1., 1., 1., 1., 1., 1., 1., 1., 1., 1., 1., 1., 1., 1., 1.,\n",
      "         1., 1., 1., 1., 1., 1., 1., 1., 1., 1., 1., 1., 1., 1., 1., 1., 1., 1.,\n",
      "         1., 1., 1., 1., 1., 1., 1., 1., 1., 1., 1., 1., 1., 1., 1., 1., 1., 1.,\n",
      "         1., 1., 1., 1., 1., 1., 1., 1., 1., 1., 1., 1., 1., 1., 1., 1., 1., 1.,\n",
      "         1., 1., 1., 1., 1., 1., 1., 1., 1., 1., 1., 1., 1., 1., 1., 1., 1., 1.,\n",
      "         1., 1., 1., 1., 1., 1., 1., 1., 1., 1., 1., 1., 1., 1., 1., 1., 1., 1.,\n",
      "         1., 1., 1., 1., 1., 1., 1., 1., 1., 1., 1., 1., 1., 1., 1., 1., 1., 1.,\n",
      "         1., 1., 1., 1., 1., 1., 1., 1., 1., 1., 1., 1., 1., 1., 1., 1., 1., 1.,\n",
      "         1., 1., 1., 1., 1., 1., 1., 1., 1., 1., 1., 1., 1., 1., 1., 1., 1., 1.,\n",
      "         1., 1., 1., 1., 1., 1., 1., 1., 1., 1., 1., 1., 1., 1., 1., 1., 1., 1.,\n",
      "         1., 1., 1., 1., 1., 1., 1., 1., 1., 1., 1., 1., 1., 1., 1., 1., 1., 1.,\n",
      "         1., 1., 1., 1., 1., 1., 1., 1., 1., 1., 1., 1., 1., 1., 1., 1., 1., 1.,\n",
      "         1., 1., 1., 1., 1., 1., 1., 1., 1., 1., 1., 1., 1., 1., 1., 1., 1., 1.,\n",
      "         1., 1., 1., 1., 1., 1., 1., 1., 1., 1., 1., 1., 1., 1., 1., 1., 1., 1.,\n",
      "         1., 1., 1., 1., 1., 1., 1., 1., 1., 1., 1., 1., 1., 1., 1., 1., 1., 1.,\n",
      "         1., 1., 1., 1., 1., 1., 1., 1., 1., 1., 1., 1., 1., 1., 1., 1., 1., 1.,\n",
      "         1., 1., 1., 1., 1., 1., 1., 1., 1., 1., 1., 1., 1., 1., 1., 1., 1., 1.,\n",
      "         1., 1., 1., 1., 1., 1., 1., 1., 1., 1., 1., 1., 1., 1., 1., 1., 1., 1.,\n",
      "         1., 1., 1., 1., 1., 1., 1., 1., 1., 1., 1., 1., 1., 1., 1., 1., 1., 1.,\n",
      "         1., 1., 1., 1., 1., 1., 1., 1., 1., 1., 1., 1., 1., 1., 1., 1., 1., 1.,\n",
      "         1., 1., 1., 1., 1., 1., 1., 1., 1., 1., 1., 1., 1., 1., 1., 1., 1., 1.,\n",
      "         1., 1., 1., 1., 1., 1., 1., 1., 1., 1., 1., 1., 1., 1., 1., 1., 1., 1.,\n",
      "         1., 1., 1., 1., 1., 1., 1., 1., 1., 1., 1., 1., 1., 1., 1., 1., 1., 1.,\n",
      "         1., 1., 1., 1., 1., 1., 1., 1., 1., 1., 1., 1., 1., 1., 1., 1., 1., 1.,\n",
      "         1., 1., 1., 1., 1., 1., 1., 1., 1., 1., 1., 1., 1., 1., 1., 1., 1., 1.,\n",
      "         1., 1., 1., 1., 1., 1., 1., 1., 1., 1., 1., 1., 1., 1., 1., 1., 1., 1.,\n",
      "         1., 1., 1., 1.]])\n"
     ]
    },
    {
     "data": {
      "image/png": "[encoded data removed]",
      "text/plain": [
       "<Figure size 432x288 with 1 Axes>"
      ]
     },
     "metadata": {
      "needs_background": "light"
     },
     "output_type": "display_data"
    }
   ],
   "source": [
    "NN = Neural_Network()\n",
    "error=[]\n",
    "for i in range(1000):  # trains the NN 1,000 times\n",
    "    #print (\"#\" + str(i) + \" Loss: \" + str(torch.mean((y - NN(X))**2).detach().item()))  # mean sum squared loss\n",
    "    error.append(torch.mean((y - NN(X))**2).detach().item())\n",
    "    NN.train(X, y)\n",
    "    \n",
    "plt.plot(range(1000),np.array(error))\n",
    "plt.xlabel('Number of rounds')\n",
    "plt.ylabel('Error')\n",
    "plt.xscale('log')\n",
    "plt.title('Error vs. Number of rounds')\n",
    "plt.savefig('error.png')\n",
    "\n",
    "\n",
    "NN.saveWeights(NN)\n",
    "NN.predict()\n",
    "    \n"
   ]
  },
  {
   "cell_type": "code",
   "execution_count": 204,
   "metadata": {},
   "outputs": [
    {
     "name": "stdout",
     "output_type": "stream",
     "text": [
      "[0.2953164577484131, 0.05714096873998642, 0.04600946232676506, 0.043423522263765335, 0.04432026669383049, 0.04394719377160072, 0.04430680721998215, 0.04426761344075203, 0.04453828185796738, 0.04358869418501854, 0.04325170814990997, 0.04226570203900337, 0.04093341901898384, 0.03996175155043602, 0.04001784697175026, 0.03973669558763504, 0.03852272033691406, 0.03772333636879921, 0.037115678191185, 0.037062063813209534, 0.0369243249297142, 0.036655593663454056, 0.03643921762704849, 0.035855766385793686, 0.03546617552638054, 0.03583807125687599, 0.03589382767677307, 0.035860802978277206, 0.03586212545633316, 0.03585279732942581, 0.03581518679857254, 0.03576746955513954, 0.03540416434407234, 0.03538021817803383, 0.03583630546927452, 0.03575544431805611, 0.03545358031988144, 0.035446975380182266, 0.035320837050676346, 0.03466026112437248, 0.03500499948859215, 0.03544900566339493, 0.03543766587972641, 0.035431694239377975, 0.035437241196632385, 0.035044703632593155, 0.03468053787946701, 0.03464497625827789, 0.03432043641805649, 0.034285981208086014, 0.034091491252183914, 0.033891648054122925, 0.03388649970293045, 0.03371407464146614, 0.03349297121167183, 0.033492591232061386, 0.033492207527160645, 0.033491384238004684, 0.033491287380456924, 0.033491071313619614, 0.033490926027297974, 0.03349075838923454, 0.03349063917994499, 0.03349045664072037, 0.03349032998085022, 0.03349006175994873, 0.03348984196782112, 0.033489398658275604, 0.033488962799310684, 0.03348807990550995, 0.0334867425262928, 0.03348226845264435, 0.03344257175922394, 0.03383871912956238, 0.034282635897397995, 0.03425243869423866, 0.034258272498846054, 0.03421778604388237, 0.03417167440056801, 0.033854708075523376, 0.033856965601444244, 0.03385508060455322, 0.033841248601675034, 0.03347906097769737, 0.03364868462085724, 0.033490024507045746, 0.033489812165498734, 0.03348963335156441, 0.03348945081233978, 0.03348926827311516, 0.03348903730511665, 0.033488769084215164, 0.03348829597234726, 0.033487506210803986, 0.033486057072877884, 0.03348447009921074, 0.03347908705472946, 0.03340528905391693, 0.03361361101269722, 0.03347184881567955, 0.03344511240720749, 0.03344949334859848, 0.03345084935426712, 0.03344769403338432, 0.03343627229332924, 0.03301224112510681, 0.03343011066317558, 0.03307109326124191, 0.033033452928066254, 0.03337469696998596, 0.0330495648086071, 0.03305273503065109, 0.033049289137125015, 0.03305167332291603, 0.03305282071232796, 0.03305394574999809, 0.03305589407682419, 0.03305574879050255, 0.03305540978908539, 0.03305499255657196, 0.03305401653051376, 0.03305154666304588, 0.03303536772727966, 0.03265228495001793, 0.03307855501770973, 0.03301785886287689, 0.03302010893821716, 0.033015042543411255, 0.0327443890273571, 0.03265668451786041, 0.03265649080276489, 0.03265640139579773, 0.032656051218509674, 0.032655563205480576, 0.032653871923685074, 0.0326424166560173, 0.03223155811429024, 0.03265007957816124, 0.03265545889735222, 0.03265637531876564, 0.03265612572431564, 0.032655928283929825, 0.03265543282032013, 0.03265465050935745, 0.03265201672911644, 0.03263872116804123, 0.03263692557811737, 0.03263270482420921, 0.03263363242149353, 0.0325898639857769, 0.03228694573044777, 0.03228673338890076, 0.032286547124385834, 0.03228650242090225, 0.03228631615638733, 0.03228619322180748, 0.032285887748003006, 0.03228548541665077, 0.032284609973430634, 0.032283660024404526, 0.032281696796417236, 0.03226741775870323, 0.03264101967215538, 0.03220422565937042, 0.032252177596092224, 0.032284870743751526, 0.03228466957807541, 0.0322842001914978, 0.032282810658216476, 0.032273679971694946, 0.03223855420947075, 0.03188026323914528, 0.03188209980726242, 0.0318852998316288, 0.03188517689704895, 0.03188495710492134, 0.03188459202647209, 0.031883906573057175, 0.031883470714092255, 0.031883254647254944, 0.03188289701938629, 0.03188225254416466, 0.03188052028417587, 0.031873587518930435, 0.03168080002069473, 0.03148407116532326, 0.031483735889196396, 0.031483378261327744, 0.03148190677165985, 0.03147856146097183, 0.03147999942302704, 0.03148505091667175, 0.03148474544286728, 0.031483910977840424, 0.03148196265101433, 0.03148208186030388, 0.031482670456171036, 0.0314805768430233, 0.03148563578724861, 0.03148377686738968, 0.03148060664534569, 0.03148549795150757, 0.031483057886362076, 0.03148415684700012, 0.03148657828569412, 0.03148651495575905, 0.031486306339502335, 0.03148616850376129, 0.03148580715060234, 0.03148538991808891, 0.03148436173796654, 0.03148147091269493, 0.03145261108875275, 0.03109591081738472, 0.031082570552825928, 0.03108777292072773, 0.031085476279258728, 0.03108394332230091, 0.031077248975634575, 0.03078446537256241, 0.030685359612107277, 0.03068511001765728, 0.03068474493920803, 0.030684100463986397, 0.030683470889925957, 0.03068321943283081, 0.03068290650844574, 0.03068232722580433, 0.030681179836392403, 0.030680133029818535, 0.030677372589707375, 0.030689174309372902, 0.03068307414650917, 0.030682990327477455, 0.030682938173413277, 0.030682848766446114, 0.030682725831866264, 0.03068249486386776, 0.030682073906064034, 0.030681338161230087, 0.030680883675813675, 0.030679965391755104, 0.030676832422614098, 0.030689120292663574, 0.030683079734444618, 0.030683254823088646, 0.03068305365741253, 0.030683202669024467, 0.0306830033659935, 0.030683137476444244, 0.030682934448122978, 0.03068307414650917, 0.030682848766446114, 0.030682984739542007, 0.030682746320962906, 0.030682863667607307, 0.030682595446705818, 0.030682694166898727, 0.030682405456900597, 0.030682455748319626, 0.030682124197483063, 0.030682140961289406, 0.030681757256388664, 0.030681753531098366, 0.03068137913942337, 0.03068140707910061, 0.030681099742650986, 0.03068118542432785, 0.03068091906607151, 0.030681030824780464, 0.03068077191710472, 0.03068086877465248, 0.03068055771291256, 0.030680585652589798, 0.03068019077181816, 0.030680125579237938, 0.03067968226969242, 0.0306797306984663, 0.03067951649427414, 0.030679693445563316, 0.030679475516080856, 0.030679648742079735, 0.030679423362016678, 0.030679592862725258, 0.03067936934530735, 0.03067951090633869, 0.030679283663630486, 0.03067941963672638, 0.03067917190492153, 0.03067930042743683, 0.030679039657115936, 0.03067914769053459, 0.030678851529955864, 0.03067895397543907, 0.03067869134247303, 0.03067881613969803, 0.030678601935505867, 0.030678780749440193, 0.03067857213318348, 0.030678730458021164, 0.0306785199791193, 0.030678674578666687, 0.03067844919860363, 0.030678603798151016, 0.030678382143378258, 0.030678538605570793, 0.030678292736411095, 0.030678406357765198, 0.030678139999508858, 0.03067825920879841, 0.030677979812026024, 0.03067806549370289, 0.030677776783704758, 0.030677901580929756, 0.030677640810608864, 0.03067779541015625, 0.030677562579512596, 0.030677737668156624, 0.030677499249577522, 0.03067764826118946, 0.03067738749086857, 0.030677516013383865, 0.03067721799015999, 0.030677292495965958, 0.030676886439323425, 0.03067675605416298, 0.030675798654556274, 0.030673636123538017, 0.03064841777086258, 0.030286770313978195, 0.030277356505393982, 0.030276987701654434, 0.030274640768766403, 0.030273862183094025, 0.030278433114290237, 0.030277475714683533, 0.030275192111730576, 0.030272675678133965, 0.03027607500553131, 0.030273709446191788, 0.03027881495654583, 0.030278639867901802, 0.030277835205197334, 0.030275728553533554, 0.030274992808699608, 0.030279112979769707, 0.030278898775577545, 0.03027893416583538, 0.030278686434030533, 0.030278675258159637, 0.03027837537229061, 0.030278366059064865, 0.030278054997324944, 0.030278027057647705, 0.030277689918875694, 0.030277641490101814, 0.03027728945016861, 0.030277179554104805, 0.03027665801346302, 0.030276095494627953, 0.03027518466114998, 0.030274927616119385, 0.03027399629354477, 0.030272189527750015, 0.030260397121310234, 0.029861319810152054, 0.030279839411377907, 0.03027704730629921, 0.030276527628302574, 0.030276093631982803, 0.030273936688899994, 0.030272116884589195, 0.030276011675596237, 0.03027224913239479, 0.030275918543338776, 0.030278069898486137, 0.03027774579823017, 0.030277414247393608, 0.030276499688625336, 0.030273793265223503, 0.030238986015319824, 0.029879102483391762, 0.029877766966819763, 0.02987750619649887, 0.029877159744501114, 0.0298770759254694, 0.02987687848508358, 0.02987677790224552, 0.029876526445150375, 0.02987632341682911, 0.029875872656702995, 0.029875246807932854, 0.02987324632704258, 0.029858801513910294, 0.029500624164938927, 0.029427528381347656, 0.029479514807462692, 0.029875319451093674, 0.02987515740096569, 0.029875267297029495, 0.029875043779611588, 0.029875077307224274, 0.02987486682832241, 0.029874922707676888, 0.029874643310904503, 0.029874570667743683, 0.02987411804497242, 0.029873644933104515, 0.02987167239189148, 0.029857363551855087, 0.029480937868356705, 0.02986074611544609, 0.029821326956152916, 0.029475145041942596, 0.02947479486465454, 0.029474718496203423, 0.029473926872015, 0.029472647234797478, 0.029471904039382935, 0.029476068913936615, 0.02947566844522953, 0.029475195333361626, 0.029473982751369476, 0.029470786452293396, 0.02947114408016205, 0.029460163787007332, 0.0290576983243227, 0.029075877740979195, 0.02907729335129261, 0.029077326878905296, 0.029077187180519104, 0.029077190905809402, 0.029077064245939255, 0.02907702326774597, 0.029076866805553436, 0.029076801612973213, 0.02907656505703926, 0.029076367616653442, 0.02907603792846203, 0.029075762256979942, 0.029075337573885918, 0.029075125232338905, 0.029074762016534805, 0.029074180871248245, 0.0290719922631979, 0.029053058475255966, 0.02867780439555645, 0.029062600806355476, 0.029049931094050407, 0.028627492487430573, 0.02907281182706356, 0.029065925627946854, 0.029061617329716682, 0.02906160242855549, 0.029061442241072655, 0.02906132861971855, 0.02906096912920475, 0.02906036749482155, 0.029059041291475296, 0.029059166088700294, 0.029059605672955513, 0.02905881777405739, 0.029058832675218582, 0.029058828949928284, 0.029059214517474174, 0.029057815670967102, 0.02905699983239174, 0.02905646525323391, 0.02905607409775257, 0.02905532345175743, 0.02905277907848358, 0.029018718749284744, 0.028655145317316055, 0.0286527331918478, 0.028651658445596695, 0.028650254011154175, 0.028647704049944878, 0.028643760830163956, 0.028587505221366882, 0.0283009335398674, 0.028257783502340317, 0.028255805373191833, 0.028256496414542198, 0.028258636593818665, 0.0282581839710474, 0.028257383033633232, 0.028255484998226166, 0.02825603261590004, 0.02825840562582016, 0.028257429599761963, 0.02825668640434742, 0.02825385332107544, 0.028255047276616096, 0.028256550431251526, 0.028256302699446678, 0.02825476974248886, 0.028252961114048958, 0.028252361342310905, 0.02825266867876053, 0.028253043070435524, 0.028255421668291092, 0.02825406938791275, 0.02825252152979374, 0.02825201489031315, 0.02825465239584446, 0.028251949697732925, 0.0282524973154068, 0.028254931792616844, 0.028254861012101173, 0.028253285214304924, 0.028251392766833305, 0.028251266106963158, 0.028251729905605316, 0.02825133129954338, 0.028252756223082542, 0.02825142629444599, 0.02825293503701687, 0.02825183793902397, 0.028253957629203796, 0.02825295366346836, 0.02825080044567585, 0.028250889852643013, 0.028251519426703453, 0.028251346200704575, 0.028252949938178062, 0.028250886127352715, 0.028238799422979355, 0.02779894508421421, 0.028254089877009392, 0.028253089636564255, 0.028250977396965027, 0.028249649330973625, 0.0282504390925169, 0.028248341754078865, 0.028248624876141548, 0.02825070358812809, 0.028248999267816544, 0.028249887749552727, 0.028250277042388916, 0.028252096846699715, 0.028252162039279938, 0.02825164422392845, 0.02824980393052101, 0.02825041674077511, 0.02825189381837845, 0.028251389041543007, 0.028250575065612793, 0.02824883908033371, 0.02824859321117401, 0.028248479589819908, 0.02825050801038742, 0.028249571099877357, 0.028247065842151642, 0.02824796922504902, 0.028250059112906456, 0.02824917435646057, 0.028246207162737846, 0.02824515290558338, 0.02824879251420498, 0.02824549563229084, 0.02824130468070507, 0.02824142575263977, 0.028243793174624443, 0.028246300294995308, 0.028248077258467674, 0.02824384719133377, 0.0282417144626379, 0.02824493683874607, 0.02824338711798191, 0.02824578434228897, 0.028248155489563942, 0.028246385976672173, 0.0282425619661808, 0.028241397812962532, 0.028242409229278564, 0.028241382911801338, 0.028243625536561012, 0.028245391324162483, 0.028244217857718468, 0.028245069086551666, 0.028246406465768814, 0.0282440148293972, 0.028244992718100548, 0.028244024142622948, 0.02824505791068077, 0.02824472077190876, 0.028242532163858414, 0.028242077678442, 0.028243273496627808, 0.028240511193871498, 0.028243491426110268, 0.02824324183166027, 0.028240172192454338, 0.028237421065568924, 0.028238559141755104, 0.028242476284503937, 0.028241366147994995, 0.028243044391274452, 0.028239136561751366, 0.028237733989953995, 0.028238387778401375, 0.02823522686958313, 0.028087040409445763, 0.027837596833705902, 0.02784087508916855, 0.027841530740261078, 0.02783850207924843, 0.027838191017508507, 0.02783641405403614, 0.027821965515613556, 0.027466129511594772, 0.027432793751358986, 0.027853503823280334, 0.02784959226846695, 0.02785000018775463, 0.027839306741952896, 0.02784060128033161, 0.02783791348338127, 0.027841957286000252, 0.027837980538606644, 0.027835721150040627, 0.02783842571079731, 0.027837922796607018, 0.02783874422311783, 0.027837809175252914, 0.02783752791583538, 0.027835402637720108, 0.027838140726089478, 0.027840949594974518, 0.02784130722284317, 0.02783958427608013, 0.027836928144097328, 0.02783617191016674, 0.027837999165058136, 0.027838928624987602, 0.027834756299853325, 0.02783680148422718, 0.027837678790092468, 0.027843058109283447, 0.027840692549943924, 0.027838747948408127, 0.027834687381982803, 0.027836546301841736, 0.02783803641796112, 0.027838801965117455, 0.027837330475449562, 0.02783588320016861, 0.027837421745061874, 0.027837524190545082, 0.02783244103193283, 0.027828983962535858, 0.027826692909002304, 0.027811331674456596, 0.02759034000337124, 0.027435706928372383, 0.027432844042778015, 0.027371753007173538, 0.02705729752779007, 0.027054887264966965, 0.027052853256464005, 0.02705525793135166, 0.027053499594330788, 0.027053365483880043, 0.027052078396081924, 0.02705206908285618, 0.027053648605942726, 0.02705306187272072, 0.0270516537129879, 0.02704974263906479, 0.027051184326410294, 0.027030127122998238, 0.02745574526488781, 0.0274510495364666, 0.02745242603123188, 0.027455095201730728, 0.027457421645522118, 0.027453690767288208, 0.027452096343040466, 0.027456115931272507, 0.027456561103463173, 0.02745431289076805, 0.02745440974831581, 0.027455167844891548, 0.027454469352960587, 0.02745628170669079, 0.02745109423995018, 0.027445558458566666, 0.027307936921715736, 0.02705729380249977, 0.027055498212575912, 0.027051910758018494, 0.027052907273173332, 0.027057839557528496, 0.02705403044819832, 0.027054673060774803, 0.027051206678152084, 0.02705436758697033, 0.027054304257035255, 0.027055365964770317, 0.02705312706530094, 0.027051566168665886, 0.027051812037825584, 0.027055293321609497, 0.02705477736890316, 0.027052339166402817, 0.027051394805312157, 0.02705027349293232, 0.02705293335020542, 0.027053026482462883, 0.027052054181694984, 0.027054322883486748, 0.027055293321609497, 0.027052998542785645, 0.02705085463821888, 0.027055194601416588, 0.02705538272857666, 0.027053559198975563, 0.02705240249633789, 0.02705255150794983, 0.02705266885459423, 0.027052897959947586, 0.027053352445364, 0.027053235098719597, 0.027053749188780785, 0.02705327793955803, 0.02705226093530655, 0.027052205055952072, 0.027052942663431168, 0.027054378762841225, 0.027052130550146103, 0.02705291472375393, 0.027050914242863655, 0.027049195021390915, 0.02705085091292858, 0.027055513113737106, 0.02705294080078602, 0.02705356478691101, 0.027053264901041985, 0.027052905410528183, 0.027054253965616226, 0.02705216221511364, 0.027050476521253586, 0.027051640674471855, 0.027052413672208786, 0.02704857848584652, 0.02704988606274128, 0.027052011340856552, 0.02705041877925396, 0.027048934251070023, 0.0270529817789793, 0.027049535885453224, 0.027048679068684578, 0.027048571035265923, 0.02705121412873268, 0.02704996056854725, 0.027049098163843155, 0.02704741805791855, 0.027045467868447304, 0.027044789865612984, 0.027039218693971634, 0.027187125757336617, 0.02704857476055622, 0.02704644948244095, 0.027043985202908516, 0.02703874558210373, 0.027087649330496788, 0.02704731747508049, 0.027048178017139435, 0.027050063014030457, 0.027043715119361877, 0.02704765647649765, 0.02704698033630848, 0.027048379182815552, 0.027045397087931633, 0.027048546820878983, 0.02705424837768078, 0.027049707248806953, 0.02704622410237789, 0.027048276737332344, 0.027047742158174515, 0.02705295756459236, 0.027048636227846146, 0.027047738432884216, 0.027050351724028587, 0.02705002948641777, 0.027050664648413658, 0.027047034353017807, 0.027050169184803963, 0.027047691866755486, 0.027047868818044662, 0.027053173631429672, 0.0270471703261137, 0.027043359354138374, 0.027048448100686073, 0.027049515396356583, 0.027047738432884216, 0.02704712375998497, 0.027049284428358078, 0.027051366865634918, 0.027048319578170776, 0.02704980969429016, 0.027047570794820786, 0.02704739011824131, 0.02704806812107563, 0.027046436443924904, 0.02704758197069168, 0.027048101648688316, 0.027044985443353653, 0.027044519782066345, 0.02704937383532524, 0.02704607881605625, 0.02704799920320511, 0.027044761925935745, 0.027042975649237633, 0.027041878551244736, 0.02704360894858837, 0.027035703882575035, 0.027022136375308037, 0.027212917804718018, 0.02705063298344612, 0.027053019031882286, 0.027052879333496094, 0.027054496109485626, 0.027053596451878548, 0.027047932147979736, 0.027044912800192833, 0.027049165219068527, 0.02705083042383194, 0.0270523838698864, 0.027048055082559586, 0.027045922353863716, 0.02704722061753273, 0.02704773098230362, 0.02698623389005661, 0.026652852073311806, 0.02664235234260559, 0.026636335998773575, 0.026637747883796692, 0.026614340022206306, 0.026262888684868813, 0.02626051753759384, 0.026260782033205032, 0.026260530576109886, 0.026250172406435013, 0.026249181479215622, 0.026252539828419685, 0.026251258328557014, 0.02625155821442604, 0.02624671906232834, 0.026248225942254066, 0.026252899318933487, 0.026253245770931244, 0.026251131668686867, 0.026246465742588043, 0.026250693947076797, 0.02625739760696888, 0.02625468373298645, 0.02624831162393093, 0.026243407279253006, 0.026247648522257805, 0.026251792907714844, 0.026249567046761513, 0.02624993585050106, 0.026251422241330147, 0.0262469332665205, 0.026249706745147705, 0.026248183101415634, 0.02625303342938423, 0.02624768391251564, 0.026245834305882454, 0.026247385889291763, 0.02625160478055477, 0.026248840615153313, 0.026248199865221977, 0.026251396164298058, 0.026254216209053993, 0.026250286027789116, 0.026252448558807373, 0.026247559115290642, 0.026245512068271637, 0.026249835267663002, 0.026251597329974174, 0.026248620823025703, 0.026246003806591034, 0.026244433596730232, 0.0262456014752388, 0.026252714917063713, 0.026250675320625305, 0.026247398927807808, 0.026248347014188766, 0.026246972382068634, 0.026245834305882454, 0.026248609647154808, 0.026245644316077232, 0.02624797821044922, 0.026251956820487976, 0.026249483227729797, 0.02624702826142311, 0.0262442696839571, 0.026250820606946945, 0.026250962167978287, 0.026247192174196243, 0.02624659612774849, 0.02624606341123581, 0.026247773319482803, 0.026251377537846565, 0.02625078521668911, 0.026249194517731667, 0.026244601234793663, 0.026246612891554832, 0.02624942921102047, 0.02624419890344143, 0.02624370902776718, 0.026245160028338432, 0.026247449219226837, 0.02625015191733837, 0.026246456429362297, 0.0262466948479414, 0.026248618960380554, 0.026247955858707428, 0.02625029906630516, 0.026250362396240234, 0.026247385889291763, 0.02624601125717163, 0.026243962347507477, 0.026249393820762634, 0.02624875120818615, 0.026247134432196617, 0.026244599372148514, 0.0262447576969862, 0.026248754933476448, 0.02625112049281597, 0.026245925575494766, 0.026241019368171692, 0.026243943721055984, 0.026241865009069443, 0.026243161410093307, 0.026246042922139168, 0.02624586410820484, 0.02623617649078369, 0.026230331510305405, 0.026346372440457344, 0.026247449219226837, 0.026248333975672722, 0.02624819055199623, 0.02624550089240074, 0.02624441683292389, 0.026247723028063774, 0.0262459609657526, 0.026242772117257118, 0.026239188387989998, 0.026235785335302353, 0.02623823471367359, 0.026244647800922394, 0.026240428909659386, 0.026237595826387405, 0.026236476376652718, 0.026240205392241478, 0.026239780709147453, 0.02623867616057396, 0.026234127581119537, 0.026238644495606422, 0.026244839653372765, 0.02624048851430416, 0.026237310841679573, 0.026232780888676643, 0.026236506178975105, 0.026237288489937782, 0.026236357167363167, 0.026234960183501244, 0.02623673900961876, 0.02623652294278145, 0.02623879723250866, 0.02623547613620758, 0.026236457750201225, 0.026239214465022087, 0.026237914338707924, 0.02623782493174076, 0.026240603998303413, 0.026235882192850113, 0.026235168799757957, 0.026238245889544487, 0.02624213695526123, 0.02623612806200981, 0.026235707104206085, 0.026235345751047134, 0.026240069419145584, 0.02624182589352131, 0.02624296396970749, 0.02623838745057583, 0.02623659186065197, 0.026236850768327713, 0.026238230988383293, 0.026237186044454575, 0.02624175325036049, 0.02624301053583622, 0.026239408180117607, 0.026237117126584053, 0.026239562779664993, 0.026236625388264656]\n"
     ]
    }
   ],
   "source": []
  },
  {
   "cell_type": "code",
   "execution_count": null,
   "metadata": {},
   "outputs": [],
   "source": []
  },
  {
   "cell_type": "code",
   "execution_count": null,
   "metadata": {},
   "outputs": [],
   "source": []
  },
  {
   "cell_type": "code",
   "execution_count": null,
   "metadata": {},
   "outputs": [],
   "source": []
  },
  {
   "cell_type": "code",
   "execution_count": null,
   "metadata": {},
   "outputs": [],
   "source": []
  }
 ],
 "metadata": {
  "kernelspec": {
   "display_name": "Python 3",
   "language": "python",
   "name": "python3"
  },
  "language_info": {
   "codemirror_mode": {
    "name": "ipython",
    "version": 3
   },
   "file_extension": ".py",
   "mimetype": "text/x-python",
   "name": "python",
   "nbconvert_exporter": "python",
   "pygments_lexer": "ipython3",
   "version": "3.7.1"
  }
 },
 "nbformat": 4,
 "nbformat_minor": 2
}
