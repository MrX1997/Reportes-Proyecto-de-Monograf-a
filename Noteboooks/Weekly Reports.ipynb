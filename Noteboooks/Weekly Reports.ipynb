{
 "cells": [
  {
   "cell_type": "code",
   "execution_count": 23,
   "metadata": {},
   "outputs": [],
   "source": [
    "# Jairo Andres Saavedra Alfonso\n",
    "# 01 de Febrero de 2019\n",
    "# Universidad de Los Andes\n",
    "# Phycis \n",
    "######################__________________Report 01__________________######################"
   ]
  },
  {
   "cell_type": "code",
   "execution_count": 24,
   "metadata": {},
   "outputs": [],
   "source": [
    "#Packages\n",
    "from astropy.io import fits\n",
    "import numpy as np\n",
    "import matplotlib.pylab as plt\n",
    "import pandas as pd\n",
    "from astropy.table import Table"
   ]
  },
  {
   "cell_type": "code",
   "execution_count": 25,
   "metadata": {
    "scrolled": false
   },
   "outputs": [
    {
     "name": "stdout",
     "output_type": "stream",
     "text": [
      "Filename: truth_DR12Q.fits\n",
      "No.    Name      Ver    Type      Cards   Dimensions   Format\n",
      "  0  PRIMARY       1 PrimaryHDU       6   ()      \n",
      "  1                1 BinTableHDU     27   546856R x 9C   [J, D, J, J, J, J, J, D, D]   \n",
      "None /n ColDefs(\n",
      "    name = 'THING_ID'; format = 'J'\n",
      "    name = 'Z_VI'; format = 'D'\n",
      "    name = 'PLATE'; format = 'J'\n",
      "    name = 'MJD'; format = 'J'\n",
      "    name = 'FIBERID'; format = 'J'\n",
      "    name = 'CLASS_PERSON'; format = 'J'\n",
      "    name = 'Z_CONF_PERSON'; format = 'J'\n",
      "    name = 'BAL_FLAG_VI'; format = 'D'\n",
      "    name = 'BI_CIV'; format = 'D'\n",
      ")\n",
      "[357405338 353907506  33180814 ... 352121795 401440280 401440241]\n"
     ]
    }
   ],
   "source": [
    "# Reading data from truth_DR12Q.fits. This file have the database sample of spectra with human-expert classifitacion\n",
    "\n",
    "hdul = fits.open('truth_DR12Q.fits') # Open file\n",
    "info=hdul.info() # File info\n",
    "columns=hdul[1].columns # File Columns \n",
    "print(info,'/n',columns)\n",
    "data=hdul[1].data # Database of spectra with human-expert classifications \n",
    "print(data['THING_ID'])\n"
   ]
  },
  {
   "cell_type": "code",
   "execution_count": 26,
   "metadata": {
    "scrolled": true
   },
   "outputs": [
    {
     "name": "stdout",
     "output_type": "stream",
     "text": [
      "(207915,)\n",
      "(22795,)\n",
      "(270686,)\n",
      "(29659,)\n",
      "(15801,)\n"
     ]
    }
   ],
   "source": [
    "# The column 'CLASS_PERSON' have a class identifier for each spectrum: STARS=1, GALAXY=4, QSO=3 and QSO_BAL=30.\n",
    "C_P=data['CLASS_PERSON'] #Class Person column \n",
    "STAR=C_P[C_P==1] # objects classified as stars\n",
    "GALAXY=C_P[C_P==4] # objects classified as galaxies \n",
    "QSO=C_P[C_P==3] # objects classified as QSO (Quasars)\n",
    "QSO_BAL=C_P[C_P==30] # objects classified as QSO BAL (Quasars with Broad Absortions Lines)\n",
    "N_C=C_P[C_P!=30]   \n",
    "N_C=N_C[N_C!=3]\n",
    "N_C=N_C[N_C!=1]\n",
    "N_C=N_C[N_C!=4] # objects wrong classified\n",
    "print(STAR.shape)\n",
    "print(GALAXY.shape)\n",
    "print(QSO.shape)\n",
    "print(QSO_BAL.shape)\n",
    "print(N_C.shape)"
   ]
  },
  {
   "cell_type": "code",
   "execution_count": 27,
   "metadata": {
    "scrolled": false
   },
   "outputs": [
    {
     "name": "stdout",
     "output_type": "stream",
     "text": [
      "(214791,)\n",
      "(7123,)\n"
     ]
    }
   ],
   "source": [
    "Z_VI=data['Z_VI'] # Redshift of each object\n",
    "print(Z_VI[Z_VI==0.0].shape)\n",
    "Z_C_P=data['Z_CONF_PERSON']\n",
    "print(Z_C_P[Z_C_P==0].shape)\n",
    "T_ID=data['THING_ID']\n",
    "i=T_ID==-1\n",
    "T_ID=T_ID[i]"
   ]
  },
  {
   "cell_type": "code",
   "execution_count": 28,
   "metadata": {},
   "outputs": [
    {
     "data": {
      "text/plain": [
       "Text(0.5, 1.0, 'QSO')"
      ]
     },
     "execution_count": 28,
     "metadata": {},
     "output_type": "execute_result"
    },
    {
     "data": {
      "image/png": "[encoded data removed]",
      "text/plain": [
       "<Figure size 432x288 with 1 Axes>"
      ]
     },
     "metadata": {
      "needs_background": "light"
     },
     "output_type": "display_data"
    }
   ],
   "source": [
    "ii=C_P==3\n",
    "oo=C_P==30\n",
    "Z_VI_QSO=Z_VI[ii]\n",
    "Z_VI_QSO_BAL=Z_VI[oo]\n",
    "plt.hist(Z_VI_QSO,100,density=True)\n",
    "plt.xlabel('Redshift')\n",
    "plt.title('QSO')\n"
   ]
  },
  {
   "cell_type": "code",
   "execution_count": 29,
   "metadata": {},
   "outputs": [
    {
     "data": {
      "text/plain": [
       "Text(0.5, 1.0, 'QSO_BAL')"
      ]
     },
     "execution_count": 29,
     "metadata": {},
     "output_type": "execute_result"
    },
    {
     "data": {
      "image/png": "[encoded data removed]",
      "text/plain": [
       "<Figure size 432x288 with 1 Axes>"
      ]
     },
     "metadata": {
      "needs_background": "light"
     },
     "output_type": "display_data"
    }
   ],
   "source": [
    "plt.hist(Z_VI_QSO_BAL,100,density=True)\n",
    "plt.xlabel('Redshift')\n",
    "plt.title('QSO_BAL')"
   ]
  },
  {
   "cell_type": "code",
   "execution_count": 30,
   "metadata": {
    "scrolled": false
   },
   "outputs": [
    {
     "name": "stdout",
     "output_type": "stream",
     "text": [
      "Filename: data_dr12.fits\n",
      "No.    Name      Ver    Type      Cards   Dimensions   Format\n",
      "  0  PRIMARY       1 PrimaryHDU       8   (886, 639464)   float64   \n",
      "  1                1 BinTableHDU     16   639464R x 4C   [J, J, J, J]   \n",
      "[<astropy.io.fits.hdu.image.PrimaryHDU object at 0x7fb7fa091898>, <astropy.io.fits.hdu.table.BinTableHDU object at 0x7fb7f5111898>] /n ColDefs(\n",
      "    name = 'TARGETID'; format = 'J'\n",
      "    name = 'PLATE'; format = 'J'\n",
      "    name = 'MJD'; format = 'J'\n",
      "    name = 'FIBERID'; format = 'J'\n",
      ")\n",
      "[ 87897905  96906927  96907939 ... 505037917 506611870 510289698]\n",
      "[357405338 353907506  33180814 ... 352121795 401440280 401440241]\n",
      "(536684,)\n"
     ]
    },
    {
     "data": {
      "image/png": "[encoded data removed]",
      "text/plain": [
       "<Figure size 432x288 with 1 Axes>"
      ]
     },
     "metadata": {
      "needs_background": "light"
     },
     "output_type": "display_data"
    }
   ],
   "source": [
    "# Reading data from data_dr12.fits. This file had the spectra from data dr12. \n",
    "hdul_2 = fits.open('data_dr12.fits') # Open file\n",
    "info=hdul_2.info() # File info \n",
    "columns=hdul_2[1].columns # File Columns \n",
    "print(hdul,'/n',columns)\n",
    "data2=hdul_2[1].data # Database of spectra\n",
    "spectra=hdul_2[0].data # Spectrum of each object \n",
    "\n",
    "\n",
    "# The Spectra in this database have three main parameters: Plate ID, The modified julian day and fiber ID of the observation.\n",
    "# Let's take a look of the first spectrum.\n",
    "x=np.linspace(360,1000,443) # I cut the sample to 443 pixels in spaced log-wavelength.  \n",
    "#x=np.linspace(0,886,886)\n",
    "zero_spectrum=spectra[12030] #First spectrum\n",
    "zero_spectrum=zero_spectrum[:443]\n",
    "\n",
    "PLATE=data2['PLATE'] # Spectra's Plate ID\n",
    "MJD=data2['MJD'] # Spectra's the modified juliam day\n",
    "FIBERID=data2['FIBERID'] # Spectra's fiber ID\n",
    "\n",
    "zero_plate=PLATE[0] # zero spectrum Plate ID\n",
    "zero_mjd=MJD[0] # zero spectrum MJD\n",
    "zero_fiberid=FIBERID[0] # zero spectrum Fiber ID\n",
    "param = 'Plate = {:.2f}, mjd = {:.2f}, fiberid={:.2f}'.format(zero_plate, zero_mjd, zero_fiberid)\n",
    "plt.plot(x,np.log(zero_spectrum))\n",
    "plt.xlabel('Wavelength [nm]')\n",
    "plt.ylabel('Log-Flux [arb. units]')\n",
    "plt.title(param)\n",
    "plt.xlim([360,1000])\n",
    "plt.savefig('spectrum.png')\n",
    "plt.grid()\n",
    "\n",
    "# I noticed that each object and spectrum don't have the same label. So it's imposible to make some ID correlations.  \n",
    "print(data2['TARGETID'])\n",
    "print(data['THING_ID'])\n",
    "da=np.intersect1d(data2['TARGETID'],data['THING_ID'])\n",
    "print(da.shape)\n",
    "\n",
    "# So, in orden to make a correlation betwen identified object and spectrum we need to use all three parameters (Plate ID, MJD, FiberID)"
   ]
  },
  {
   "cell_type": "code",
   "execution_count": 31,
   "metadata": {},
   "outputs": [
    {
     "name": "stdout",
     "output_type": "stream",
     "text": [
      "(639464,)\n"
     ]
    }
   ],
   "source": [
    "print(data2.shape)"
   ]
  },
  {
   "cell_type": "code",
   "execution_count": 32,
   "metadata": {},
   "outputs": [
    {
     "name": "stdout",
     "output_type": "stream",
     "text": [
      "Number of Plates use in both datasets: (2401,)\n",
      "Number of MJD use in both datasets: (681,)\n",
      "Number of FIBERID use in both datasets: (1000,)\n",
      "Number of FIBERID use in both datasets: (536684,)\n"
     ]
    }
   ],
   "source": [
    "######################__________________Report 02__________________######################\n",
    "\n",
    "## This week I pretend to find some correaltions betwen objects with human-expert classification and spretum from DR12\n",
    "\n",
    "# Subset of PLATE parameters of both data\n",
    "data_PLATE_1=data['PLATE']\n",
    "data_PLATE_2=data2['PLATE']\n",
    "\n",
    "# Subset of MJD parameters of both data\n",
    "data_MJD_1=data['MJD']\n",
    "data_MJD_2=data2['MJD']\n",
    "\n",
    "# Subset of FIBERID parameters of both data\n",
    "data_FIBERID_1=data['FIBERID']\n",
    "data_FIBERID_2=data2['FIBERID']\n",
    "\n",
    "# Subset of FIBERID parameters of both data\n",
    "data_ID_1=data['THING_ID']\n",
    "data_ID_2=data2['TARGETID']\n",
    "\n",
    "# I make here an intersecting set for all three parameters (PLATE, MJD, FIBERID) in both data.\n",
    "data_PLATE_CO=np.intersect1d(data_PLATE_1,data_PLATE_2)\n",
    "data_MJD_CO=np.intersect1d(data_MJD_1,data_MJD_2)\n",
    "data_FIBERID_CO=np.intersect1d(data_FIBERID_1,data_FIBERID_2)\n",
    "data_ID_CO=np.intersect1d(data_ID_1,data_ID_2)\n",
    "\n",
    "# As we can see, in both database, there is a correlation betwen the number of Plates, the modified julian day and the Fiber ID. \n",
    "print('Number of Plates use in both datasets:',data_PLATE_CO.shape)\n",
    "print('Number of MJD use in both datasets:',data_MJD_CO.shape)\n",
    "print('Number of FIBERID use in both datasets:',data_FIBERID_CO.shape)\n",
    "print('Number of FIBERID use in both datasets:',data_ID_CO.shape)\n",
    "#print(data_PLATE_1.dtype)"
   ]
  },
  {
   "cell_type": "code",
   "execution_count": 33,
   "metadata": {
    "scrolled": true
   },
   "outputs": [],
   "source": [
    "# I create two DataFrame for Superset_DR12Q and data_dr12 with only three parameters\n",
    "data={'PLATE':data_PLATE_1,'MJD':data_MJD_1,'FIBERID':data_FIBERID_1,'ID':data_ID_1}\n",
    "data=pd.DataFrame(data=data)\n",
    "\n",
    "data2={'PLATE':data_PLATE_2,'MJD':data_MJD_2,'FIBERID':data_FIBERID_2,'ID':data_ID_2}\n",
    "data2=pd.DataFrame(data=data2)"
   ]
  },
  {
   "cell_type": "code",
   "execution_count": 34,
   "metadata": {
    "scrolled": true
   },
   "outputs": [
    {
     "name": "stdout",
     "output_type": "stream",
     "text": [
      "object\n",
      "(639464, 1)\n",
      "['4869-55896-132']\n"
     ]
    }
   ],
   "source": [
    "# I convert all objects in both set to string chain in orden to combine them as one new ID.\n",
    "data['PLATE']=data['PLATE'].astype(str)\n",
    "data['MJD']=data['MJD'].astype(str)\n",
    "data['FIBERID']=data['FIBERID'].astype(str)\n",
    "#data['ID']=data['ID'].astype(str)\n",
    "\n",
    "\n",
    "data['PM'] = data['MJD'].str.cat(data['FIBERID'],sep=\"-\")\n",
    "#data['M'] = data['FIBERID'].str.cat(data['ID'],sep=\"-\")\n",
    "\n",
    "data['NEWID'] = data['PLATE'].str.cat(data['PM'],sep=\"-\")\n",
    "data_1=data.drop(columns=['PLATE','MJD','FIBERID','ID','PM']).values # New set of database 2 with new ID's\n",
    "print(data_1.dtype)\n",
    "\n",
    "data2['PLATE']=data2['PLATE'].astype(str)\n",
    "data2['MJD']=data2['MJD'].astype(str)\n",
    "data2['FIBERID']=data2['FIBERID'].astype(str)\n",
    "#data2['ID']=data2['ID'].astype(str)\n",
    "\n",
    "\n",
    "data2['PM'] = data2['MJD'].str.cat(data2['FIBERID'],sep=\"-\")\n",
    "#data2['M'] = data2['FIBERID'].str.cat(data2['ID'],sep=\"-\")\n",
    "\n",
    "data2['NEWID'] = data2['PLATE'].str.cat(data2['PM'],sep=\"-\")\n",
    "data_2=data2.drop(columns=['PLATE','MJD','FIBERID','ID','PM']).values # New set of database 2 with new ID's\n",
    "print(data_2.shape)\n",
    "p=data_2=='4869-55896-132'\n",
    "ll=data_2[p]\n",
    "print(ll)"
   ]
  },
  {
   "cell_type": "code",
   "execution_count": 35,
   "metadata": {
    "scrolled": true
   },
   "outputs": [
    {
     "name": "stdout",
     "output_type": "stream",
     "text": [
      "I find 537677 objects with spectra from DR12\n",
      "[17792 17931 17610 ... 457655 459274 457504] [25 26 29 ... 639461 639462 639463]\n",
      "          ind1    ind2\n",
      "17792    17792      25\n",
      "17931    17931      26\n",
      "17610    17610      29\n",
      "17437    17437      30\n",
      "17177    17177      33\n",
      "17120    17120      36\n",
      "18775    18775       0\n",
      "17104    17104      40\n",
      "17103    17103      41\n",
      "16924    16924      42\n",
      "16794    16794      44\n",
      "16986    16986      45\n",
      "17015    17015      47\n",
      "16756    16756      48\n",
      "16508    16508      50\n",
      "16439    16439      51\n",
      "16431    16431      52\n",
      "16489    16489      54\n",
      "16542    16542      55\n",
      "16238    16238      56\n",
      "16253    16253      57\n",
      "16007    16007      58\n",
      "15862    15862      59\n",
      "15784    15784      60\n",
      "15653    15653      61\n",
      "15949    15949      62\n",
      "18629    18629       3\n",
      "15600    15600      63\n",
      "15595    15595      64\n",
      "15496    15496      65\n",
      "...        ...     ...\n",
      "155341  155341  639423\n",
      "155645  155645  639425\n",
      "155991  155991  639426\n",
      "155421  155421  639427\n",
      "154291  154291  638673\n",
      "155124  155124  639429\n",
      "155188  155188  639430\n",
      "155557  155557  639431\n",
      "155248  155248  639433\n",
      "155009  155009  639437\n",
      "154694  154694  639438\n",
      "155594  155594  639439\n",
      "155250  155250  639440\n",
      "155510  155510  639441\n",
      "155292  155292  639442\n",
      "154133  154133  638675\n",
      "155846  155846  639443\n",
      "156180  156180  639445\n",
      "156089  156089  639446\n",
      "156525  156525  639447\n",
      "155765  155765  639450\n",
      "156330  156330  639452\n",
      "156363  156363  639453\n",
      "156204  156204  639454\n",
      "155886  155886  639456\n",
      "156361  156361  639458\n",
      "156834  156834  639459\n",
      "457655  457655  639461\n",
      "459274  459274  639462\n",
      "457504  457504  639463\n",
      "\n",
      "[537677 rows x 2 columns]\n"
     ]
    }
   ],
   "source": [
    "# With the routine of numpy intersect1d, I find the intersections elements in both sets. This elements  \n",
    "data_CO=np.array(np.intersect1d(data_1,data_2,return_indices=True))\n",
    "\n",
    "data_CO_objects=data_CO[0] # The unique new ID of each element in both sets\n",
    "data_CO_ind1=data_CO[1] # Indices of intersected elements from the original data 1 (Superset_DR12Q.fits) \n",
    "data_CO_ind2=data_CO[2] # Indices of intersected elements form the original data 2 (data_dr12.fits)\n",
    "print('I find',len(data_CO_objects),'objects with spectra from DR12')\n",
    "print(data_CO_ind1,data_CO_ind2)\n",
    "indi={'ind1':data_CO_ind1,'ind2':data_CO_ind2}\n",
    "ind=pd.DataFrame(data=indi,index=data_CO_ind1)\n",
    "#from astropy.table import Table\n",
    "#t = fits.getdata('data_dr12.fits')\n",
    "#print(t.shape)\n",
    "\n",
    "spec= pd.DataFrame(spectra)\n",
    "\n",
    "#spec=spec.loc[data_CO_ind2]\n",
    "\n",
    "print(ind)"
   ]
  },
  {
   "cell_type": "code",
   "execution_count": 36,
   "metadata": {
    "scrolled": false
   },
   "outputs": [
    {
     "name": "stdout",
     "output_type": "stream",
     "text": [
      "(537677, 5)\n"
     ]
    }
   ],
   "source": [
    "# Now that I know which object have a spectrum. I can make a unique database of objects\n",
    "hdul = fits.open('truth_DR12Q.fits')\n",
    "#hdul2 = fits.open('data_dr12.fits')\n",
    "data=hdul[1].data\n",
    "info=hdul[1].columns\n",
    "\n",
    "#ti=np.array(data['THING_ID'],dtype=float)\n",
    "#pl=np.array(data['PLATE'],dtype=float)\n",
    "#mjd=np.array(data['MJD'],dtype=float)\n",
    "#fid=np.array(data['FIBERID'],dtype=float)\n",
    "cp=np.array(data['CLASS_PERSON'],dtype=float)\n",
    "z=np.array(data['Z_VI'],dtype=float)\n",
    "zc=np.array(data['Z_CONF_PERSON'],dtype=float)\n",
    "bal=np.array(data['BAL_FLAG_VI'],dtype=float)\n",
    "bi=np.array(data['BI_CIV'],dtype=float)\n",
    "\n",
    "d={'CLASS_PERSON':cp,'Z_VI':z,'Z_CONF_PERSON':zc,'BAL_FLAG_VI':bal,'BI_CIV':bi}\n",
    "data_0=pd.DataFrame(data=d)#.values #super database\n",
    "obj=data_0.loc[data_CO_ind1]\n",
    "\n",
    "print(obj.shape)\n",
    "\n"
   ]
  },
  {
   "cell_type": "code",
   "execution_count": 37,
   "metadata": {},
   "outputs": [
    {
     "name": "stdout",
     "output_type": "stream",
     "text": [
      "Stars: (207905,)\n",
      "Galaxies: (20699,)\n",
      "QSO: (270534,)\n",
      "QSO BAL: (29652,)\n",
      "No class: (8887,)\n"
     ]
    }
   ],
   "source": [
    "######################__________________Report 03__________________######################\n",
    "\n",
    "\n",
    "# Balance of classes \n",
    "C_P=obj['CLASS_PERSON'] #Class Person column \n",
    "STAR=C_P[C_P==1] # objects classified as stars\n",
    "GALAXY=C_P[C_P==4] # objects classified as galaxies \n",
    "QSO=C_P[C_P==3] # objects classified as QSO (Quasars)\n",
    "QSO_BAL=C_P[C_P==30] # objects classified as QSO BAL (Quasars with Broad Absortions Lines)\n",
    "N_C=C_P[C_P!=30]   \n",
    "N_C=N_C[N_C!=3]\n",
    "N_C=N_C[N_C!=1]\n",
    "N_C=N_C[N_C!=4] # objects wrong classified\n",
    "print('Stars:',STAR.shape)\n",
    "print('Galaxies:',GALAXY.shape)\n",
    "print('QSO:',QSO.shape)\n",
    "print('QSO BAL:',QSO_BAL.shape)\n",
    "print('No class:',N_C.shape)"
   ]
  },
  {
   "cell_type": "code",
   "execution_count": 38,
   "metadata": {
    "scrolled": false
   },
   "outputs": [
    {
     "name": "stdout",
     "output_type": "stream",
     "text": [
      "(528790, 5)\n"
     ]
    }
   ],
   "source": [
    "# Preprocessing. I remove non-classified objects also objects with negative redshift.  \n",
    "stars=obj.loc[obj['CLASS_PERSON']==1]\n",
    "galaxies=obj.loc[obj['CLASS_PERSON']==4]\n",
    "qsos=obj.loc[obj['CLASS_PERSON']==3]\n",
    "qsos_bal=obj.loc[obj['CLASS_PERSON']==30]\n",
    "\n",
    "frames=[stars,galaxies,qsos,qsos_bal]\n",
    "new_obj=pd.concat(frames)#, keys=['stars', 'galaxies', 'qso','qso_bal'])\n",
    "\n",
    "#new_obj=new_obj.loc[new_obj['Z_VI']!=0]\n",
    "obj=new_obj.loc[new_obj['Z_CONF_PERSON']!=0]\n",
    "#indio=np.array(obj.index)\n",
    "#for i in range(len(indio)):\n",
    "#    print(indio[i])\n",
    "print(obj.shape)"
   ]
  },
  {
   "cell_type": "code",
   "execution_count": 39,
   "metadata": {
    "scrolled": true
   },
   "outputs": [
    {
     "name": "stdout",
     "output_type": "stream",
     "text": [
      "[0. 0. 0. ... 3. 3. 3.]\n"
     ]
    },
    {
     "name": "stderr",
     "output_type": "stream",
     "text": [
      "/home/steingate/anaconda3/lib/python3.7/site-packages/ipykernel_launcher.py:28: RuntimeWarning: divide by zero encountered in log\n"
     ]
    }
   ],
   "source": [
    "# Sample of objects. I chosen 250 object per class. \n",
    "stars=obj.loc[obj['CLASS_PERSON']==1]\n",
    "galaxies=obj.loc[obj['CLASS_PERSON']==4]\n",
    "qsos=obj.loc[obj['CLASS_PERSON']==3]\n",
    "qsos_bal=obj.loc[obj['CLASS_PERSON']==30]\n",
    "\n",
    "#print(stars)\n",
    "sample_star=stars.sample(n=500,weights='CLASS_PERSON', random_state=5)\n",
    "sample_galaxy=galaxies.sample(n=500,weights='CLASS_PERSON', random_state=5)\n",
    "sample_qso=qsos.sample(n=500,weights='CLASS_PERSON', random_state=5)\n",
    "sample_qso_bal=qsos_bal.sample(n=500,weights='CLASS_PERSON', random_state=5)\n",
    "\n",
    "sample_objects=pd.concat([sample_star,sample_galaxy,sample_qso,sample_qso_bal])\n",
    "\n",
    "ind_star=np.array(sample_star.index)\n",
    "ind_galaxy=np.array(sample_galaxy.index)\n",
    "ind_qso=np.array(sample_qso.index)\n",
    "ind_qso_bal=np.array(sample_qso_bal.index)\n",
    "\n",
    "indi=np.concatenate((ind_galaxy, ind_galaxy,ind_qso,ind_qso_bal), axis=None)\n",
    "indi1=ind.loc[indi].values\n",
    "#print(indi)\n",
    "\n",
    "spectra_2000=np.zeros((2000,443))\n",
    "j=0\n",
    "for i in indi:\n",
    "    k=indi1[j,1]\n",
    "    spectra_2000[j,:]=np.log(abs(spectra[k,:443]))\n",
    "    j=j+1    \n",
    "spectra_2000=pd.DataFrame(spectra_2000)\n",
    "X=spectra_2000.replace(-np.inf,0)\n",
    "\n",
    "\n",
    "X=X.values\n",
    "\n",
    "y=sample_objects['CLASS_PERSON']\n",
    "y=y.replace([1, 4, 3, 30], [0,1,2,3]).values\n",
    "y=np.array(y,dtype=float)\n",
    "#y=y.values.reshape(-1,1)\n",
    "#sample_objects.loc[sample_objects['CLASS_PERSON'] == 1] = \"Star\"\n",
    "print(y) "
   ]
  },
  {
   "cell_type": "code",
   "execution_count": 40,
   "metadata": {
    "scrolled": true
   },
   "outputs": [
    {
     "name": "stdout",
     "output_type": "stream",
     "text": [
      "tensor([0, 1, 1, 1, 1, 1, 3, 2, 3, 1, 0, 2, 2, 0, 0, 0, 0, 2, 1, 0, 0, 1, 0, 1,\n",
      "        2, 2, 3, 1, 2, 3, 3, 1, 2, 0, 1, 3, 0, 1, 3, 1, 2, 2, 0, 2, 2, 2, 0, 0,\n",
      "        0, 1, 1, 2, 0, 3, 3, 3, 3, 3, 2, 0, 3, 3, 2, 2, 2, 2, 3, 1, 0, 0, 0, 2,\n",
      "        1, 3, 0, 1, 0, 1, 1, 0, 1, 2, 0, 0, 3, 0, 0, 2, 0, 0, 3, 2, 1, 3, 3, 3,\n",
      "        1, 0, 1, 3, 1, 3, 1, 2, 2, 2, 0, 2, 0, 1, 0, 2, 0, 2, 2, 1, 3, 0, 0, 0,\n",
      "        0, 0, 1, 0, 3, 3, 0, 0, 1, 1, 0, 0, 3, 3, 1, 3, 1, 0, 0, 0, 3, 1, 2, 0,\n",
      "        3, 1, 2, 0, 0, 0, 3, 2, 1, 3, 3, 3, 1, 1, 0, 0, 3, 0, 2, 0, 3, 1, 0, 2,\n",
      "        3, 0, 0, 2, 3, 0, 1, 3, 3, 0, 2, 2, 2, 2, 0, 2, 1, 3, 2, 1, 3, 2, 3, 2,\n",
      "        0, 3, 2, 2, 0, 1, 2, 1, 0, 1, 2, 0, 0, 2, 0, 2, 2, 3, 2, 3, 2, 0, 0, 1,\n",
      "        0, 1, 0, 1, 1, 3, 2, 0, 2, 3, 2, 1, 1, 1, 3, 1, 1, 1, 2, 1, 2, 2, 2, 2,\n",
      "        0, 1, 3, 0, 1, 1, 1, 2, 1, 3, 2, 3, 2, 3, 2, 3, 3, 2, 1, 0, 2, 1, 2, 1,\n",
      "        3, 0, 0, 2, 1, 3, 1, 2, 1, 3, 0, 0, 2, 1, 1, 3, 0, 2, 2, 3, 1, 0, 2, 0,\n",
      "        1, 0, 3, 2, 1, 2, 3, 2, 2, 3, 3, 0, 0, 2, 0, 2, 2, 3, 1, 0, 2, 2, 2, 3,\n",
      "        1, 0, 1, 2, 2, 1, 1, 1, 0, 1, 3, 3, 2, 2, 2, 3, 1, 2, 2, 0, 3, 1, 2, 2,\n",
      "        1, 1, 2, 2, 3, 2, 1, 3, 1, 1, 1, 0, 0, 0, 3, 0, 0, 0, 2, 3, 2, 2, 1, 0,\n",
      "        2, 1, 2, 3, 0, 0, 3, 1, 3, 2, 1, 3, 1, 0, 1, 0, 1, 1, 3, 3, 1, 0, 2, 1,\n",
      "        3, 1, 0, 0, 3, 1, 1, 3, 0, 1, 3, 3, 1, 0, 2, 2, 0, 0, 0, 2, 2, 3, 1, 3,\n",
      "        3, 1, 1, 0, 1, 3, 0, 0, 3, 2, 1, 2, 2, 1, 3, 1, 2, 2, 2, 3, 1, 0, 0, 2,\n",
      "        2, 3, 0, 0, 0, 0, 1, 2, 3, 2, 3, 0, 2, 2, 2, 3, 2, 1, 3, 1, 0, 2, 3, 3,\n",
      "        1, 1, 1, 2, 2, 3, 2, 0, 1, 2, 2, 1, 1, 1, 3, 3, 3, 2, 1, 0, 1, 3, 2, 1,\n",
      "        0, 1, 3, 1, 0, 0, 1, 1, 1, 1, 0, 2, 3, 1, 1, 1, 2, 3, 0, 2, 3, 0, 3, 3,\n",
      "        0, 2, 2, 1, 3, 0, 2, 3, 0, 0, 2, 2, 1, 0, 3, 1, 1, 2, 2, 2, 0, 1, 1, 0,\n",
      "        1, 0, 0, 1, 0, 1, 3, 1, 3, 0, 1, 1, 1, 3, 2, 2, 0, 2, 2, 1, 3, 0, 0, 1,\n",
      "        1, 2, 1, 1, 3, 1, 3, 0, 0, 2, 2, 3, 1, 1, 3, 0, 2, 1, 3, 3, 1, 0, 0, 0,\n",
      "        3, 3, 3, 3, 1, 3, 2, 0, 0, 2, 2, 0, 3, 2, 3, 1, 3, 1, 3, 2, 3, 3, 1, 3,\n",
      "        0, 1, 3, 0, 0, 3, 0, 3, 2, 0, 0, 1, 2, 2, 0, 3, 3, 1, 3, 1, 3, 2, 2, 2,\n",
      "        3, 3, 2, 3, 1, 3, 0, 1, 2, 1, 3, 1, 1, 0, 3, 3, 1, 2, 2, 3, 0, 2, 2, 1,\n",
      "        3, 2, 0, 0, 0, 3, 0, 3, 2, 3, 0, 2, 3, 2, 0, 0, 2, 1, 3, 1, 3, 3, 1, 0,\n",
      "        3, 0, 3, 2, 2, 0, 0, 1, 3, 3, 1, 3, 1, 0, 3, 2, 0, 3, 3, 0, 1, 3, 1, 2,\n",
      "        0, 2, 0, 2, 2, 1, 0, 1, 3, 1, 0, 3, 1, 0, 0, 3, 0, 0, 2, 0, 2, 1, 0, 2,\n",
      "        3, 3, 3, 3, 2, 3, 2, 0, 3, 1, 3, 0, 1, 0, 0, 1, 3, 1, 3, 3, 3, 2, 2, 3,\n",
      "        2, 3, 0, 3, 2, 3, 2, 3, 3, 3, 2, 1, 3, 2, 3, 3, 0, 1, 2, 2, 1, 2, 2, 1,\n",
      "        1, 1, 2, 2, 2, 2, 3, 2, 2, 2, 3, 3, 2, 3, 3, 3, 3, 1, 1, 2, 3, 1, 1, 1,\n",
      "        2, 2, 3, 2, 1, 2, 1, 2, 3, 1, 3, 2, 0, 3, 0, 2, 1, 2, 1, 1, 3, 3, 2, 1,\n",
      "        3, 2, 0, 0, 1, 1, 0, 1, 3, 2, 2, 3, 1, 3, 1, 3, 1, 3, 1, 1, 0, 1, 3, 3,\n",
      "        0, 1, 2, 2, 1, 1, 0, 0, 2, 0, 2, 0, 3, 3, 0, 0, 0, 3, 0, 1, 3, 2, 2, 2,\n",
      "        1, 2, 2, 1, 3, 0, 3, 0, 2, 2, 0, 0, 0, 1, 0, 1, 2, 1, 0, 3, 1, 3, 0, 3,\n",
      "        2, 2, 3, 2, 0, 3, 1, 3, 0, 1, 0, 0, 3, 1, 0, 1, 3, 3, 3, 2, 1, 2, 2, 2,\n",
      "        2, 3, 3, 2, 0, 0, 1, 1, 2, 2, 3, 2, 0, 2, 1, 1, 2, 1, 0, 0, 0, 1, 0, 2,\n",
      "        0, 1, 0, 1, 3, 3, 2, 3, 1, 2, 3, 3, 1, 3, 1, 1, 0, 3, 1, 1, 2, 3, 1, 2,\n",
      "        0, 3, 1, 1, 0, 0, 2, 0, 2, 0, 1, 2, 0, 1, 2, 3, 0, 1, 2, 3, 0, 3, 1, 2,\n",
      "        2, 0, 2, 0, 2, 0, 0, 3, 2, 3, 2, 2, 2, 1, 2, 2])\n"
     ]
    },
    {
     "name": "stderr",
     "output_type": "stream",
     "text": [
      "/home/steingate/anaconda3/lib/python3.7/site-packages/ipykernel_launcher.py:16: UserWarning: To copy construct from a tensor, it is recommended to use sourceTensor.clone().detach() or sourceTensor.clone().detach().requires_grad_(True), rather than torch.tensor(sourceTensor).\n",
      "  app.launch_new_instance()\n",
      "/home/steingate/anaconda3/lib/python3.7/site-packages/ipykernel_launcher.py:27: UserWarning: To copy construct from a tensor, it is recommended to use sourceTensor.clone().detach() or sourceTensor.clone().detach().requires_grad_(True), rather than torch.tensor(sourceTensor).\n"
     ]
    }
   ],
   "source": [
    "######################__________________Report 05__________________######################\n",
    "\n",
    "# my first Neural Network. SpectraNET :}\n",
    "\n",
    "import torch \n",
    "import torch.nn as nn\n",
    "from sklearn.model_selection import train_test_split\n",
    "from torch.autograd import Variable\n",
    "\n",
    "\n",
    "X_train, X_test, y_train, y_test = train_test_split(X, y, test_size=0.5, random_state=42)\n",
    "\n",
    "X_train = Variable(torch.tensor(X_train, dtype=torch.float))\n",
    "X_test = Variable(torch.tensor(X_test, dtype=torch.float))\n",
    "y_train = Variable((torch.tensor(y_train, dtype=torch.long)))\n",
    "y_test = Variable((torch.tensor(y_train, dtype=torch.long)))\n",
    "\n",
    "# Scaling \n",
    "X_train_max, _ = torch.max(X_train, 0)\n",
    "X_test_max, _ = torch.max(X_test, 0)\n",
    "\n",
    "X_train = torch.div(X_train, X_train_max)\n",
    "X_test = torch.div(X_test, X_test_max)\n",
    "\n",
    "#y_train= torch.div(y_train, 100)\n",
    "#y_test=y_test/100\n",
    "y_test1=torch.tensor(X_test[0,:].reshape(1,-1),dtype=torch.float)\n",
    "print(y_train)"
   ]
  },
  {
   "cell_type": "code",
   "execution_count": null,
   "metadata": {
    "scrolled": true
   },
   "outputs": [
    {
     "name": "stdout",
     "output_type": "stream",
     "text": [
      "Net(\n",
      "  (fc1): Linear(in_features=443, out_features=16, bias=True)\n",
      "  (fc2): Linear(in_features=16, out_features=16, bias=True)\n",
      "  (fc3): Linear(in_features=16, out_features=4, bias=True)\n",
      ")\n",
      "[0.16 0.   0.26 0.25] [0.04 0.   0.48 0.47] [0.07 0.   0.34 0.32]\n"
     ]
    },
    {
     "name": "stderr",
     "output_type": "stream",
     "text": [
      "/home/steingate/anaconda3/lib/python3.7/site-packages/ipykernel_launcher.py:26: UserWarning: Implicit dimension choice for log_softmax has been deprecated. Change the call to include dim=X as an argument.\n"
     ]
    },
    {
     "name": "stdout",
     "output_type": "stream",
     "text": [
      "[0.18 0.   0.26 0.25] [0.05 0.   0.53 0.4 ] [0.08 0.   0.35 0.31]\n",
      "[0.16 0.25 0.26 0.23] [0.08 0.07 0.65 0.14] [0.11 0.11 0.37 0.18]\n",
      "[0.18 0.25 0.25 0.21] [0.12 0.07 0.59 0.12] [0.14 0.11 0.35 0.15]\n",
      "[0.19 0.26 0.24 0.24] [0.16 0.07 0.43 0.26] [0.17 0.11 0.31 0.25]\n",
      "[0.19 0.21 0.24 0.25] [0.22 0.04 0.39 0.26] [0.21 0.07 0.3  0.25]\n",
      "[0.2  0.18 0.25 0.26] [0.28 0.03 0.41 0.19] [0.23 0.05 0.31 0.22]\n",
      "[0.22 0.24 0.25 0.29] [0.38 0.03 0.48 0.07] [0.28 0.05 0.33 0.11]\n",
      "[0.23 0.26 0.26 0.3 ] [0.4  0.06 0.46 0.06] [0.29 0.1  0.33 0.1 ]\n",
      "[0.21 0.23 0.26 0.28] [0.32 0.13 0.38 0.14] [0.26 0.17 0.31 0.18]\n",
      "[0.21 0.25 0.26 0.29] [0.22 0.27 0.31 0.2 ] [0.22 0.26 0.29 0.24]\n",
      "[0.21 0.26 0.27 0.3 ] [0.17 0.33 0.33 0.19] [0.19 0.29 0.29 0.24]\n",
      "[0.19 0.24 0.26 0.28] [0.17 0.29 0.34 0.18] [0.18 0.26 0.3  0.22]\n",
      "[0.23 0.27 0.26 0.27] [0.31 0.19 0.35 0.18] [0.26 0.22 0.3  0.22]\n",
      "[0.24 0.27 0.26 0.27] [0.44 0.05 0.34 0.19] [0.31 0.08 0.3  0.22]\n",
      "[0.24 0.28 0.27 0.27] [0.41 0.07 0.37 0.17] [0.3  0.11 0.31 0.21]\n",
      "[0.2  0.24 0.27 0.27] [0.27 0.13 0.38 0.18] [0.23 0.17 0.32 0.22]\n",
      "[0.2  0.26 0.27 0.27] [0.21 0.21 0.37 0.21] [0.21 0.23 0.31 0.24]\n",
      "[0.2  0.27 0.27 0.27] [0.19 0.24 0.37 0.22] [0.19 0.25 0.31 0.24]\n",
      "[0.21 0.26 0.27 0.27] [0.2  0.24 0.35 0.21] [0.21 0.25 0.31 0.23]\n",
      "[0.19 0.24 0.28 0.25] [0.19 0.18 0.36 0.23] [0.19 0.21 0.31 0.24]\n",
      "[0.21 0.25 0.28 0.24] [0.24 0.15 0.34 0.25] [0.22 0.19 0.31 0.25]\n",
      "[0.21 0.25 0.27 0.25] [0.27 0.16 0.33 0.23] [0.24 0.2  0.3  0.24]\n",
      "[0.21 0.26 0.27 0.26] [0.28 0.17 0.31 0.23] [0.24 0.2  0.29 0.24]\n",
      "[0.22 0.25 0.27 0.25] [0.28 0.16 0.3  0.25] [0.24 0.19 0.29 0.25]\n",
      "[0.22 0.23 0.26 0.26] [0.28 0.12 0.31 0.26] [0.24 0.16 0.28 0.26]\n",
      "[0.22 0.26 0.27 0.25] [0.27 0.14 0.35 0.24] [0.24 0.18 0.31 0.25]\n",
      "[0.18 0.26 0.28 0.25] [0.18 0.21 0.32 0.26] [0.18 0.23 0.3  0.25]\n",
      "[0.19 0.27 0.27 0.25] [0.16 0.24 0.31 0.28] [0.18 0.25 0.29 0.27]\n",
      "[0.2  0.26 0.28 0.26] [0.19 0.22 0.32 0.26] [0.19 0.24 0.3  0.26]\n",
      "[0.21 0.29 0.27 0.27] [0.23 0.23 0.3  0.27] [0.22 0.26 0.29 0.27]\n",
      "[0.2  0.27 0.29 0.26] [0.23 0.24 0.29 0.26] [0.22 0.25 0.29 0.26]\n",
      "[0.23 0.28 0.29 0.27] [0.29 0.21 0.31 0.24] [0.25 0.24 0.3  0.25]\n",
      "[0.2  0.25 0.29 0.26] [0.2  0.23 0.29 0.28] [0.2  0.24 0.29 0.27]\n",
      "[0.23 0.28 0.29 0.27] [0.27 0.26 0.31 0.22] [0.25 0.27 0.3  0.24]\n",
      "[0.19 0.26 0.29 0.27] [0.17 0.29 0.27 0.28] [0.18 0.28 0.28 0.27]\n",
      "[0.24 0.29 0.28 0.25] [0.29 0.25 0.32 0.21] [0.27 0.27 0.3  0.23]\n",
      "[0.25 0.29 0.29 0.27] [0.29 0.25 0.31 0.25] [0.26 0.27 0.3  0.26]\n",
      "[0.2  0.26 0.28 0.26] [0.2  0.29 0.28 0.25] [0.2  0.27 0.28 0.25]\n",
      "[0.21 0.26 0.28 0.25] [0.23 0.26 0.31 0.2 ] [0.22 0.26 0.29 0.22]\n",
      "[0.24 0.3  0.31 0.25] [0.27 0.25 0.31 0.26] [0.25 0.27 0.31 0.25]\n",
      "[0.19 0.27 0.28 0.26] [0.22 0.28 0.31 0.19] [0.21 0.28 0.3  0.22]\n",
      "[0.21 0.27 0.27 0.24] [0.27 0.24 0.29 0.19] [0.24 0.25 0.28 0.21]\n",
      "[0.24 0.28 0.31 0.23] [0.3  0.22 0.23 0.28] [0.26 0.25 0.26 0.25]\n",
      "[0.21 0.27 0.28 0.23] [0.27 0.29 0.32 0.12] [0.24 0.28 0.3  0.16]\n",
      "[0.21 0.27 0.27 0.25] [0.22 0.27 0.3  0.19] [0.21 0.27 0.28 0.22]\n",
      "[0.23 0.28 0.3  0.23] [0.28 0.22 0.24 0.28] [0.26 0.25 0.27 0.25]\n",
      "[0.21 0.26 0.28 0.25] [0.24 0.31 0.27 0.18] [0.23 0.28 0.27 0.21]\n",
      "[0.22 0.28 0.27 0.26] [0.24 0.31 0.31 0.17] [0.23 0.29 0.29 0.2 ]\n",
      "[0.24 0.29 0.29 0.24] [0.29 0.23 0.3  0.23] [0.27 0.25 0.29 0.24]\n",
      "[0.23 0.27 0.3  0.25] [0.24 0.32 0.28 0.2 ] [0.23 0.29 0.29 0.22]\n",
      "[0.2  0.26 0.28 0.24] [0.18 0.35 0.25 0.21] [0.19 0.3  0.26 0.22]\n",
      "[0.21 0.26 0.27 0.22] [0.24 0.3  0.28 0.15] [0.22 0.28 0.27 0.17]\n"
     ]
    }
   ],
   "source": [
    "# Implementation\n",
    "import torch\n",
    "from torch.autograd import Variable\n",
    "import torch.nn as nn\n",
    "import torch.nn.functional as F\n",
    "import torch.optim as optim\n",
    "from sklearn.metrics import precision_recall_fscore_support\n",
    "\n",
    "batch_size=200\n",
    "learning_rate=0.01\n",
    "epochs=100\n",
    "log_interval=10\n",
    "\n",
    "class Net(nn.Module):\n",
    "    def __init__(self):\n",
    "        super(Net, self).__init__()\n",
    "        self.fc1 = nn.Linear(443, 16)\n",
    "        self.fc2 = nn.Linear(16, 16)\n",
    "        self.fc3 = nn.Linear(16, 4)\n",
    "\n",
    "    def forward(self, x):\n",
    "        x = F.relu(self.fc1(x))\n",
    "        x = F.relu(self.fc2(x))\n",
    "        x = self.fc3(x)\n",
    "        #print(x.shape)\n",
    "        return F.log_softmax(x)\n",
    "    \n",
    "net = Net()\n",
    "print(net)\n",
    "\n",
    "# create a stochastic gradient descent optimizer\n",
    "opt = optim.Adam(params=net.parameters(), lr=learning_rate)\n",
    "# create a loss function\n",
    "criterion = nn.CrossEntropyLoss()\n",
    "LOSS=[]\n",
    "p=[]\n",
    "r=[]\n",
    "f=[]\n",
    "p1=[]\n",
    "r1=[]\n",
    "f1=[]\n",
    "p2=[]\n",
    "r2=[]\n",
    "f2=[]\n",
    "p3=[]\n",
    "r3=[]\n",
    "f3=[]\n",
    "for i in range(epochs):\n",
    "\n",
    "    opt.zero_grad()\n",
    "    data=X_train\n",
    "    net_out = net(data)\n",
    "    #print('loss', loss.detach().item())       \n",
    "    #print(net_out.shape,y_train)\n",
    "    loss = criterion(net_out, y_train)\n",
    "    LOSS.append(loss.detach().item())\n",
    "    loss.backward()\n",
    "    opt.step()\n",
    "    net_o=net(X_test)\n",
    "    pred = net_o.data.max(1)[1]\n",
    "    pres,recall,f,_=precision_recall_fscore_support(y_test, pred, average=None)\n",
    "    print(pres,recall,f)\n",
    "    \n",
    "    p.append(pres[0])\n",
    "    r.append(recall[0])\n",
    "    f.append(f[0])\n",
    "    \n",
    "    p1.append(pres[1])\n",
    "    r1.append(recall[1])\n",
    "    f1.append(f[1])\n",
    "    \n",
    "    p2.append(pres[2])\n",
    "    r2.append(recall[2])\n",
    "    f2.append(pres[2])\n",
    "    \n",
    "    p3.append(pres[3])\n",
    "    r3.append(pres[3])\n",
    "    f3.append(pres[3])\n",
    "    \n",
    "    \n",
    "    plt.subplot(131)\n",
    "    plt.plot(i,pres[0],label='Stars',c='r')\n",
    "    plt.plot(i,pres[1],label='Galaxies',c='g')\n",
    "    plt.plot(i,pres[2],label='QSO',c='b')\n",
    "    plt.plot(i,pres[3],label='QSO_BAL',c='silver')\n",
    "    plt.xlabel('Epoch')\n",
    "    plt.ylabel('Precision')\n",
    "    plt.legend()\n",
    "    \n",
    "    plt.subplot(132)    \n",
    "    plt.scatter(i,recall[0],label='Stars',c='r')\n",
    "    plt.scatter(i,recall[1],label='Galaxies',c='g')\n",
    "    plt.scatter(i,recall[2],label='QSO',c='b')\n",
    "    plt.scatter(i,recall[3],label='QSO_BAL',c='silver')\n",
    "    plt.xlabel('Epoch')\n",
    "    plt.ylabel('Recall')\n",
    "    plt.legend()  \n",
    "    \n",
    "    plt.subplot(133)    \n",
    "    plt.scatter(i,f[0],label='Stars',c='r')\n",
    "    plt.scatter(i,f[1],label='Galaxies',c='g')\n",
    "    plt.scatter(i,f[2],label='QSO',c='b')\n",
    "    plt.scatter(i,f[3],label='QSO_BAL',c='silver')\n",
    "    plt.xlabel('Epoch')\n",
    "    plt.ylabel('F1')\n",
    "    plt.legend()\n",
    "    plt.savefig('prf.png')\n",
    "    \n",
    "    \n",
    "plt.close()\n",
    "\n",
    "plt.plot(range(epochs),np.array(LOSS),label='Train')\n",
    "plt.xlabel('Epochs')\n",
    "plt.ylabel('Loss')\n",
    "plt.xscale('log')\n",
    "plt.legend()\n",
    "plt.title('NN Learning')\n",
    "plt.savefig('loss.png')\n",
    "    \n",
    "    \n",
    "test_loss=0    \n",
    "#y_pred=net(X_test)\n",
    "net_o=net(X_test)\n",
    "#test_loss += criterion(net_out, y_test).detach().\n",
    "pred = net_o.data.max(1)[1]  # get the index of the max log-probability\n",
    "print(pred)"
   ]
  },
  {
   "cell_type": "code",
   "execution_count": 42,
   "metadata": {},
   "outputs": [
    {
     "name": "stdout",
     "output_type": "stream",
     "text": [
      "Confusion matrix, without normalization\n",
      "[[241   0   0   0]\n",
      " [  0 252   0   0]\n",
      " [  0   0 260   0]\n",
      " [  0   0   0 247]]\n",
      "Confusion matrix, without normalization\n",
      "[[79 63 70 29]\n",
      " [79 64 86 23]\n",
      " [81 67 79 33]\n",
      " [68 67 79 33]]\n",
      "(array([0.26, 0.25, 0.25, 0.28]), array([0.33, 0.25, 0.3 , 0.13]), array([0.29, 0.25, 0.28, 0.18]), array([241, 252, 260, 247]))\n"
     ]
    },
    {
     "data": {
      "image/png": "[encoded data removed]",
      "text/plain": [
       "<Figure size 432x288 with 2 Axes>"
      ]
     },
     "metadata": {
      "needs_background": "light"
     },
     "output_type": "display_data"
    },
    {
     "data": {
      "image/png": "[encoded data removed]",
      "text/plain": [
       "<Figure size 432x288 with 2 Axes>"
      ]
     },
     "metadata": {
      "needs_background": "light"
     },
     "output_type": "display_data"
    }
   ],
   "source": [
    "from sklearn.metrics import confusion_matrix\n",
    "from sklearn.metrics import precision_recall_fscore_support\n",
    "\n",
    "class_names=['Star','Galaxy','QSO','QSO_BAL']\n",
    "\n",
    "def plot_confusion_matrix(y_true, y_pred, classes,normalize=False,title=None,cmap=plt.cm.Blues):\n",
    "\n",
    "    if not title:\n",
    "        if normalize:\n",
    "            title = 'Normalized confusion matrix'\n",
    "        else:\n",
    "            title = 'Confusion matrix'\n",
    "\n",
    "    # Compute confusion matrix\n",
    "    cm = confusion_matrix(y_true, y_pred)\n",
    "    # Only use the labels that appear in the data\n",
    "    classes = classes\n",
    "    if normalize:\n",
    "        cm = cm.astype('float') / cm.sum(axis=1)[:, np.newaxis]\n",
    "        print(\"Normalized confusion matrix\")\n",
    "    else:\n",
    "        print('Confusion matrix, without normalization')\n",
    "\n",
    "    print(cm)\n",
    "    fig, ax = plt.subplots()\n",
    "    im = ax.imshow(cm, interpolation='nearest', cmap=cmap)\n",
    "    ax.figure.colorbar(im, ax=ax)\n",
    "    # We want to show all ticks...\n",
    "    ax.set(xticks=np.arange(cm.shape[1]),\n",
    "           yticks=np.arange(cm.shape[0]),\n",
    "           # ... and label them with the respective list entries\n",
    "           xticklabels=classes, yticklabels=classes,\n",
    "           title=title,\n",
    "           ylabel='True label',\n",
    "           xlabel='Predicted label')\n",
    "\n",
    "    # Rotate the tick labels and set their alignment.\n",
    "    plt.setp(ax.get_xticklabels(), rotation=45, ha=\"right\",\n",
    "             rotation_mode=\"anchor\")\n",
    "\n",
    "    # Loop over data dimensions and create text annotations.\n",
    "    fmt = '.2f' if normalize else 'd'\n",
    "    thresh = cm.max() / 2.\n",
    "    for i in range(cm.shape[0]):\n",
    "        for j in range(cm.shape[1]):\n",
    "            ax.text(j, i, format(cm[i, j], fmt),\n",
    "                    ha=\"center\", va=\"center\",\n",
    "                    color=\"white\" if cm[i, j] > thresh else \"black\")\n",
    "    fig.tight_layout()\n",
    "    return ax\n",
    "\n",
    "\n",
    "np.set_printoptions(precision=2)\n",
    "\n",
    "# Plot non-normalized confusion matrix\n",
    "#plt.subplots(121)\n",
    "#y_test=y_test.detach().numpy()\n",
    "#y_pred=y_pred.detach().numpy()\n",
    "#print(y_pred)\n",
    "plot_confusion_matrix(y_test, y_test, classes=class_names, title='Confusion matrix')\n",
    "plt.savefig('cm_train.png')\n",
    "#plt.subplots(122)\n",
    "plot_confusion_matrix(y_test, pred, classes=class_names, title='Confusion matrix')\n",
    "plt.savefig('cm_test.png')\n",
    "from sklearn.metrics import precision_recall_fscore_support\n",
    "prf=precision_recall_fscore_support(y_test, pred, average=None)#,labels=['Star','Galaxy','QSO','QSO_BAL'])\n",
    "\n",
    "print(prf)"
   ]
  },
  {
   "cell_type": "code",
   "execution_count": null,
   "metadata": {
    "scrolled": true
   },
   "outputs": [],
   "source": [
    "\n",
    "\n"
   ]
  },
  {
   "cell_type": "code",
   "execution_count": null,
   "metadata": {
    "scrolled": true
   },
   "outputs": [],
   "source": []
  },
  {
   "cell_type": "code",
   "execution_count": null,
   "metadata": {},
   "outputs": [],
   "source": []
  },
  {
   "cell_type": "code",
   "execution_count": null,
   "metadata": {
    "scrolled": true
   },
   "outputs": [],
   "source": []
  },
  {
   "cell_type": "code",
   "execution_count": null,
   "metadata": {},
   "outputs": [],
   "source": []
  },
  {
   "cell_type": "code",
   "execution_count": null,
   "metadata": {},
   "outputs": [],
   "source": []
  },
  {
   "cell_type": "code",
   "execution_count": null,
   "metadata": {},
   "outputs": [],
   "source": []
  },
  {
   "cell_type": "code",
   "execution_count": null,
   "metadata": {},
   "outputs": [],
   "source": []
  },
  {
   "cell_type": "code",
   "execution_count": null,
   "metadata": {},
   "outputs": [],
   "source": []
  },
  {
   "cell_type": "code",
   "execution_count": null,
   "metadata": {},
   "outputs": [],
   "source": []
  },
  {
   "cell_type": "code",
   "execution_count": null,
   "metadata": {},
   "outputs": [],
   "source": []
  },
  {
   "cell_type": "code",
   "execution_count": null,
   "metadata": {},
   "outputs": [],
   "source": []
  },
  {
   "cell_type": "code",
   "execution_count": null,
   "metadata": {},
   "outputs": [],
   "source": []
  },
  {
   "cell_type": "code",
   "execution_count": null,
   "metadata": {},
   "outputs": [],
   "source": []
  },
  {
   "cell_type": "code",
   "execution_count": null,
   "metadata": {},
   "outputs": [],
   "source": []
  },
  {
   "cell_type": "code",
   "execution_count": null,
   "metadata": {},
   "outputs": [],
   "source": []
  },
  {
   "cell_type": "code",
   "execution_count": null,
   "metadata": {},
   "outputs": [],
   "source": []
  },
  {
   "cell_type": "code",
   "execution_count": null,
   "metadata": {},
   "outputs": [],
   "source": []
  }
 ],
 "metadata": {
  "kernelspec": {
   "display_name": "Python 3",
   "language": "python",
   "name": "python3"
  }
 },
 "nbformat": 4,
 "nbformat_minor": 2
}
