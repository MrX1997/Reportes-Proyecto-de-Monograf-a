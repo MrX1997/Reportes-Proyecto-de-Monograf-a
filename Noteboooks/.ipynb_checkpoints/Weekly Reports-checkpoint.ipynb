{
 "cells": [
  {
   "cell_type": "code",
   "execution_count": 12,
   "metadata": {},
   "outputs": [],
   "source": [
    "# Jairo Andres Saavedra Alfonso\n",
    "# 01 de Febrero de 2019\n",
    "# Universidad de Los Andes\n",
    "# Phycis \n",
    "######################__________________Report 01__________________######################"
   ]
  },
  {
   "cell_type": "code",
   "execution_count": 13,
   "metadata": {},
   "outputs": [],
   "source": [
    "#Packages\n",
    "from astropy.io import fits\n",
    "import numpy as np\n",
    "import matplotlib.pylab as plt\n",
    "import pandas as pd\n",
    "from astropy.table import Table"
   ]
  },
  {
   "cell_type": "code",
   "execution_count": 14,
   "metadata": {
    "scrolled": false
   },
   "outputs": [
    {
     "name": "stdout",
     "output_type": "stream",
     "text": [
      "Filename: Superset_DR12Q.fits\n",
      "No.    Name      Ver    Type      Cards   Dimensions   Format\n",
      "  0  PRIMARY       1 PrimaryHDU      16   (3111,)   uint8   \n",
      "  1  Superset_DR12Q_v2_6.fits    1 BinTableHDU    104   546856R x 23C   [18A, D, D, J, J, J, J, D, E, E, J, J, J, I, K, K, K, K, 5E, 5E, 5E, 5E, 5E]   \n",
      "None /n ColDefs(\n",
      "    name = 'SDSS_NAME'; format = '18A'; unit = '-'\n",
      "    name = 'RA'; format = 'D'; unit = 'deg'\n",
      "    name = 'DEC'; format = 'D'; unit = 'deg'\n",
      "    name = 'THING_ID'; format = 'J'; unit = '-'\n",
      "    name = 'PLATE'; format = 'J'; unit = '-'\n",
      "    name = 'MJD'; format = 'J'; unit = '-'\n",
      "    name = 'FIBERID'; format = 'J'; unit = '-'\n",
      "    name = 'Z_VI'; format = 'D'; unit = '-'\n",
      "    name = 'Z_PIPE'; format = 'E'; unit = '-'\n",
      "    name = 'ERR_ZPIPE'; format = 'E'; unit = '-'\n",
      "    name = 'ZWARNING'; format = 'J'; unit = '-'\n",
      "    name = 'CLASS_PERSON'; format = 'J'; unit = '-'\n",
      "    name = 'Z_CONF_PERSON'; format = 'J'; unit = '-'\n",
      "    name = 'SDSS_MORPHO'; format = 'I'; unit = '-'\n",
      "    name = 'BOSS_TARGET1'; format = 'K'; unit = '-'\n",
      "    name = 'ANCILLARY_TARGET1'; format = 'K'; unit = '-'\n",
      "    name = 'ANCILLARY_TARGET2'; format = 'K'; unit = '-'\n",
      "    name = 'EBOSS_TARGET0'; format = 'K'; unit = '-'\n",
      "    name = 'PSFFLUX'; format = '5E'; unit = 'nanomaggies'\n",
      "    name = 'IVAR_PSFFLUX'; format = '5E'; unit = '-'\n",
      "    name = 'PSFMAG'; format = '5E'; unit = '-'\n",
      "    name = 'ERR_PSFMAG'; format = '5E'; unit = '-'\n",
      "    name = 'EXTINCTION'; format = '5E'; unit = '-'\n",
      ")\n",
      "[357405338 353907506  33180814 ... 352121795 401440280 401440241]\n"
     ]
    }
   ],
   "source": [
    "# Reading data from truth_DR12Q.fits. This file have the database sample of spectra with human-expert classifitacion\n",
    "\n",
    "hdul = fits.open('Superset_DR12Q.fits') # Open file\n",
    "info=hdul.info() # File info\n",
    "columns=hdul[1].columns # File Columns \n",
    "print(info,'/n',columns)\n",
    "data=hdul[1].data # Database of spectra with human-expert classifications \n",
    "print(data['THING_ID'])"
   ]
  },
  {
   "cell_type": "code",
   "execution_count": 15,
   "metadata": {},
   "outputs": [
    {
     "name": "stdout",
     "output_type": "stream",
     "text": [
      "(207915,)\n",
      "(22795,)\n",
      "(270686,)\n",
      "(29659,)\n",
      "(15801,)\n"
     ]
    }
   ],
   "source": [
    "# The column 'CLASS_PERSON' have a class identifier for each spectrum: STARS=1, GALAXY=4, QSO=3 and QSO_BAL=30.\n",
    "C_P=data['CLASS_PERSON'] #Class Person column \n",
    "STAR=C_P[C_P==1] # objects classified as stars\n",
    "GALAXY=C_P[C_P==4] # objects classified as galaxies \n",
    "QSO=C_P[C_P==3] # objects classified as QSO (Quasars)\n",
    "QSO_BAL=C_P[C_P==30] # objects classified as QSO BAL (Quasars with Broad Absortions Lines)\n",
    "N_C=C_P[C_P!=30]   \n",
    "N_C=N_C[N_C!=3]\n",
    "N_C=N_C[N_C!=1]\n",
    "N_C=N_C[N_C!=4] # objects wrong classified\n",
    "print(STAR.shape)\n",
    "print(GALAXY.shape)\n",
    "print(QSO.shape)\n",
    "print(QSO_BAL.shape)\n",
    "print(N_C.shape)"
   ]
  },
  {
   "cell_type": "code",
   "execution_count": 16,
   "metadata": {
    "scrolled": false
   },
   "outputs": [
    {
     "name": "stdout",
     "output_type": "stream",
     "text": [
      "(214791,)\n",
      "(7123,)\n"
     ]
    }
   ],
   "source": [
    "Z_VI=data['Z_VI'] # Redshift of each object\n",
    "print(Z_VI[Z_VI==0.0].shape)\n",
    "Z_C_P=data['Z_CONF_PERSON']\n",
    "print(Z_C_P[Z_C_P==0].shape)\n",
    "T_ID=data['THING_ID']\n",
    "i=T_ID==-1\n",
    "T_ID=T_ID[i]"
   ]
  },
  {
   "cell_type": "code",
   "execution_count": 17,
   "metadata": {},
   "outputs": [
    {
     "data": {
      "text/plain": [
       "Text(0.5, 1.0, 'QSO')"
      ]
     },
     "execution_count": 17,
     "metadata": {},
     "output_type": "execute_result"
    },
    {
     "data": {
      "image/png": "[encoded data removed]",
      "text/plain": [
       "<Figure size 432x288 with 1 Axes>"
      ]
     },
     "metadata": {
      "needs_background": "light"
     },
     "output_type": "display_data"
    }
   ],
   "source": [
    "ii=C_P==3\n",
    "oo=C_P==30\n",
    "Z_VI_QSO=Z_VI[ii]\n",
    "Z_VI_QSO_BAL=Z_VI[oo]\n",
    "plt.hist(Z_VI_QSO,100,density=True)\n",
    "plt.xlabel('Redshift')\n",
    "plt.title('QSO')\n"
   ]
  },
  {
   "cell_type": "code",
   "execution_count": 18,
   "metadata": {},
   "outputs": [
    {
     "data": {
      "text/plain": [
       "Text(0.5, 1.0, 'QSO_BAL')"
      ]
     },
     "execution_count": 18,
     "metadata": {},
     "output_type": "execute_result"
    },
    {
     "data": {
      "image/png": "[encoded data removed]",
      "text/plain": [
       "<Figure size 432x288 with 1 Axes>"
      ]
     },
     "metadata": {
      "needs_background": "light"
     },
     "output_type": "display_data"
    }
   ],
   "source": [
    "plt.hist(Z_VI_QSO_BAL,100,density=True)\n",
    "plt.xlabel('Redshift')\n",
    "plt.title('QSO_BAL')"
   ]
  },
  {
   "cell_type": "code",
   "execution_count": 19,
   "metadata": {
    "scrolled": false
   },
   "outputs": [
    {
     "name": "stdout",
     "output_type": "stream",
     "text": [
      "Filename: data_dr12.fits\n",
      "No.    Name      Ver    Type      Cards   Dimensions   Format\n",
      "  0  PRIMARY       1 PrimaryHDU       8   (886, 639464)   float64   \n",
      "  1                1 BinTableHDU     16   639464R x 4C   [J, J, J, J]   \n",
      "[<astropy.io.fits.hdu.image.PrimaryHDU object at 0x7f93bf688550>, <astropy.io.fits.hdu.table.BinTableHDU object at 0x7f94d597a6a0>] /n ColDefs(\n",
      "    name = 'TARGETID'; format = 'J'\n",
      "    name = 'PLATE'; format = 'J'\n",
      "    name = 'MJD'; format = 'J'\n",
      "    name = 'FIBERID'; format = 'J'\n",
      ")\n",
      "[ 87897905  96906927  96907939 ... 505037917 506611870 510289698]\n"
     ]
    },
    {
     "name": "stderr",
     "output_type": "stream",
     "text": [
      "/home/steingate/anaconda3/lib/python3.7/site-packages/ipykernel_launcher.py:24: RuntimeWarning: invalid value encountered in log\n"
     ]
    },
    {
     "name": "stdout",
     "output_type": "stream",
     "text": [
      "['000000.18+282535.8' '000000.22+275753.3' '000000.28-073054.8' ...\n",
      " '235959.80+274621.3' '235959.83+344315.0' '235959.98+344449.6']\n"
     ]
    },
    {
     "data": {
      "image/png": "[encoded data removed]",
      "text/plain": [
       "<Figure size 432x288 with 1 Axes>"
      ]
     },
     "metadata": {
      "needs_background": "light"
     },
     "output_type": "display_data"
    }
   ],
   "source": [
    "# Reading data from data_dr12.fits. This file had the spectra from data dr12. \n",
    "hdul_2 = fits.open('data_dr12.fits') # Open file\n",
    "info=hdul_2.info() # File info \n",
    "columns=hdul_2[1].columns # File Columns \n",
    "print(hdul,'/n',columns)\n",
    "data2=hdul_2[1].data # Database of spectra\n",
    "spectra=hdul_2[0].data # Spectrum of each object \n",
    "\n",
    "\n",
    "# The Spectra in this database have three main parameters: Plate ID, The modified julian day and fiber ID of the observation.\n",
    "# Let's take a look of the first spectrum.\n",
    "x=np.linspace(443,886,443) # I cut the sample to 443 pixels in spaced log-wavelength.  \n",
    "zero_spectrum=spectra[0] #First spectrum\n",
    "zero_spectrum=zero_spectrum[:443]\n",
    "\n",
    "PLATE=data2['PLATE'] # Spectra's Plate ID\n",
    "MJD=data2['MJD'] # Spectra's the modified juliam day\n",
    "FIBERID=data2['FIBERID'] # Spectra's fiber ID\n",
    "\n",
    "zero_plate=PLATE[0] # zero spectrum Plate ID\n",
    "zero_mjd=MJD[0] # zero spectrum MJD\n",
    "zero_fiberid=FIBERID[0] # zero spectrum Fiber ID\n",
    "param = 'Plate = {:.2f}, mjd = {:.2f}, fiberid={:.2f}'.format(zero_plate, zero_mjd, zero_fiberid)\n",
    "plt.plot(x,np.log(zero_spectrum))\n",
    "plt.xlabel(r'$\\lambda$ [nm]')\n",
    "plt.ylabel('Log-Flux [arb. units]')\n",
    "plt.title(param)\n",
    "plt.savefig('spectrum.png')\n",
    "\n",
    "# I noticed that each object and spectrum don't have the same label. So it's imposible to make some ID correlations.  \n",
    "print(data2['TARGETID'])\n",
    "print(data['SDSS_NAME'])\n",
    "# So, in orden to make a correlation betwen identified object and spectrum we need to use all three parameters (Plate ID, MJD, FiberID)"
   ]
  },
  {
   "cell_type": "code",
   "execution_count": 22,
   "metadata": {},
   "outputs": [
    {
     "name": "stdout",
     "output_type": "stream",
     "text": [
      "Number of Plates use in both datasets: (2401,)\n",
      "Number of MJD use in both datasets: (681,)\n",
      "Number of FIBERID use in both datasets: (1000,)\n"
     ]
    }
   ],
   "source": [
    "######################__________________Report 02__________________######################\n",
    "\n",
    "## This week I pretend to find some correaltions betwen objects with human-expert classification and spretum from DR12\n",
    "\n",
    "# Subset of PLATE parameters of both data\n",
    "data_PLATE_1=data['PLATE']\n",
    "data_PLATE_2=data2['PLATE']\n",
    "\n",
    "# Subset of MJD parameters of both data\n",
    "data_MJD_1=data['MJD']\n",
    "data_MJD_2=data2['MJD']\n",
    "\n",
    "# Subset of FIBERID parameters of both data\n",
    "data_FIBERID_1=data['FIBERID']\n",
    "data_FIBERID_2=data2['FIBERID']\n",
    "\n",
    "# I make here an intersecting set for all three parameters (PLATE, MJD, FIBERID) in both data.\n",
    "data_PLATE_CO=np.intersect1d(data_PLATE_1,data_PLATE_2)\n",
    "data_MJD_CO=np.intersect1d(data_MJD_1,data_MJD_2)\n",
    "data_FIBERID_CO=np.intersect1d(data_FIBERID_1,data_FIBERID_2)\n",
    "\n",
    "# As we can see, in both database, there is a correlation betwen the number of Plates, the modified julian day and the Fiber ID. \n",
    "print('Number of Plates use in both datasets:',data_PLATE_CO.shape)\n",
    "print('Number of MJD use in both datasets:',data_MJD_CO.shape)\n",
    "print('Number of FIBERID use in both datasets:',data_FIBERID_CO.shape)\n",
    "#print(data_PLATE_1.dtype)"
   ]
  },
  {
   "cell_type": "code",
   "execution_count": 23,
   "metadata": {
    "scrolled": true
   },
   "outputs": [],
   "source": [
    "# I create two DataFrame for Superset_DR12Q and data_dr12 with only three parameters\n",
    "data={'PLATE':data_PLATE_1,'MJD':data_MJD_1,'FIBERID':data_FIBERID_1}\n",
    "data=pd.DataFrame(data=data)\n",
    "\n",
    "data2={'PLATE':data_PLATE_2,'MJD':data_MJD_2,'FIBERID':data_FIBERID_2}\n",
    "data2=pd.DataFrame(data=data2)"
   ]
  },
  {
   "cell_type": "code",
   "execution_count": 24,
   "metadata": {
    "scrolled": true
   },
   "outputs": [
    {
     "name": "stdout",
     "output_type": "stream",
     "text": [
      "(546856, 1)\n",
      "(639464, 1)\n"
     ]
    }
   ],
   "source": [
    "# I convert all objects in both set to string chain in orden to combine them as one new ID.\n",
    "data['PLATE']=data['PLATE'].astype(str)\n",
    "data['MJD']=data['MJD'].astype(str)\n",
    "data['FIBERID']=data['FIBERID'].astype(str)\n",
    "data['PM'] = data['PLATE'].str.cat(data['MJD'],sep=\"-\")\n",
    "data['NEWID'] = data['PM'].str.cat(data['FIBERID'],sep=\"-\")\n",
    "data_1=data.drop(columns=['PLATE','MJD','FIBERID','PM']).values # New set of database 2 with new ID's\n",
    "print(data_1.shape)\n",
    "\n",
    "data2['PLATE']=data2['PLATE'].astype(str)\n",
    "data2['MJD']=data2['MJD'].astype(str)\n",
    "data2['FIBERID']=data2['FIBERID'].astype(str)\n",
    "data2['PM'] = data2['PLATE'].str.cat(data2['MJD'],sep=\"-\")\n",
    "data2['NEWID'] = data2['PM'].str.cat(data2['FIBERID'],sep=\"-\")\n",
    "data_2=data2.drop(columns=['PLATE','MJD','FIBERID','PM']).values # New set of database 2 with new ID's\n",
    "print(data_2.shape)\n"
   ]
  },
  {
   "cell_type": "code",
   "execution_count": 25,
   "metadata": {},
   "outputs": [
    {
     "name": "stdout",
     "output_type": "stream",
     "text": [
      "I find 537677 objects with their spectrum from DR12\n"
     ]
    }
   ],
   "source": [
    "# With the routine of numpy intersect1d, I find the intersections elements in both sets. This elements  \n",
    "data_CO=np.array(np.intersect1d(data_1,data_2,return_indices=True))\n",
    "\n",
    "data_CO_objects=data_CO[0] # The unique new ID of each element in both sets\n",
    "data_CO_ind1=data_CO[1] # Indices of intersected elements from the original data 1 (Superset_DR12Q.fits) \n",
    "data_CO_ind2=data_CO[2] # Indices of intersected elements form the original data 2 (data_dr12.fits)\n",
    "print('I find',len(data_CO_objects),'objects with their spectrum from DR12')"
   ]
  },
  {
   "cell_type": "code",
   "execution_count": 28,
   "metadata": {
    "scrolled": true
   },
   "outputs": [
    {
     "name": "stdout",
     "output_type": "stream",
     "text": [
      "[[3.57405338e+08 1.00000000e+00 0.00000000e+00 3.00000000e+00]\n",
      " [3.53907506e+08 1.00000000e+00 0.00000000e+00 3.00000000e+00]\n",
      " [3.31808140e+07 1.00000000e+00 0.00000000e+00 3.00000000e+00]\n",
      " ...\n",
      " [3.52121795e+08 1.00000000e+00 0.00000000e+00 3.00000000e+00]\n",
      " [4.01440280e+08 3.00000000e+00 3.10900000e+00 3.00000000e+00]\n",
      " [4.01440241e+08 3.00000000e+01 2.37500000e+00 3.00000000e+00]]\n"
     ]
    }
   ],
   "source": [
    "# Now that I know which object have a spectrum. I can make a unique database of objects and spectra\n",
    "hdul = fits.open('Superset_DR12Q.fits')\n",
    "data=hdul[1].data\n",
    "\n",
    "ti=data['THING_ID']\n",
    "cp=data['CLASS_PERSON']\n",
    "z=data['Z_VI']\n",
    "zc=data['Z_CONF_PERSON']\n",
    "d={'THING_ID':ti,'CLASS_PERSON':cp,'Z_VI':z,'Z_CONF_PERSON':zc}\n",
    "data_0=pd.DataFrame(data=d).values #super database\n",
    "\n",
    "print(data_0)"
   ]
  },
  {
   "cell_type": "code",
   "execution_count": null,
   "metadata": {},
   "outputs": [],
   "source": []
  },
  {
   "cell_type": "code",
   "execution_count": null,
   "metadata": {},
   "outputs": [],
   "source": []
  },
  {
   "cell_type": "code",
   "execution_count": null,
   "metadata": {},
   "outputs": [],
   "source": []
  },
  {
   "cell_type": "code",
   "execution_count": null,
   "metadata": {},
   "outputs": [],
   "source": [
    "\n",
    "\n",
    "\n",
    "\n",
    "\n"
   ]
  },
  {
   "cell_type": "code",
   "execution_count": null,
   "metadata": {},
   "outputs": [],
   "source": []
  },
  {
   "cell_type": "code",
   "execution_count": null,
   "metadata": {},
   "outputs": [],
   "source": [
    "\n",
    "    \n"
   ]
  },
  {
   "cell_type": "code",
   "execution_count": null,
   "metadata": {},
   "outputs": [],
   "source": []
  },
  {
   "cell_type": "code",
   "execution_count": null,
   "metadata": {},
   "outputs": [],
   "source": []
  },
  {
   "cell_type": "code",
   "execution_count": null,
   "metadata": {},
   "outputs": [],
   "source": []
  },
  {
   "cell_type": "code",
   "execution_count": null,
   "metadata": {},
   "outputs": [],
   "source": []
  }
 ],
 "metadata": {
  "kernelspec": {
   "display_name": "Python 3",
   "language": "python",
   "name": "python3"
  },
  "language_info": {
   "codemirror_mode": {
    "name": "ipython",
    "version": 3
   },
   "file_extension": ".py",
   "mimetype": "text/x-python",
   "name": "python",
   "nbconvert_exporter": "python",
   "pygments_lexer": "ipython3",
   "version": "3.7.1"
  }
 },
 "nbformat": 4,
 "nbformat_minor": 2
}
